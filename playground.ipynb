{
 "cells": [
  {
   "cell_type": "code",
   "execution_count": 1,
   "metadata": {
    "collapsed": false
   },
   "outputs": [
    {
     "data": {
      "text/html": [
       "<script>\n",
       "    code_show=false;\n",
       "    function code_toggle() {\n",
       "     if (code_show){\n",
       "     $('div.input').hide();\n",
       "     } else {\n",
       "     $('div.input').show();\n",
       "     }\n",
       "     code_show = !code_show\n",
       "    }\n",
       "    $( document ).ready(code_toggle);\n",
       "    </script>\n",
       "    <form action=\"javascript:code_toggle()\"><input type=\"submit\" value=\"Click here to toggle on/off the raw code.\"></form>"
      ],
      "text/plain": [
       "<IPython.core.display.HTML object>"
      ]
     },
     "metadata": {},
     "output_type": "display_data"
    },
    {
     "data": {
      "text/html": [
       "<script type='text/javascript'>function generate_toc_content(){var all_headers=$(\"#notebook\").find(\":header\");var toc=\"\";var level=0;var min_level=3;all_headers.each(function(i,h){var openLevel=parseInt(h.tagName.slice(1),10);if(openLevel>min_level){return;}\n",
       "var titleText=$(h).clone().children().remove().end().text();if(openLevel>level){toc+=(new Array(openLevel-level+1)).join(\"<ol class='toc-item unstyle'>\");}else if(openLevel<level){toc+=(new Array(level-openLevel+1)).join('</li></ol>');}else{toc+=(new Array(level+1)).join('</li>');}\n",
       "level=parseInt(openLevel);var anchor=$(h).attr('id');toc+='<li><a href=\"#'+anchor+'\">'+titleText\n",
       "+'</a>';});if(level){toc+=(new Array(level+1)).join('</ol>');}\n",
       "return toc}\n",
       "function show_list_number(){$(\"#toc ol\").toggleClass('unstyle');$(\"#toc ol\").toggleClass('nested');$(\"#toc li\").toggleClass('nested');};var create_toc_div=function(){var toc_wrapper=$('<div id=\"toc-wrapper\"/>').append($(\"<div/>\",{class:'header',text:'Contents '}).append($(\"<a/>\",{id:'toc-reload-btn',href:'#',title:'Reload ToC',text:\"  \\u21BB\"}).click(function(){create_toc();return false;})).append($(\"<a/>\",{id:'display-heading-number-btn',href:'#',title:'Number text sections',text:'#'}).click(function(){show_list_number();}))).append($(\"<div/>\",{id:\"toc\"}));$('<div/>',{class:'col-md-2',id:'toc-column'}).append(toc_wrapper).insertBefore('#notebook-container');};var toggle_toc=function(){$(\"#toc-column\").toggle({duration:0,complete:function(){$('#notebook-container').toggleClass(\"col-md-9\").toggleClass(\"col-md-10 col-md-offset-1\");}});};var init_toc_container=function(){if($(\"#toc_button\").length===0){if(typeof IPython!=\"undefined\"){IPython.toolbar.add_buttons_group([{'label':'Table of Contents','icon':'fa-list','callback':toggle_toc,'id':'toc_button'}]);}}\n",
       "create_toc_div();$('#notebook').addClass('row');$('#notebook-container').addClass('col-md-9').removeClass('container');};var create_toc=function(){var ToC=generate_toc_content();$(\"#toc\").empty().append(ToC);};$(document).ready(function(){if(!$('#notebook').hasClass('row')){init_toc_container()}\n",
       "if(typeof IPython!=\"undefined\"){$([IPython.events]).on(\"rendered.MarkdownCell\",function(){create_toc();});}\n",
       "create_toc();});</script><style media='screen' type='text/css'>#toc {    height: 100%;}#toc > .toc-item {    padding: 0;    margin:  0;}#toc .toc-item .toc-item{  padding-left: 10px;}.toc-item.unstyle {    list-style-type: none;}ol.nested{    counter-reset: item}li.nested{    display: block}li.nested:before{    content: counters(item, \".\") \". \";    counter-increment: item}#ipython-main-app #toc-wrapper{    height: 85%;}#toc-wrapper {    height: 95%;    padding: 10px;    position: fixed;    max-width: 200px;    background-color: #fff;    opacity: .8;    overflow: scroll;}#toc-wrapper.closed {  min-width: 100px;  width: auto;  height:auto;  /*transition: width;*/}#toc-wrapper:hover{  opacity: 1;}#toc-wrapper .header {  font-size: 18px;  font-weight: bold;}#toc-wrapper .hide-btn {  font-size: 14px;  font-family: monospace;}#toc-reload-btn, #display-heading-number-btn {    font-size: 14px;    font-family: monospace;    margin-right: 10px;}.nav .active a {  color: black; }</style>"
      ],
      "text/plain": [
       "<IPython.core.display.HTML object>"
      ]
     },
     "metadata": {},
     "output_type": "display_data"
    }
   ],
   "source": [
    "%matplotlib inline\n",
    "%load_ext autoreload\n",
    "%autoreload 2\n",
    "\n",
    "# from __future__ import division\n",
    "from import_file import *\n",
    "from helpers.parallel_helper import *\n",
    "load_libs()"
   ]
  },
  {
   "cell_type": "code",
   "execution_count": 8,
   "metadata": {
    "collapsed": false
   },
   "outputs": [
    {
     "name": "stdout",
     "output_type": "stream",
     "text": [
      "0.4\n",
      "0.5\n",
      "0.6\n",
      "0.7\n",
      "0.8\n",
      "0.9\n"
     ]
    }
   ],
   "source": [
    "for i in arange(0.4,1,0.1):\n",
    "    print(i)"
   ]
  },
  {
   "cell_type": "code",
   "execution_count": 6,
   "metadata": {
    "collapsed": false
   },
   "outputs": [
    {
     "data": {
      "text/html": [
       "<div>\n",
       "<table border=\"1\" class=\"dataframe\">\n",
       "  <thead>\n",
       "    <tr style=\"text-align: right;\">\n",
       "      <th></th>\n",
       "      <th>0</th>\n",
       "      <th>1</th>\n",
       "      <th>2</th>\n",
       "    </tr>\n",
       "  </thead>\n",
       "  <tbody>\n",
       "    <tr>\n",
       "      <th>2</th>\n",
       "      <td>1</td>\n",
       "      <td>2</td>\n",
       "      <td>3</td>\n",
       "    </tr>\n",
       "    <tr>\n",
       "      <th>5</th>\n",
       "      <td>2</td>\n",
       "      <td>3</td>\n",
       "      <td>4</td>\n",
       "    </tr>\n",
       "  </tbody>\n",
       "</table>\n",
       "</div>"
      ],
      "text/plain": [
       "   0  1  2\n",
       "2  1  2  3\n",
       "5  2  3  4"
      ]
     },
     "execution_count": 6,
     "metadata": {},
     "output_type": "execute_result"
    }
   ],
   "source": [
    "pd.DataFrame([[1,2,3], [2,3,4]], index=[2,5])"
   ]
  },
  {
   "cell_type": "code",
   "execution_count": 45,
   "metadata": {
    "collapsed": true
   },
   "outputs": [],
   "source": [
    "file_path='10_metre_surface.csv'\n",
    "df = pd.read_csv(file_path, header=0, skipinitialspace=True)"
   ]
  },
  {
   "cell_type": "code",
   "execution_count": 46,
   "metadata": {
    "collapsed": false
   },
   "outputs": [
    {
     "data": {
      "text/html": [
       "<div>\n",
       "<table border=\"1\" class=\"dataframe\">\n",
       "  <thead>\n",
       "    <tr style=\"text-align: right;\">\n",
       "      <th></th>\n",
       "      <th>time</th>\n",
       "      <th>lat</th>\n",
       "      <th>lon</th>\n",
       "      <th>U</th>\n",
       "      <th>V</th>\n",
       "    </tr>\n",
       "  </thead>\n",
       "  <tbody>\n",
       "    <tr>\n",
       "      <th>0</th>\n",
       "      <td>0</td>\n",
       "      <td>49.000004</td>\n",
       "      <td>9</td>\n",
       "      <td>5.259441</td>\n",
       "      <td>-3.808680</td>\n",
       "    </tr>\n",
       "    <tr>\n",
       "      <th>1</th>\n",
       "      <td>6</td>\n",
       "      <td>49.000004</td>\n",
       "      <td>9</td>\n",
       "      <td>3.885094</td>\n",
       "      <td>-4.099794</td>\n",
       "    </tr>\n",
       "    <tr>\n",
       "      <th>2</th>\n",
       "      <td>12</td>\n",
       "      <td>49.000004</td>\n",
       "      <td>9</td>\n",
       "      <td>3.586332</td>\n",
       "      <td>-4.292035</td>\n",
       "    </tr>\n",
       "    <tr>\n",
       "      <th>3</th>\n",
       "      <td>18</td>\n",
       "      <td>49.000004</td>\n",
       "      <td>9</td>\n",
       "      <td>3.146370</td>\n",
       "      <td>-2.069498</td>\n",
       "    </tr>\n",
       "    <tr>\n",
       "      <th>4</th>\n",
       "      <td>24</td>\n",
       "      <td>49.000004</td>\n",
       "      <td>9</td>\n",
       "      <td>3.158253</td>\n",
       "      <td>-2.541553</td>\n",
       "    </tr>\n",
       "    <tr>\n",
       "      <th>5</th>\n",
       "      <td>30</td>\n",
       "      <td>49.000004</td>\n",
       "      <td>9</td>\n",
       "      <td>3.091016</td>\n",
       "      <td>-0.526533</td>\n",
       "    </tr>\n",
       "    <tr>\n",
       "      <th>6</th>\n",
       "      <td>36</td>\n",
       "      <td>49.000004</td>\n",
       "      <td>9</td>\n",
       "      <td>4.692710</td>\n",
       "      <td>0.467602</td>\n",
       "    </tr>\n",
       "    <tr>\n",
       "      <th>7</th>\n",
       "      <td>42</td>\n",
       "      <td>49.000004</td>\n",
       "      <td>9</td>\n",
       "      <td>2.537054</td>\n",
       "      <td>3.812231</td>\n",
       "    </tr>\n",
       "    <tr>\n",
       "      <th>8</th>\n",
       "      <td>48</td>\n",
       "      <td>49.000004</td>\n",
       "      <td>9</td>\n",
       "      <td>2.143074</td>\n",
       "      <td>-0.380564</td>\n",
       "    </tr>\n",
       "    <tr>\n",
       "      <th>9</th>\n",
       "      <td>54</td>\n",
       "      <td>49.000004</td>\n",
       "      <td>9</td>\n",
       "      <td>1.758084</td>\n",
       "      <td>-2.064261</td>\n",
       "    </tr>\n",
       "    <tr>\n",
       "      <th>10</th>\n",
       "      <td>60</td>\n",
       "      <td>49.000004</td>\n",
       "      <td>9</td>\n",
       "      <td>4.451693</td>\n",
       "      <td>0.259116</td>\n",
       "    </tr>\n",
       "    <tr>\n",
       "      <th>11</th>\n",
       "      <td>66</td>\n",
       "      <td>49.000004</td>\n",
       "      <td>9</td>\n",
       "      <td>2.091751</td>\n",
       "      <td>1.274903</td>\n",
       "    </tr>\n",
       "    <tr>\n",
       "      <th>12</th>\n",
       "      <td>72</td>\n",
       "      <td>49.000004</td>\n",
       "      <td>9</td>\n",
       "      <td>-0.837700</td>\n",
       "      <td>2.594853</td>\n",
       "    </tr>\n",
       "    <tr>\n",
       "      <th>13</th>\n",
       "      <td>78</td>\n",
       "      <td>49.000004</td>\n",
       "      <td>9</td>\n",
       "      <td>-3.462572</td>\n",
       "      <td>0.308320</td>\n",
       "    </tr>\n",
       "    <tr>\n",
       "      <th>14</th>\n",
       "      <td>84</td>\n",
       "      <td>49.000004</td>\n",
       "      <td>9</td>\n",
       "      <td>-4.776464</td>\n",
       "      <td>-0.662784</td>\n",
       "    </tr>\n",
       "    <tr>\n",
       "      <th>15</th>\n",
       "      <td>90</td>\n",
       "      <td>49.000004</td>\n",
       "      <td>9</td>\n",
       "      <td>-4.009622</td>\n",
       "      <td>-1.636163</td>\n",
       "    </tr>\n",
       "    <tr>\n",
       "      <th>16</th>\n",
       "      <td>96</td>\n",
       "      <td>49.000004</td>\n",
       "      <td>9</td>\n",
       "      <td>-2.882386</td>\n",
       "      <td>-0.995608</td>\n",
       "    </tr>\n",
       "    <tr>\n",
       "      <th>17</th>\n",
       "      <td>102</td>\n",
       "      <td>49.000004</td>\n",
       "      <td>9</td>\n",
       "      <td>-3.125946</td>\n",
       "      <td>-0.634004</td>\n",
       "    </tr>\n",
       "    <tr>\n",
       "      <th>18</th>\n",
       "      <td>108</td>\n",
       "      <td>49.000004</td>\n",
       "      <td>9</td>\n",
       "      <td>-3.668369</td>\n",
       "      <td>-0.749048</td>\n",
       "    </tr>\n",
       "    <tr>\n",
       "      <th>19</th>\n",
       "      <td>114</td>\n",
       "      <td>49.000004</td>\n",
       "      <td>9</td>\n",
       "      <td>-2.947110</td>\n",
       "      <td>-0.399206</td>\n",
       "    </tr>\n",
       "    <tr>\n",
       "      <th>20</th>\n",
       "      <td>120</td>\n",
       "      <td>49.000004</td>\n",
       "      <td>9</td>\n",
       "      <td>-2.820947</td>\n",
       "      <td>-0.215523</td>\n",
       "    </tr>\n",
       "    <tr>\n",
       "      <th>21</th>\n",
       "      <td>126</td>\n",
       "      <td>49.000004</td>\n",
       "      <td>9</td>\n",
       "      <td>-2.005646</td>\n",
       "      <td>-0.159345</td>\n",
       "    </tr>\n",
       "    <tr>\n",
       "      <th>22</th>\n",
       "      <td>132</td>\n",
       "      <td>49.000004</td>\n",
       "      <td>9</td>\n",
       "      <td>-0.984459</td>\n",
       "      <td>0.249097</td>\n",
       "    </tr>\n",
       "    <tr>\n",
       "      <th>23</th>\n",
       "      <td>138</td>\n",
       "      <td>49.000004</td>\n",
       "      <td>9</td>\n",
       "      <td>-2.198173</td>\n",
       "      <td>0.174083</td>\n",
       "    </tr>\n",
       "    <tr>\n",
       "      <th>24</th>\n",
       "      <td>144</td>\n",
       "      <td>49.000004</td>\n",
       "      <td>9</td>\n",
       "      <td>-1.331763</td>\n",
       "      <td>2.051945</td>\n",
       "    </tr>\n",
       "    <tr>\n",
       "      <th>25</th>\n",
       "      <td>150</td>\n",
       "      <td>49.000004</td>\n",
       "      <td>9</td>\n",
       "      <td>-1.656956</td>\n",
       "      <td>2.358913</td>\n",
       "    </tr>\n",
       "    <tr>\n",
       "      <th>26</th>\n",
       "      <td>156</td>\n",
       "      <td>49.000004</td>\n",
       "      <td>9</td>\n",
       "      <td>-0.226722</td>\n",
       "      <td>1.779520</td>\n",
       "    </tr>\n",
       "    <tr>\n",
       "      <th>27</th>\n",
       "      <td>162</td>\n",
       "      <td>49.000004</td>\n",
       "      <td>9</td>\n",
       "      <td>1.040112</td>\n",
       "      <td>2.626732</td>\n",
       "    </tr>\n",
       "    <tr>\n",
       "      <th>28</th>\n",
       "      <td>168</td>\n",
       "      <td>49.000004</td>\n",
       "      <td>9</td>\n",
       "      <td>1.723644</td>\n",
       "      <td>2.469735</td>\n",
       "    </tr>\n",
       "    <tr>\n",
       "      <th>29</th>\n",
       "      <td>174</td>\n",
       "      <td>49.000004</td>\n",
       "      <td>9</td>\n",
       "      <td>1.334214</td>\n",
       "      <td>2.708086</td>\n",
       "    </tr>\n",
       "    <tr>\n",
       "      <th>...</th>\n",
       "      <td>...</td>\n",
       "      <td>...</td>\n",
       "      <td>...</td>\n",
       "      <td>...</td>\n",
       "      <td>...</td>\n",
       "    </tr>\n",
       "    <tr>\n",
       "      <th>55614</th>\n",
       "      <td>333684</td>\n",
       "      <td>49.000004</td>\n",
       "      <td>9</td>\n",
       "      <td>-1.175126</td>\n",
       "      <td>-1.526905</td>\n",
       "    </tr>\n",
       "    <tr>\n",
       "      <th>55615</th>\n",
       "      <td>333690</td>\n",
       "      <td>49.000004</td>\n",
       "      <td>9</td>\n",
       "      <td>-1.572231</td>\n",
       "      <td>-1.041986</td>\n",
       "    </tr>\n",
       "    <tr>\n",
       "      <th>55616</th>\n",
       "      <td>333696</td>\n",
       "      <td>49.000004</td>\n",
       "      <td>9</td>\n",
       "      <td>-2.171187</td>\n",
       "      <td>-0.242198</td>\n",
       "    </tr>\n",
       "    <tr>\n",
       "      <th>55617</th>\n",
       "      <td>333702</td>\n",
       "      <td>49.000004</td>\n",
       "      <td>9</td>\n",
       "      <td>-2.240311</td>\n",
       "      <td>-0.192910</td>\n",
       "    </tr>\n",
       "    <tr>\n",
       "      <th>55618</th>\n",
       "      <td>333708</td>\n",
       "      <td>49.000004</td>\n",
       "      <td>9</td>\n",
       "      <td>-4.472687</td>\n",
       "      <td>0.300002</td>\n",
       "    </tr>\n",
       "    <tr>\n",
       "      <th>55619</th>\n",
       "      <td>333714</td>\n",
       "      <td>49.000004</td>\n",
       "      <td>9</td>\n",
       "      <td>-1.326900</td>\n",
       "      <td>1.074772</td>\n",
       "    </tr>\n",
       "    <tr>\n",
       "      <th>55620</th>\n",
       "      <td>333720</td>\n",
       "      <td>49.000004</td>\n",
       "      <td>9</td>\n",
       "      <td>-2.832052</td>\n",
       "      <td>1.082505</td>\n",
       "    </tr>\n",
       "    <tr>\n",
       "      <th>55621</th>\n",
       "      <td>333726</td>\n",
       "      <td>49.000004</td>\n",
       "      <td>9</td>\n",
       "      <td>-1.442935</td>\n",
       "      <td>1.804380</td>\n",
       "    </tr>\n",
       "    <tr>\n",
       "      <th>55622</th>\n",
       "      <td>333732</td>\n",
       "      <td>49.000004</td>\n",
       "      <td>9</td>\n",
       "      <td>-2.538780</td>\n",
       "      <td>0.811714</td>\n",
       "    </tr>\n",
       "    <tr>\n",
       "      <th>55623</th>\n",
       "      <td>333738</td>\n",
       "      <td>49.000004</td>\n",
       "      <td>9</td>\n",
       "      <td>-2.085619</td>\n",
       "      <td>2.217385</td>\n",
       "    </tr>\n",
       "    <tr>\n",
       "      <th>55624</th>\n",
       "      <td>333744</td>\n",
       "      <td>49.000004</td>\n",
       "      <td>9</td>\n",
       "      <td>-2.213448</td>\n",
       "      <td>2.297133</td>\n",
       "    </tr>\n",
       "    <tr>\n",
       "      <th>55625</th>\n",
       "      <td>333750</td>\n",
       "      <td>49.000004</td>\n",
       "      <td>9</td>\n",
       "      <td>-1.664686</td>\n",
       "      <td>1.795107</td>\n",
       "    </tr>\n",
       "    <tr>\n",
       "      <th>55626</th>\n",
       "      <td>333756</td>\n",
       "      <td>49.000004</td>\n",
       "      <td>9</td>\n",
       "      <td>-1.535803</td>\n",
       "      <td>0.656180</td>\n",
       "    </tr>\n",
       "    <tr>\n",
       "      <th>55627</th>\n",
       "      <td>333762</td>\n",
       "      <td>49.000004</td>\n",
       "      <td>9</td>\n",
       "      <td>-2.608135</td>\n",
       "      <td>0.519905</td>\n",
       "    </tr>\n",
       "    <tr>\n",
       "      <th>55628</th>\n",
       "      <td>333768</td>\n",
       "      <td>49.000004</td>\n",
       "      <td>9</td>\n",
       "      <td>-2.094699</td>\n",
       "      <td>1.592822</td>\n",
       "    </tr>\n",
       "    <tr>\n",
       "      <th>55629</th>\n",
       "      <td>333774</td>\n",
       "      <td>49.000004</td>\n",
       "      <td>9</td>\n",
       "      <td>-0.310671</td>\n",
       "      <td>2.813739</td>\n",
       "    </tr>\n",
       "    <tr>\n",
       "      <th>55630</th>\n",
       "      <td>333780</td>\n",
       "      <td>49.000004</td>\n",
       "      <td>9</td>\n",
       "      <td>-0.116953</td>\n",
       "      <td>1.428000</td>\n",
       "    </tr>\n",
       "    <tr>\n",
       "      <th>55631</th>\n",
       "      <td>333786</td>\n",
       "      <td>49.000004</td>\n",
       "      <td>9</td>\n",
       "      <td>-1.346227</td>\n",
       "      <td>1.969069</td>\n",
       "    </tr>\n",
       "    <tr>\n",
       "      <th>55632</th>\n",
       "      <td>333792</td>\n",
       "      <td>49.000004</td>\n",
       "      <td>9</td>\n",
       "      <td>-0.286408</td>\n",
       "      <td>2.359851</td>\n",
       "    </tr>\n",
       "    <tr>\n",
       "      <th>55633</th>\n",
       "      <td>333798</td>\n",
       "      <td>49.000004</td>\n",
       "      <td>9</td>\n",
       "      <td>0.699931</td>\n",
       "      <td>2.058898</td>\n",
       "    </tr>\n",
       "    <tr>\n",
       "      <th>55634</th>\n",
       "      <td>333804</td>\n",
       "      <td>49.000004</td>\n",
       "      <td>9</td>\n",
       "      <td>1.706397</td>\n",
       "      <td>2.423789</td>\n",
       "    </tr>\n",
       "    <tr>\n",
       "      <th>55635</th>\n",
       "      <td>333810</td>\n",
       "      <td>49.000004</td>\n",
       "      <td>9</td>\n",
       "      <td>0.587296</td>\n",
       "      <td>3.253506</td>\n",
       "    </tr>\n",
       "    <tr>\n",
       "      <th>55636</th>\n",
       "      <td>333816</td>\n",
       "      <td>49.000004</td>\n",
       "      <td>9</td>\n",
       "      <td>-0.606992</td>\n",
       "      <td>2.310125</td>\n",
       "    </tr>\n",
       "    <tr>\n",
       "      <th>55637</th>\n",
       "      <td>333822</td>\n",
       "      <td>49.000004</td>\n",
       "      <td>9</td>\n",
       "      <td>1.585480</td>\n",
       "      <td>3.372918</td>\n",
       "    </tr>\n",
       "    <tr>\n",
       "      <th>55638</th>\n",
       "      <td>333828</td>\n",
       "      <td>49.000004</td>\n",
       "      <td>9</td>\n",
       "      <td>3.014062</td>\n",
       "      <td>5.057781</td>\n",
       "    </tr>\n",
       "    <tr>\n",
       "      <th>55639</th>\n",
       "      <td>333834</td>\n",
       "      <td>49.000004</td>\n",
       "      <td>9</td>\n",
       "      <td>5.853421</td>\n",
       "      <td>3.654260</td>\n",
       "    </tr>\n",
       "    <tr>\n",
       "      <th>55640</th>\n",
       "      <td>333840</td>\n",
       "      <td>49.000004</td>\n",
       "      <td>9</td>\n",
       "      <td>5.213885</td>\n",
       "      <td>2.478627</td>\n",
       "    </tr>\n",
       "    <tr>\n",
       "      <th>55641</th>\n",
       "      <td>333846</td>\n",
       "      <td>49.000004</td>\n",
       "      <td>9</td>\n",
       "      <td>3.404497</td>\n",
       "      <td>0.317427</td>\n",
       "    </tr>\n",
       "    <tr>\n",
       "      <th>55642</th>\n",
       "      <td>333852</td>\n",
       "      <td>49.000004</td>\n",
       "      <td>9</td>\n",
       "      <td>1.938069</td>\n",
       "      <td>-1.535589</td>\n",
       "    </tr>\n",
       "    <tr>\n",
       "      <th>55643</th>\n",
       "      <td>333858</td>\n",
       "      <td>49.000004</td>\n",
       "      <td>9</td>\n",
       "      <td>-1.800206</td>\n",
       "      <td>-2.176666</td>\n",
       "    </tr>\n",
       "  </tbody>\n",
       "</table>\n",
       "<p>55644 rows × 5 columns</p>\n",
       "</div>"
      ],
      "text/plain": [
       "         time        lat  lon         U         V\n",
       "0           0  49.000004    9  5.259441 -3.808680\n",
       "1           6  49.000004    9  3.885094 -4.099794\n",
       "2          12  49.000004    9  3.586332 -4.292035\n",
       "3          18  49.000004    9  3.146370 -2.069498\n",
       "4          24  49.000004    9  3.158253 -2.541553\n",
       "5          30  49.000004    9  3.091016 -0.526533\n",
       "6          36  49.000004    9  4.692710  0.467602\n",
       "7          42  49.000004    9  2.537054  3.812231\n",
       "8          48  49.000004    9  2.143074 -0.380564\n",
       "9          54  49.000004    9  1.758084 -2.064261\n",
       "10         60  49.000004    9  4.451693  0.259116\n",
       "11         66  49.000004    9  2.091751  1.274903\n",
       "12         72  49.000004    9 -0.837700  2.594853\n",
       "13         78  49.000004    9 -3.462572  0.308320\n",
       "14         84  49.000004    9 -4.776464 -0.662784\n",
       "15         90  49.000004    9 -4.009622 -1.636163\n",
       "16         96  49.000004    9 -2.882386 -0.995608\n",
       "17        102  49.000004    9 -3.125946 -0.634004\n",
       "18        108  49.000004    9 -3.668369 -0.749048\n",
       "19        114  49.000004    9 -2.947110 -0.399206\n",
       "20        120  49.000004    9 -2.820947 -0.215523\n",
       "21        126  49.000004    9 -2.005646 -0.159345\n",
       "22        132  49.000004    9 -0.984459  0.249097\n",
       "23        138  49.000004    9 -2.198173  0.174083\n",
       "24        144  49.000004    9 -1.331763  2.051945\n",
       "25        150  49.000004    9 -1.656956  2.358913\n",
       "26        156  49.000004    9 -0.226722  1.779520\n",
       "27        162  49.000004    9  1.040112  2.626732\n",
       "28        168  49.000004    9  1.723644  2.469735\n",
       "29        174  49.000004    9  1.334214  2.708086\n",
       "...       ...        ...  ...       ...       ...\n",
       "55614  333684  49.000004    9 -1.175126 -1.526905\n",
       "55615  333690  49.000004    9 -1.572231 -1.041986\n",
       "55616  333696  49.000004    9 -2.171187 -0.242198\n",
       "55617  333702  49.000004    9 -2.240311 -0.192910\n",
       "55618  333708  49.000004    9 -4.472687  0.300002\n",
       "55619  333714  49.000004    9 -1.326900  1.074772\n",
       "55620  333720  49.000004    9 -2.832052  1.082505\n",
       "55621  333726  49.000004    9 -1.442935  1.804380\n",
       "55622  333732  49.000004    9 -2.538780  0.811714\n",
       "55623  333738  49.000004    9 -2.085619  2.217385\n",
       "55624  333744  49.000004    9 -2.213448  2.297133\n",
       "55625  333750  49.000004    9 -1.664686  1.795107\n",
       "55626  333756  49.000004    9 -1.535803  0.656180\n",
       "55627  333762  49.000004    9 -2.608135  0.519905\n",
       "55628  333768  49.000004    9 -2.094699  1.592822\n",
       "55629  333774  49.000004    9 -0.310671  2.813739\n",
       "55630  333780  49.000004    9 -0.116953  1.428000\n",
       "55631  333786  49.000004    9 -1.346227  1.969069\n",
       "55632  333792  49.000004    9 -0.286408  2.359851\n",
       "55633  333798  49.000004    9  0.699931  2.058898\n",
       "55634  333804  49.000004    9  1.706397  2.423789\n",
       "55635  333810  49.000004    9  0.587296  3.253506\n",
       "55636  333816  49.000004    9 -0.606992  2.310125\n",
       "55637  333822  49.000004    9  1.585480  3.372918\n",
       "55638  333828  49.000004    9  3.014062  5.057781\n",
       "55639  333834  49.000004    9  5.853421  3.654260\n",
       "55640  333840  49.000004    9  5.213885  2.478627\n",
       "55641  333846  49.000004    9  3.404497  0.317427\n",
       "55642  333852  49.000004    9  1.938069 -1.535589\n",
       "55643  333858  49.000004    9 -1.800206 -2.176666\n",
       "\n",
       "[55644 rows x 5 columns]"
      ]
     },
     "execution_count": 46,
     "metadata": {},
     "output_type": "execute_result"
    }
   ],
   "source": [
    "df"
   ]
  },
  {
   "cell_type": "code",
   "execution_count": 47,
   "metadata": {
    "collapsed": false
   },
   "outputs": [],
   "source": [
    "df['speed']=np.sqrt(df.U**2+df.V**2)\n",
    "df['dir']=np.degrees(np.arctan2(df.V, df.U))%360\n",
    "df['time']=pd.to_datetime('1979-01-01T00:00:00Z')+pd.to_timedelta(df['time'], unit='h')\n",
    "df['date']=df['time'].dt.strftime('%Y%m%d')\n",
    "df['HrMn']=df['time'].dt.strftime('%H%m')\n",
    "df.set_index(['time'], inplace=True)"
   ]
  },
  {
   "cell_type": "code",
   "execution_count": 51,
   "metadata": {
    "collapsed": false
   },
   "outputs": [
    {
     "data": {
      "text/plain": [
       "time\n",
       "1979-01-01 00:00:00    0001\n",
       "1979-01-01 06:00:00    0601\n",
       "1979-01-01 12:00:00    1201\n",
       "1979-01-01 18:00:00    1801\n",
       "1979-01-02 00:00:00    0001\n",
       "1979-01-02 06:00:00    0601\n",
       "1979-01-02 12:00:00    1201\n",
       "1979-01-02 18:00:00    1801\n",
       "1979-01-03 00:00:00    0001\n",
       "1979-01-03 06:00:00    0601\n",
       "1979-01-03 12:00:00    1201\n",
       "1979-01-03 18:00:00    1801\n",
       "1979-01-04 00:00:00    0001\n",
       "1979-01-04 06:00:00    0601\n",
       "1979-01-04 12:00:00    1201\n",
       "1979-01-04 18:00:00    1801\n",
       "1979-01-05 00:00:00    0001\n",
       "1979-01-05 06:00:00    0601\n",
       "1979-01-05 12:00:00    1201\n",
       "1979-01-05 18:00:00    1801\n",
       "1979-01-06 00:00:00    0001\n",
       "1979-01-06 06:00:00    0601\n",
       "1979-01-06 12:00:00    1201\n",
       "1979-01-06 18:00:00    1801\n",
       "1979-01-07 00:00:00    0001\n",
       "1979-01-07 06:00:00    0601\n",
       "1979-01-07 12:00:00    1201\n",
       "1979-01-07 18:00:00    1801\n",
       "1979-01-08 00:00:00    0001\n",
       "1979-01-08 06:00:00    0601\n",
       "                       ... \n",
       "2017-01-24 12:00:00    1201\n",
       "2017-01-24 18:00:00    1801\n",
       "2017-01-25 00:00:00    0001\n",
       "2017-01-25 06:00:00    0601\n",
       "2017-01-25 12:00:00    1201\n",
       "2017-01-25 18:00:00    1801\n",
       "2017-01-26 00:00:00    0001\n",
       "2017-01-26 06:00:00    0601\n",
       "2017-01-26 12:00:00    1201\n",
       "2017-01-26 18:00:00    1801\n",
       "2017-01-27 00:00:00    0001\n",
       "2017-01-27 06:00:00    0601\n",
       "2017-01-27 12:00:00    1201\n",
       "2017-01-27 18:00:00    1801\n",
       "2017-01-28 00:00:00    0001\n",
       "2017-01-28 06:00:00    0601\n",
       "2017-01-28 12:00:00    1201\n",
       "2017-01-28 18:00:00    1801\n",
       "2017-01-29 00:00:00    0001\n",
       "2017-01-29 06:00:00    0601\n",
       "2017-01-29 12:00:00    1201\n",
       "2017-01-29 18:00:00    1801\n",
       "2017-01-30 00:00:00    0001\n",
       "2017-01-30 06:00:00    0601\n",
       "2017-01-30 12:00:00    1201\n",
       "2017-01-30 18:00:00    1801\n",
       "2017-01-31 00:00:00    0001\n",
       "2017-01-31 06:00:00    0601\n",
       "2017-01-31 12:00:00    1201\n",
       "2017-01-31 18:00:00    1801\n",
       "Name: HrMn, dtype: object"
      ]
     },
     "execution_count": 51,
     "metadata": {},
     "output_type": "execute_result"
    }
   ],
   "source": [
    "df['HrMn']"
   ]
  },
  {
   "cell_type": "code",
   "execution_count": 48,
   "metadata": {
    "collapsed": false
   },
   "outputs": [
    {
     "data": {
      "text/html": [
       "<div>\n",
       "<table border=\"1\" class=\"dataframe\">\n",
       "  <thead>\n",
       "    <tr style=\"text-align: right;\">\n",
       "      <th></th>\n",
       "      <th>lat</th>\n",
       "      <th>lon</th>\n",
       "      <th>U</th>\n",
       "      <th>V</th>\n",
       "      <th>speed</th>\n",
       "      <th>dir</th>\n",
       "      <th>date</th>\n",
       "      <th>HrMn</th>\n",
       "    </tr>\n",
       "    <tr>\n",
       "      <th>time</th>\n",
       "      <th></th>\n",
       "      <th></th>\n",
       "      <th></th>\n",
       "      <th></th>\n",
       "      <th></th>\n",
       "      <th></th>\n",
       "      <th></th>\n",
       "      <th></th>\n",
       "    </tr>\n",
       "  </thead>\n",
       "  <tbody>\n",
       "    <tr>\n",
       "      <th>2010-01-01 00:00:00</th>\n",
       "      <td>49.000004</td>\n",
       "      <td>9</td>\n",
       "      <td>1.561162</td>\n",
       "      <td>1.667712</td>\n",
       "      <td>2.284401</td>\n",
       "      <td>46.890020</td>\n",
       "      <td>20100101</td>\n",
       "      <td>0001</td>\n",
       "    </tr>\n",
       "    <tr>\n",
       "      <th>2010-01-01 06:00:00</th>\n",
       "      <td>49.000004</td>\n",
       "      <td>9</td>\n",
       "      <td>1.184088</td>\n",
       "      <td>0.323958</td>\n",
       "      <td>1.227605</td>\n",
       "      <td>15.301284</td>\n",
       "      <td>20100101</td>\n",
       "      <td>0601</td>\n",
       "    </tr>\n",
       "    <tr>\n",
       "      <th>2010-01-01 12:00:00</th>\n",
       "      <td>49.000004</td>\n",
       "      <td>9</td>\n",
       "      <td>0.426554</td>\n",
       "      <td>-2.236505</td>\n",
       "      <td>2.276819</td>\n",
       "      <td>280.797957</td>\n",
       "      <td>20100101</td>\n",
       "      <td>1201</td>\n",
       "    </tr>\n",
       "    <tr>\n",
       "      <th>2010-01-01 18:00:00</th>\n",
       "      <td>49.000004</td>\n",
       "      <td>9</td>\n",
       "      <td>2.149226</td>\n",
       "      <td>-2.508585</td>\n",
       "      <td>3.303358</td>\n",
       "      <td>310.588264</td>\n",
       "      <td>20100101</td>\n",
       "      <td>1801</td>\n",
       "    </tr>\n",
       "    <tr>\n",
       "      <th>2010-01-02 00:00:00</th>\n",
       "      <td>49.000004</td>\n",
       "      <td>9</td>\n",
       "      <td>4.565861</td>\n",
       "      <td>-1.634767</td>\n",
       "      <td>4.849695</td>\n",
       "      <td>340.300536</td>\n",
       "      <td>20100102</td>\n",
       "      <td>0001</td>\n",
       "    </tr>\n",
       "    <tr>\n",
       "      <th>2010-01-02 06:00:00</th>\n",
       "      <td>49.000004</td>\n",
       "      <td>9</td>\n",
       "      <td>4.028004</td>\n",
       "      <td>-1.651730</td>\n",
       "      <td>4.353507</td>\n",
       "      <td>337.703350</td>\n",
       "      <td>20100102</td>\n",
       "      <td>0601</td>\n",
       "    </tr>\n",
       "    <tr>\n",
       "      <th>2010-01-02 12:00:00</th>\n",
       "      <td>49.000004</td>\n",
       "      <td>9</td>\n",
       "      <td>4.586672</td>\n",
       "      <td>-2.108181</td>\n",
       "      <td>5.047969</td>\n",
       "      <td>335.314977</td>\n",
       "      <td>20100102</td>\n",
       "      <td>1201</td>\n",
       "    </tr>\n",
       "    <tr>\n",
       "      <th>2010-01-02 18:00:00</th>\n",
       "      <td>49.000004</td>\n",
       "      <td>9</td>\n",
       "      <td>2.392981</td>\n",
       "      <td>1.614456</td>\n",
       "      <td>2.886664</td>\n",
       "      <td>34.006085</td>\n",
       "      <td>20100102</td>\n",
       "      <td>1801</td>\n",
       "    </tr>\n",
       "    <tr>\n",
       "      <th>2010-01-03 00:00:00</th>\n",
       "      <td>49.000004</td>\n",
       "      <td>9</td>\n",
       "      <td>3.257946</td>\n",
       "      <td>1.726940</td>\n",
       "      <td>3.687348</td>\n",
       "      <td>27.926731</td>\n",
       "      <td>20100103</td>\n",
       "      <td>0001</td>\n",
       "    </tr>\n",
       "    <tr>\n",
       "      <th>2010-01-03 06:00:00</th>\n",
       "      <td>49.000004</td>\n",
       "      <td>9</td>\n",
       "      <td>3.259711</td>\n",
       "      <td>2.862007</td>\n",
       "      <td>4.337834</td>\n",
       "      <td>41.282940</td>\n",
       "      <td>20100103</td>\n",
       "      <td>0601</td>\n",
       "    </tr>\n",
       "    <tr>\n",
       "      <th>2010-01-03 12:00:00</th>\n",
       "      <td>49.000004</td>\n",
       "      <td>9</td>\n",
       "      <td>5.187844</td>\n",
       "      <td>2.568044</td>\n",
       "      <td>5.788659</td>\n",
       "      <td>26.335949</td>\n",
       "      <td>20100103</td>\n",
       "      <td>1201</td>\n",
       "    </tr>\n",
       "    <tr>\n",
       "      <th>2010-01-03 18:00:00</th>\n",
       "      <td>49.000004</td>\n",
       "      <td>9</td>\n",
       "      <td>1.538478</td>\n",
       "      <td>-0.007168</td>\n",
       "      <td>1.538495</td>\n",
       "      <td>359.733039</td>\n",
       "      <td>20100103</td>\n",
       "      <td>1801</td>\n",
       "    </tr>\n",
       "    <tr>\n",
       "      <th>2010-01-04 00:00:00</th>\n",
       "      <td>49.000004</td>\n",
       "      <td>9</td>\n",
       "      <td>-0.382180</td>\n",
       "      <td>-0.797953</td>\n",
       "      <td>0.884754</td>\n",
       "      <td>244.407864</td>\n",
       "      <td>20100104</td>\n",
       "      <td>0001</td>\n",
       "    </tr>\n",
       "    <tr>\n",
       "      <th>2010-01-04 06:00:00</th>\n",
       "      <td>49.000004</td>\n",
       "      <td>9</td>\n",
       "      <td>-1.490608</td>\n",
       "      <td>-1.864583</td>\n",
       "      <td>2.387170</td>\n",
       "      <td>231.360025</td>\n",
       "      <td>20100104</td>\n",
       "      <td>0601</td>\n",
       "    </tr>\n",
       "    <tr>\n",
       "      <th>2010-01-04 12:00:00</th>\n",
       "      <td>49.000004</td>\n",
       "      <td>9</td>\n",
       "      <td>-0.324277</td>\n",
       "      <td>-1.675383</td>\n",
       "      <td>1.706477</td>\n",
       "      <td>259.045637</td>\n",
       "      <td>20100104</td>\n",
       "      <td>1201</td>\n",
       "    </tr>\n",
       "    <tr>\n",
       "      <th>2010-01-04 18:00:00</th>\n",
       "      <td>49.000004</td>\n",
       "      <td>9</td>\n",
       "      <td>-0.386549</td>\n",
       "      <td>-2.960641</td>\n",
       "      <td>2.985769</td>\n",
       "      <td>262.561391</td>\n",
       "      <td>20100104</td>\n",
       "      <td>1801</td>\n",
       "    </tr>\n",
       "    <tr>\n",
       "      <th>2010-01-05 00:00:00</th>\n",
       "      <td>49.000004</td>\n",
       "      <td>9</td>\n",
       "      <td>-2.127766</td>\n",
       "      <td>-0.496769</td>\n",
       "      <td>2.184987</td>\n",
       "      <td>193.141431</td>\n",
       "      <td>20100105</td>\n",
       "      <td>0001</td>\n",
       "    </tr>\n",
       "    <tr>\n",
       "      <th>2010-01-05 06:00:00</th>\n",
       "      <td>49.000004</td>\n",
       "      <td>9</td>\n",
       "      <td>-2.417638</td>\n",
       "      <td>0.092152</td>\n",
       "      <td>2.419393</td>\n",
       "      <td>177.817140</td>\n",
       "      <td>20100105</td>\n",
       "      <td>0601</td>\n",
       "    </tr>\n",
       "    <tr>\n",
       "      <th>2010-01-05 12:00:00</th>\n",
       "      <td>49.000004</td>\n",
       "      <td>9</td>\n",
       "      <td>-2.072745</td>\n",
       "      <td>-0.138202</td>\n",
       "      <td>2.077348</td>\n",
       "      <td>183.814589</td>\n",
       "      <td>20100105</td>\n",
       "      <td>1201</td>\n",
       "    </tr>\n",
       "    <tr>\n",
       "      <th>2010-01-05 18:00:00</th>\n",
       "      <td>49.000004</td>\n",
       "      <td>9</td>\n",
       "      <td>-1.599817</td>\n",
       "      <td>-0.206526</td>\n",
       "      <td>1.613093</td>\n",
       "      <td>187.355836</td>\n",
       "      <td>20100105</td>\n",
       "      <td>1801</td>\n",
       "    </tr>\n",
       "    <tr>\n",
       "      <th>2010-01-06 00:00:00</th>\n",
       "      <td>49.000004</td>\n",
       "      <td>9</td>\n",
       "      <td>-1.692970</td>\n",
       "      <td>-0.584200</td>\n",
       "      <td>1.790932</td>\n",
       "      <td>199.038222</td>\n",
       "      <td>20100106</td>\n",
       "      <td>0001</td>\n",
       "    </tr>\n",
       "    <tr>\n",
       "      <th>2010-01-06 06:00:00</th>\n",
       "      <td>49.000004</td>\n",
       "      <td>9</td>\n",
       "      <td>-0.578733</td>\n",
       "      <td>-0.652139</td>\n",
       "      <td>0.871904</td>\n",
       "      <td>228.412931</td>\n",
       "      <td>20100106</td>\n",
       "      <td>0601</td>\n",
       "    </tr>\n",
       "    <tr>\n",
       "      <th>2010-01-06 12:00:00</th>\n",
       "      <td>49.000004</td>\n",
       "      <td>9</td>\n",
       "      <td>1.612452</td>\n",
       "      <td>0.321719</td>\n",
       "      <td>1.644233</td>\n",
       "      <td>11.283572</td>\n",
       "      <td>20100106</td>\n",
       "      <td>1201</td>\n",
       "    </tr>\n",
       "    <tr>\n",
       "      <th>2010-01-06 18:00:00</th>\n",
       "      <td>49.000004</td>\n",
       "      <td>9</td>\n",
       "      <td>1.006295</td>\n",
       "      <td>-0.391626</td>\n",
       "      <td>1.079815</td>\n",
       "      <td>338.735227</td>\n",
       "      <td>20100106</td>\n",
       "      <td>1801</td>\n",
       "    </tr>\n",
       "    <tr>\n",
       "      <th>2010-01-07 00:00:00</th>\n",
       "      <td>49.000004</td>\n",
       "      <td>9</td>\n",
       "      <td>1.264190</td>\n",
       "      <td>1.057781</td>\n",
       "      <td>1.648356</td>\n",
       "      <td>39.920121</td>\n",
       "      <td>20100107</td>\n",
       "      <td>0001</td>\n",
       "    </tr>\n",
       "    <tr>\n",
       "      <th>2010-01-07 06:00:00</th>\n",
       "      <td>49.000004</td>\n",
       "      <td>9</td>\n",
       "      <td>-1.198887</td>\n",
       "      <td>1.553223</td>\n",
       "      <td>1.962099</td>\n",
       "      <td>127.663494</td>\n",
       "      <td>20100107</td>\n",
       "      <td>0601</td>\n",
       "    </tr>\n",
       "    <tr>\n",
       "      <th>2010-01-07 12:00:00</th>\n",
       "      <td>49.000004</td>\n",
       "      <td>9</td>\n",
       "      <td>-0.809651</td>\n",
       "      <td>1.415846</td>\n",
       "      <td>1.630998</td>\n",
       "      <td>119.763070</td>\n",
       "      <td>20100107</td>\n",
       "      <td>1201</td>\n",
       "    </tr>\n",
       "    <tr>\n",
       "      <th>2010-01-07 18:00:00</th>\n",
       "      <td>49.000004</td>\n",
       "      <td>9</td>\n",
       "      <td>-2.578731</td>\n",
       "      <td>0.418298</td>\n",
       "      <td>2.612437</td>\n",
       "      <td>170.786268</td>\n",
       "      <td>20100107</td>\n",
       "      <td>1801</td>\n",
       "    </tr>\n",
       "    <tr>\n",
       "      <th>2010-01-08 00:00:00</th>\n",
       "      <td>49.000004</td>\n",
       "      <td>9</td>\n",
       "      <td>-1.924254</td>\n",
       "      <td>-0.795157</td>\n",
       "      <td>2.082073</td>\n",
       "      <td>202.451835</td>\n",
       "      <td>20100108</td>\n",
       "      <td>0001</td>\n",
       "    </tr>\n",
       "    <tr>\n",
       "      <th>2010-01-08 06:00:00</th>\n",
       "      <td>49.000004</td>\n",
       "      <td>9</td>\n",
       "      <td>-4.123618</td>\n",
       "      <td>-2.997429</td>\n",
       "      <td>5.097922</td>\n",
       "      <td>216.013140</td>\n",
       "      <td>20100108</td>\n",
       "      <td>0601</td>\n",
       "    </tr>\n",
       "    <tr>\n",
       "      <th>...</th>\n",
       "      <td>...</td>\n",
       "      <td>...</td>\n",
       "      <td>...</td>\n",
       "      <td>...</td>\n",
       "      <td>...</td>\n",
       "      <td>...</td>\n",
       "      <td>...</td>\n",
       "      <td>...</td>\n",
       "    </tr>\n",
       "    <tr>\n",
       "      <th>2014-12-24 12:00:00</th>\n",
       "      <td>49.000004</td>\n",
       "      <td>9</td>\n",
       "      <td>6.682200</td>\n",
       "      <td>4.620086</td>\n",
       "      <td>8.123853</td>\n",
       "      <td>34.660054</td>\n",
       "      <td>20141224</td>\n",
       "      <td>1212</td>\n",
       "    </tr>\n",
       "    <tr>\n",
       "      <th>2014-12-24 18:00:00</th>\n",
       "      <td>49.000004</td>\n",
       "      <td>9</td>\n",
       "      <td>6.522496</td>\n",
       "      <td>4.162698</td>\n",
       "      <td>7.737636</td>\n",
       "      <td>32.546275</td>\n",
       "      <td>20141224</td>\n",
       "      <td>1812</td>\n",
       "    </tr>\n",
       "    <tr>\n",
       "      <th>2014-12-25 00:00:00</th>\n",
       "      <td>49.000004</td>\n",
       "      <td>9</td>\n",
       "      <td>7.695989</td>\n",
       "      <td>3.068561</td>\n",
       "      <td>8.285186</td>\n",
       "      <td>21.738261</td>\n",
       "      <td>20141225</td>\n",
       "      <td>0012</td>\n",
       "    </tr>\n",
       "    <tr>\n",
       "      <th>2014-12-25 06:00:00</th>\n",
       "      <td>49.000004</td>\n",
       "      <td>9</td>\n",
       "      <td>3.476152</td>\n",
       "      <td>0.236320</td>\n",
       "      <td>3.484176</td>\n",
       "      <td>3.889170</td>\n",
       "      <td>20141225</td>\n",
       "      <td>0612</td>\n",
       "    </tr>\n",
       "    <tr>\n",
       "      <th>2014-12-25 12:00:00</th>\n",
       "      <td>49.000004</td>\n",
       "      <td>9</td>\n",
       "      <td>5.387080</td>\n",
       "      <td>0.299315</td>\n",
       "      <td>5.395389</td>\n",
       "      <td>3.180174</td>\n",
       "      <td>20141225</td>\n",
       "      <td>1212</td>\n",
       "    </tr>\n",
       "    <tr>\n",
       "      <th>2014-12-25 18:00:00</th>\n",
       "      <td>49.000004</td>\n",
       "      <td>9</td>\n",
       "      <td>5.682882</td>\n",
       "      <td>0.916583</td>\n",
       "      <td>5.756325</td>\n",
       "      <td>9.162241</td>\n",
       "      <td>20141225</td>\n",
       "      <td>1812</td>\n",
       "    </tr>\n",
       "    <tr>\n",
       "      <th>2014-12-26 00:00:00</th>\n",
       "      <td>49.000004</td>\n",
       "      <td>9</td>\n",
       "      <td>4.593159</td>\n",
       "      <td>-0.465515</td>\n",
       "      <td>4.616688</td>\n",
       "      <td>354.212851</td>\n",
       "      <td>20141226</td>\n",
       "      <td>0012</td>\n",
       "    </tr>\n",
       "    <tr>\n",
       "      <th>2014-12-26 06:00:00</th>\n",
       "      <td>49.000004</td>\n",
       "      <td>9</td>\n",
       "      <td>3.053719</td>\n",
       "      <td>-0.046327</td>\n",
       "      <td>3.054070</td>\n",
       "      <td>359.130849</td>\n",
       "      <td>20141226</td>\n",
       "      <td>0612</td>\n",
       "    </tr>\n",
       "    <tr>\n",
       "      <th>2014-12-26 12:00:00</th>\n",
       "      <td>49.000004</td>\n",
       "      <td>9</td>\n",
       "      <td>3.169979</td>\n",
       "      <td>-1.473641</td>\n",
       "      <td>3.495767</td>\n",
       "      <td>335.067500</td>\n",
       "      <td>20141226</td>\n",
       "      <td>1212</td>\n",
       "    </tr>\n",
       "    <tr>\n",
       "      <th>2014-12-26 18:00:00</th>\n",
       "      <td>49.000004</td>\n",
       "      <td>9</td>\n",
       "      <td>1.767329</td>\n",
       "      <td>0.997875</td>\n",
       "      <td>2.029583</td>\n",
       "      <td>29.450090</td>\n",
       "      <td>20141226</td>\n",
       "      <td>1812</td>\n",
       "    </tr>\n",
       "    <tr>\n",
       "      <th>2014-12-27 00:00:00</th>\n",
       "      <td>49.000004</td>\n",
       "      <td>9</td>\n",
       "      <td>-0.371254</td>\n",
       "      <td>2.193549</td>\n",
       "      <td>2.224744</td>\n",
       "      <td>99.606171</td>\n",
       "      <td>20141227</td>\n",
       "      <td>0012</td>\n",
       "    </tr>\n",
       "    <tr>\n",
       "      <th>2014-12-27 06:00:00</th>\n",
       "      <td>49.000004</td>\n",
       "      <td>9</td>\n",
       "      <td>-3.447349</td>\n",
       "      <td>4.558336</td>\n",
       "      <td>5.715124</td>\n",
       "      <td>127.099248</td>\n",
       "      <td>20141227</td>\n",
       "      <td>0612</td>\n",
       "    </tr>\n",
       "    <tr>\n",
       "      <th>2014-12-27 12:00:00</th>\n",
       "      <td>49.000004</td>\n",
       "      <td>9</td>\n",
       "      <td>1.030971</td>\n",
       "      <td>5.884927</td>\n",
       "      <td>5.974552</td>\n",
       "      <td>80.063276</td>\n",
       "      <td>20141227</td>\n",
       "      <td>1212</td>\n",
       "    </tr>\n",
       "    <tr>\n",
       "      <th>2014-12-27 18:00:00</th>\n",
       "      <td>49.000004</td>\n",
       "      <td>9</td>\n",
       "      <td>3.038263</td>\n",
       "      <td>3.502560</td>\n",
       "      <td>4.636698</td>\n",
       "      <td>49.060296</td>\n",
       "      <td>20141227</td>\n",
       "      <td>1812</td>\n",
       "    </tr>\n",
       "    <tr>\n",
       "      <th>2014-12-28 00:00:00</th>\n",
       "      <td>49.000004</td>\n",
       "      <td>9</td>\n",
       "      <td>0.072527</td>\n",
       "      <td>-0.301393</td>\n",
       "      <td>0.309997</td>\n",
       "      <td>283.530317</td>\n",
       "      <td>20141228</td>\n",
       "      <td>0012</td>\n",
       "    </tr>\n",
       "    <tr>\n",
       "      <th>2014-12-28 06:00:00</th>\n",
       "      <td>49.000004</td>\n",
       "      <td>9</td>\n",
       "      <td>-5.177480</td>\n",
       "      <td>-5.361930</td>\n",
       "      <td>7.453629</td>\n",
       "      <td>226.002632</td>\n",
       "      <td>20141228</td>\n",
       "      <td>0612</td>\n",
       "    </tr>\n",
       "    <tr>\n",
       "      <th>2014-12-28 12:00:00</th>\n",
       "      <td>49.000004</td>\n",
       "      <td>9</td>\n",
       "      <td>-5.937380</td>\n",
       "      <td>-5.199245</td>\n",
       "      <td>7.892062</td>\n",
       "      <td>221.207987</td>\n",
       "      <td>20141228</td>\n",
       "      <td>1212</td>\n",
       "    </tr>\n",
       "    <tr>\n",
       "      <th>2014-12-28 18:00:00</th>\n",
       "      <td>49.000004</td>\n",
       "      <td>9</td>\n",
       "      <td>-2.781113</td>\n",
       "      <td>-2.967123</td>\n",
       "      <td>4.066744</td>\n",
       "      <td>226.853419</td>\n",
       "      <td>20141228</td>\n",
       "      <td>1812</td>\n",
       "    </tr>\n",
       "    <tr>\n",
       "      <th>2014-12-29 00:00:00</th>\n",
       "      <td>49.000004</td>\n",
       "      <td>9</td>\n",
       "      <td>0.110886</td>\n",
       "      <td>-2.044892</td>\n",
       "      <td>2.047897</td>\n",
       "      <td>273.103861</td>\n",
       "      <td>20141229</td>\n",
       "      <td>0012</td>\n",
       "    </tr>\n",
       "    <tr>\n",
       "      <th>2014-12-29 06:00:00</th>\n",
       "      <td>49.000004</td>\n",
       "      <td>9</td>\n",
       "      <td>3.645445</td>\n",
       "      <td>3.059917</td>\n",
       "      <td>4.759449</td>\n",
       "      <td>40.009455</td>\n",
       "      <td>20141229</td>\n",
       "      <td>0612</td>\n",
       "    </tr>\n",
       "    <tr>\n",
       "      <th>2014-12-29 12:00:00</th>\n",
       "      <td>49.000004</td>\n",
       "      <td>9</td>\n",
       "      <td>6.073805</td>\n",
       "      <td>-0.939285</td>\n",
       "      <td>6.146004</td>\n",
       "      <td>351.209115</td>\n",
       "      <td>20141229</td>\n",
       "      <td>1212</td>\n",
       "    </tr>\n",
       "    <tr>\n",
       "      <th>2014-12-29 18:00:00</th>\n",
       "      <td>49.000004</td>\n",
       "      <td>9</td>\n",
       "      <td>1.677185</td>\n",
       "      <td>-1.009885</td>\n",
       "      <td>1.957758</td>\n",
       "      <td>328.946557</td>\n",
       "      <td>20141229</td>\n",
       "      <td>1812</td>\n",
       "    </tr>\n",
       "    <tr>\n",
       "      <th>2014-12-30 00:00:00</th>\n",
       "      <td>49.000004</td>\n",
       "      <td>9</td>\n",
       "      <td>0.780558</td>\n",
       "      <td>-1.033926</td>\n",
       "      <td>1.295482</td>\n",
       "      <td>307.050825</td>\n",
       "      <td>20141230</td>\n",
       "      <td>0012</td>\n",
       "    </tr>\n",
       "    <tr>\n",
       "      <th>2014-12-30 06:00:00</th>\n",
       "      <td>49.000004</td>\n",
       "      <td>9</td>\n",
       "      <td>3.380927</td>\n",
       "      <td>1.202079</td>\n",
       "      <td>3.588267</td>\n",
       "      <td>19.572694</td>\n",
       "      <td>20141230</td>\n",
       "      <td>0612</td>\n",
       "    </tr>\n",
       "    <tr>\n",
       "      <th>2014-12-30 12:00:00</th>\n",
       "      <td>49.000004</td>\n",
       "      <td>9</td>\n",
       "      <td>3.913222</td>\n",
       "      <td>-1.081221</td>\n",
       "      <td>4.059846</td>\n",
       "      <td>344.554561</td>\n",
       "      <td>20141230</td>\n",
       "      <td>1212</td>\n",
       "    </tr>\n",
       "    <tr>\n",
       "      <th>2014-12-30 18:00:00</th>\n",
       "      <td>49.000004</td>\n",
       "      <td>9</td>\n",
       "      <td>2.291652</td>\n",
       "      <td>-0.497362</td>\n",
       "      <td>2.345003</td>\n",
       "      <td>347.754873</td>\n",
       "      <td>20141230</td>\n",
       "      <td>1812</td>\n",
       "    </tr>\n",
       "    <tr>\n",
       "      <th>2014-12-31 00:00:00</th>\n",
       "      <td>49.000004</td>\n",
       "      <td>9</td>\n",
       "      <td>1.543722</td>\n",
       "      <td>0.046186</td>\n",
       "      <td>1.544413</td>\n",
       "      <td>1.713695</td>\n",
       "      <td>20141231</td>\n",
       "      <td>0012</td>\n",
       "    </tr>\n",
       "    <tr>\n",
       "      <th>2014-12-31 06:00:00</th>\n",
       "      <td>49.000004</td>\n",
       "      <td>9</td>\n",
       "      <td>1.443767</td>\n",
       "      <td>0.257921</td>\n",
       "      <td>1.466625</td>\n",
       "      <td>10.128733</td>\n",
       "      <td>20141231</td>\n",
       "      <td>0612</td>\n",
       "    </tr>\n",
       "    <tr>\n",
       "      <th>2014-12-31 12:00:00</th>\n",
       "      <td>49.000004</td>\n",
       "      <td>9</td>\n",
       "      <td>1.716039</td>\n",
       "      <td>-0.902308</td>\n",
       "      <td>1.938801</td>\n",
       "      <td>332.264235</td>\n",
       "      <td>20141231</td>\n",
       "      <td>1212</td>\n",
       "    </tr>\n",
       "    <tr>\n",
       "      <th>2014-12-31 18:00:00</th>\n",
       "      <td>49.000004</td>\n",
       "      <td>9</td>\n",
       "      <td>0.659715</td>\n",
       "      <td>0.736575</td>\n",
       "      <td>0.988821</td>\n",
       "      <td>48.150733</td>\n",
       "      <td>20141231</td>\n",
       "      <td>1812</td>\n",
       "    </tr>\n",
       "  </tbody>\n",
       "</table>\n",
       "<p>7304 rows × 8 columns</p>\n",
       "</div>"
      ],
      "text/plain": [
       "                           lat  lon         U         V     speed         dir  \\\n",
       "time                                                                            \n",
       "2010-01-01 00:00:00  49.000004    9  1.561162  1.667712  2.284401   46.890020   \n",
       "2010-01-01 06:00:00  49.000004    9  1.184088  0.323958  1.227605   15.301284   \n",
       "2010-01-01 12:00:00  49.000004    9  0.426554 -2.236505  2.276819  280.797957   \n",
       "2010-01-01 18:00:00  49.000004    9  2.149226 -2.508585  3.303358  310.588264   \n",
       "2010-01-02 00:00:00  49.000004    9  4.565861 -1.634767  4.849695  340.300536   \n",
       "2010-01-02 06:00:00  49.000004    9  4.028004 -1.651730  4.353507  337.703350   \n",
       "2010-01-02 12:00:00  49.000004    9  4.586672 -2.108181  5.047969  335.314977   \n",
       "2010-01-02 18:00:00  49.000004    9  2.392981  1.614456  2.886664   34.006085   \n",
       "2010-01-03 00:00:00  49.000004    9  3.257946  1.726940  3.687348   27.926731   \n",
       "2010-01-03 06:00:00  49.000004    9  3.259711  2.862007  4.337834   41.282940   \n",
       "2010-01-03 12:00:00  49.000004    9  5.187844  2.568044  5.788659   26.335949   \n",
       "2010-01-03 18:00:00  49.000004    9  1.538478 -0.007168  1.538495  359.733039   \n",
       "2010-01-04 00:00:00  49.000004    9 -0.382180 -0.797953  0.884754  244.407864   \n",
       "2010-01-04 06:00:00  49.000004    9 -1.490608 -1.864583  2.387170  231.360025   \n",
       "2010-01-04 12:00:00  49.000004    9 -0.324277 -1.675383  1.706477  259.045637   \n",
       "2010-01-04 18:00:00  49.000004    9 -0.386549 -2.960641  2.985769  262.561391   \n",
       "2010-01-05 00:00:00  49.000004    9 -2.127766 -0.496769  2.184987  193.141431   \n",
       "2010-01-05 06:00:00  49.000004    9 -2.417638  0.092152  2.419393  177.817140   \n",
       "2010-01-05 12:00:00  49.000004    9 -2.072745 -0.138202  2.077348  183.814589   \n",
       "2010-01-05 18:00:00  49.000004    9 -1.599817 -0.206526  1.613093  187.355836   \n",
       "2010-01-06 00:00:00  49.000004    9 -1.692970 -0.584200  1.790932  199.038222   \n",
       "2010-01-06 06:00:00  49.000004    9 -0.578733 -0.652139  0.871904  228.412931   \n",
       "2010-01-06 12:00:00  49.000004    9  1.612452  0.321719  1.644233   11.283572   \n",
       "2010-01-06 18:00:00  49.000004    9  1.006295 -0.391626  1.079815  338.735227   \n",
       "2010-01-07 00:00:00  49.000004    9  1.264190  1.057781  1.648356   39.920121   \n",
       "2010-01-07 06:00:00  49.000004    9 -1.198887  1.553223  1.962099  127.663494   \n",
       "2010-01-07 12:00:00  49.000004    9 -0.809651  1.415846  1.630998  119.763070   \n",
       "2010-01-07 18:00:00  49.000004    9 -2.578731  0.418298  2.612437  170.786268   \n",
       "2010-01-08 00:00:00  49.000004    9 -1.924254 -0.795157  2.082073  202.451835   \n",
       "2010-01-08 06:00:00  49.000004    9 -4.123618 -2.997429  5.097922  216.013140   \n",
       "...                        ...  ...       ...       ...       ...         ...   \n",
       "2014-12-24 12:00:00  49.000004    9  6.682200  4.620086  8.123853   34.660054   \n",
       "2014-12-24 18:00:00  49.000004    9  6.522496  4.162698  7.737636   32.546275   \n",
       "2014-12-25 00:00:00  49.000004    9  7.695989  3.068561  8.285186   21.738261   \n",
       "2014-12-25 06:00:00  49.000004    9  3.476152  0.236320  3.484176    3.889170   \n",
       "2014-12-25 12:00:00  49.000004    9  5.387080  0.299315  5.395389    3.180174   \n",
       "2014-12-25 18:00:00  49.000004    9  5.682882  0.916583  5.756325    9.162241   \n",
       "2014-12-26 00:00:00  49.000004    9  4.593159 -0.465515  4.616688  354.212851   \n",
       "2014-12-26 06:00:00  49.000004    9  3.053719 -0.046327  3.054070  359.130849   \n",
       "2014-12-26 12:00:00  49.000004    9  3.169979 -1.473641  3.495767  335.067500   \n",
       "2014-12-26 18:00:00  49.000004    9  1.767329  0.997875  2.029583   29.450090   \n",
       "2014-12-27 00:00:00  49.000004    9 -0.371254  2.193549  2.224744   99.606171   \n",
       "2014-12-27 06:00:00  49.000004    9 -3.447349  4.558336  5.715124  127.099248   \n",
       "2014-12-27 12:00:00  49.000004    9  1.030971  5.884927  5.974552   80.063276   \n",
       "2014-12-27 18:00:00  49.000004    9  3.038263  3.502560  4.636698   49.060296   \n",
       "2014-12-28 00:00:00  49.000004    9  0.072527 -0.301393  0.309997  283.530317   \n",
       "2014-12-28 06:00:00  49.000004    9 -5.177480 -5.361930  7.453629  226.002632   \n",
       "2014-12-28 12:00:00  49.000004    9 -5.937380 -5.199245  7.892062  221.207987   \n",
       "2014-12-28 18:00:00  49.000004    9 -2.781113 -2.967123  4.066744  226.853419   \n",
       "2014-12-29 00:00:00  49.000004    9  0.110886 -2.044892  2.047897  273.103861   \n",
       "2014-12-29 06:00:00  49.000004    9  3.645445  3.059917  4.759449   40.009455   \n",
       "2014-12-29 12:00:00  49.000004    9  6.073805 -0.939285  6.146004  351.209115   \n",
       "2014-12-29 18:00:00  49.000004    9  1.677185 -1.009885  1.957758  328.946557   \n",
       "2014-12-30 00:00:00  49.000004    9  0.780558 -1.033926  1.295482  307.050825   \n",
       "2014-12-30 06:00:00  49.000004    9  3.380927  1.202079  3.588267   19.572694   \n",
       "2014-12-30 12:00:00  49.000004    9  3.913222 -1.081221  4.059846  344.554561   \n",
       "2014-12-30 18:00:00  49.000004    9  2.291652 -0.497362  2.345003  347.754873   \n",
       "2014-12-31 00:00:00  49.000004    9  1.543722  0.046186  1.544413    1.713695   \n",
       "2014-12-31 06:00:00  49.000004    9  1.443767  0.257921  1.466625   10.128733   \n",
       "2014-12-31 12:00:00  49.000004    9  1.716039 -0.902308  1.938801  332.264235   \n",
       "2014-12-31 18:00:00  49.000004    9  0.659715  0.736575  0.988821   48.150733   \n",
       "\n",
       "                         date  HrMn  \n",
       "time                                 \n",
       "2010-01-01 00:00:00  20100101  0001  \n",
       "2010-01-01 06:00:00  20100101  0601  \n",
       "2010-01-01 12:00:00  20100101  1201  \n",
       "2010-01-01 18:00:00  20100101  1801  \n",
       "2010-01-02 00:00:00  20100102  0001  \n",
       "2010-01-02 06:00:00  20100102  0601  \n",
       "2010-01-02 12:00:00  20100102  1201  \n",
       "2010-01-02 18:00:00  20100102  1801  \n",
       "2010-01-03 00:00:00  20100103  0001  \n",
       "2010-01-03 06:00:00  20100103  0601  \n",
       "2010-01-03 12:00:00  20100103  1201  \n",
       "2010-01-03 18:00:00  20100103  1801  \n",
       "2010-01-04 00:00:00  20100104  0001  \n",
       "2010-01-04 06:00:00  20100104  0601  \n",
       "2010-01-04 12:00:00  20100104  1201  \n",
       "2010-01-04 18:00:00  20100104  1801  \n",
       "2010-01-05 00:00:00  20100105  0001  \n",
       "2010-01-05 06:00:00  20100105  0601  \n",
       "2010-01-05 12:00:00  20100105  1201  \n",
       "2010-01-05 18:00:00  20100105  1801  \n",
       "2010-01-06 00:00:00  20100106  0001  \n",
       "2010-01-06 06:00:00  20100106  0601  \n",
       "2010-01-06 12:00:00  20100106  1201  \n",
       "2010-01-06 18:00:00  20100106  1801  \n",
       "2010-01-07 00:00:00  20100107  0001  \n",
       "2010-01-07 06:00:00  20100107  0601  \n",
       "2010-01-07 12:00:00  20100107  1201  \n",
       "2010-01-07 18:00:00  20100107  1801  \n",
       "2010-01-08 00:00:00  20100108  0001  \n",
       "2010-01-08 06:00:00  20100108  0601  \n",
       "...                       ...   ...  \n",
       "2014-12-24 12:00:00  20141224  1212  \n",
       "2014-12-24 18:00:00  20141224  1812  \n",
       "2014-12-25 00:00:00  20141225  0012  \n",
       "2014-12-25 06:00:00  20141225  0612  \n",
       "2014-12-25 12:00:00  20141225  1212  \n",
       "2014-12-25 18:00:00  20141225  1812  \n",
       "2014-12-26 00:00:00  20141226  0012  \n",
       "2014-12-26 06:00:00  20141226  0612  \n",
       "2014-12-26 12:00:00  20141226  1212  \n",
       "2014-12-26 18:00:00  20141226  1812  \n",
       "2014-12-27 00:00:00  20141227  0012  \n",
       "2014-12-27 06:00:00  20141227  0612  \n",
       "2014-12-27 12:00:00  20141227  1212  \n",
       "2014-12-27 18:00:00  20141227  1812  \n",
       "2014-12-28 00:00:00  20141228  0012  \n",
       "2014-12-28 06:00:00  20141228  0612  \n",
       "2014-12-28 12:00:00  20141228  1212  \n",
       "2014-12-28 18:00:00  20141228  1812  \n",
       "2014-12-29 00:00:00  20141229  0012  \n",
       "2014-12-29 06:00:00  20141229  0612  \n",
       "2014-12-29 12:00:00  20141229  1212  \n",
       "2014-12-29 18:00:00  20141229  1812  \n",
       "2014-12-30 00:00:00  20141230  0012  \n",
       "2014-12-30 06:00:00  20141230  0612  \n",
       "2014-12-30 12:00:00  20141230  1212  \n",
       "2014-12-30 18:00:00  20141230  1812  \n",
       "2014-12-31 00:00:00  20141231  0012  \n",
       "2014-12-31 06:00:00  20141231  0612  \n",
       "2014-12-31 12:00:00  20141231  1212  \n",
       "2014-12-31 18:00:00  20141231  1812  \n",
       "\n",
       "[7304 rows x 8 columns]"
      ]
     },
     "execution_count": 48,
     "metadata": {},
     "output_type": "execute_result"
    }
   ],
   "source": [
    "df['2010':'2014']"
   ]
  },
  {
   "cell_type": "code",
   "execution_count": 52,
   "metadata": {
    "collapsed": false
   },
   "outputs": [
    {
     "data": {
      "text/plain": [
       "<matplotlib.axes._subplots.AxesSubplot at 0xfc329e8>"
      ]
     },
     "execution_count": 52,
     "metadata": {},
     "output_type": "execute_result"
    },
    {
     "data": {
      "application/pdf": "[encoded data removed]",
      "image/png": "[encoded data removed]",
      "text/plain": [
       "<matplotlib.figure.Figure at 0xee76588>"
      ]
     },
     "metadata": {},
     "output_type": "display_data"
    }
   ],
   "source": [
    "bins = arange(0, 20,0.5)\n",
    "df['speed'].hist(bins=bins)"
   ]
  },
  {
   "cell_type": "code",
   "execution_count": 50,
   "metadata": {
    "collapsed": false
   },
   "outputs": [
    {
     "data": {
      "text/plain": [
       "<matplotlib.axes._subplots.AxesSubplot at 0x106200f0>"
      ]
     },
     "execution_count": 50,
     "metadata": {},
     "output_type": "execute_result"
    },
    {
     "data": {
      "application/pdf": "[encoded data removed]",
      "image/png": "[encoded data removed]",
      "text/plain": [
       "<matplotlib.figure.Figure at 0x10697e10>"
      ]
     },
     "metadata": {},
     "output_type": "display_data"
    }
   ],
   "source": [
    "bins = arange(0, 361)\n",
    "df['dir'].hist(bins=bins)"
   ]
  },
  {
   "cell_type": "code",
   "execution_count": 20,
   "metadata": {
    "collapsed": false
   },
   "outputs": [
    {
     "data": {
      "text/html": [
       "<div>\n",
       "<table border=\"1\" class=\"dataframe\">\n",
       "  <thead>\n",
       "    <tr style=\"text-align: right;\">\n",
       "      <th></th>\n",
       "      <th>time</th>\n",
       "      <th>lat</th>\n",
       "      <th>lon</th>\n",
       "      <th>U</th>\n",
       "      <th>V</th>\n",
       "      <th>speed</th>\n",
       "      <th>dir</th>\n",
       "    </tr>\n",
       "  </thead>\n",
       "  <tbody>\n",
       "    <tr>\n",
       "      <th>count</th>\n",
       "      <td>55644.000000</td>\n",
       "      <td>5.564400e+04</td>\n",
       "      <td>55644.0</td>\n",
       "      <td>55644.000000</td>\n",
       "      <td>55644.000000</td>\n",
       "      <td>55644.000000</td>\n",
       "      <td>55644.000000</td>\n",
       "    </tr>\n",
       "    <tr>\n",
       "      <th>mean</th>\n",
       "      <td>166929.000000</td>\n",
       "      <td>4.900000e+01</td>\n",
       "      <td>9.0</td>\n",
       "      <td>1.134024</td>\n",
       "      <td>0.610280</td>\n",
       "      <td>3.443181</td>\n",
       "      <td>143.681453</td>\n",
       "    </tr>\n",
       "    <tr>\n",
       "      <th>std</th>\n",
       "      <td>96379.101158</td>\n",
       "      <td>3.159812e-11</td>\n",
       "      <td>0.0</td>\n",
       "      <td>3.145917</td>\n",
       "      <td>2.163077</td>\n",
       "      <td>2.092479</td>\n",
       "      <td>111.037795</td>\n",
       "    </tr>\n",
       "    <tr>\n",
       "      <th>min</th>\n",
       "      <td>0.000000</td>\n",
       "      <td>4.900000e+01</td>\n",
       "      <td>9.0</td>\n",
       "      <td>-11.432183</td>\n",
       "      <td>-9.439298</td>\n",
       "      <td>0.033510</td>\n",
       "      <td>0.016794</td>\n",
       "    </tr>\n",
       "    <tr>\n",
       "      <th>25%</th>\n",
       "      <td>83464.500000</td>\n",
       "      <td>4.900000e+01</td>\n",
       "      <td>9.0</td>\n",
       "      <td>-1.272726</td>\n",
       "      <td>-0.861800</td>\n",
       "      <td>1.917229</td>\n",
       "      <td>38.899090</td>\n",
       "    </tr>\n",
       "    <tr>\n",
       "      <th>50%</th>\n",
       "      <td>166929.000000</td>\n",
       "      <td>4.900000e+01</td>\n",
       "      <td>9.0</td>\n",
       "      <td>1.001839</td>\n",
       "      <td>0.650188</td>\n",
       "      <td>2.826105</td>\n",
       "      <td>130.651954</td>\n",
       "    </tr>\n",
       "    <tr>\n",
       "      <th>75%</th>\n",
       "      <td>250393.500000</td>\n",
       "      <td>4.900000e+01</td>\n",
       "      <td>9.0</td>\n",
       "      <td>3.194437</td>\n",
       "      <td>1.915754</td>\n",
       "      <td>4.538943</td>\n",
       "      <td>223.981302</td>\n",
       "    </tr>\n",
       "    <tr>\n",
       "      <th>max</th>\n",
       "      <td>333858.000000</td>\n",
       "      <td>4.900000e+01</td>\n",
       "      <td>9.0</td>\n",
       "      <td>18.459015</td>\n",
       "      <td>10.437421</td>\n",
       "      <td>18.862267</td>\n",
       "      <td>359.996467</td>\n",
       "    </tr>\n",
       "  </tbody>\n",
       "</table>\n",
       "</div>"
      ],
      "text/plain": [
       "                time           lat      lon             U             V  \\\n",
       "count   55644.000000  5.564400e+04  55644.0  55644.000000  55644.000000   \n",
       "mean   166929.000000  4.900000e+01      9.0      1.134024      0.610280   \n",
       "std     96379.101158  3.159812e-11      0.0      3.145917      2.163077   \n",
       "min         0.000000  4.900000e+01      9.0    -11.432183     -9.439298   \n",
       "25%     83464.500000  4.900000e+01      9.0     -1.272726     -0.861800   \n",
       "50%    166929.000000  4.900000e+01      9.0      1.001839      0.650188   \n",
       "75%    250393.500000  4.900000e+01      9.0      3.194437      1.915754   \n",
       "max    333858.000000  4.900000e+01      9.0     18.459015     10.437421   \n",
       "\n",
       "              speed           dir  \n",
       "count  55644.000000  55644.000000  \n",
       "mean       3.443181    143.681453  \n",
       "std        2.092479    111.037795  \n",
       "min        0.033510      0.016794  \n",
       "25%        1.917229     38.899090  \n",
       "50%        2.826105    130.651954  \n",
       "75%        4.538943    223.981302  \n",
       "max       18.862267    359.996467  "
      ]
     },
     "execution_count": 20,
     "metadata": {},
     "output_type": "execute_result"
    }
   ],
   "source": [
    "df.describe()"
   ]
  },
  {
   "cell_type": "code",
   "execution_count": 24,
   "metadata": {
    "collapsed": false
   },
   "outputs": [
    {
     "data": {
      "text/plain": [
       "0       1979-01-01 00:00:00\n",
       "1       1979-01-01 06:00:00\n",
       "2       1979-01-01 12:00:00\n",
       "3       1979-01-01 18:00:00\n",
       "4       1979-01-02 00:00:00\n",
       "5       1979-01-02 06:00:00\n",
       "6       1979-01-02 12:00:00\n",
       "7       1979-01-02 18:00:00\n",
       "8       1979-01-03 00:00:00\n",
       "9       1979-01-03 06:00:00\n",
       "10      1979-01-03 12:00:00\n",
       "11      1979-01-03 18:00:00\n",
       "12      1979-01-04 00:00:00\n",
       "13      1979-01-04 06:00:00\n",
       "14      1979-01-04 12:00:00\n",
       "15      1979-01-04 18:00:00\n",
       "16      1979-01-05 00:00:00\n",
       "17      1979-01-05 06:00:00\n",
       "18      1979-01-05 12:00:00\n",
       "19      1979-01-05 18:00:00\n",
       "20      1979-01-06 00:00:00\n",
       "21      1979-01-06 06:00:00\n",
       "22      1979-01-06 12:00:00\n",
       "23      1979-01-06 18:00:00\n",
       "24      1979-01-07 00:00:00\n",
       "25      1979-01-07 06:00:00\n",
       "26      1979-01-07 12:00:00\n",
       "27      1979-01-07 18:00:00\n",
       "28      1979-01-08 00:00:00\n",
       "29      1979-01-08 06:00:00\n",
       "                ...        \n",
       "55614   2017-01-24 12:00:00\n",
       "55615   2017-01-24 18:00:00\n",
       "55616   2017-01-25 00:00:00\n",
       "55617   2017-01-25 06:00:00\n",
       "55618   2017-01-25 12:00:00\n",
       "55619   2017-01-25 18:00:00\n",
       "55620   2017-01-26 00:00:00\n",
       "55621   2017-01-26 06:00:00\n",
       "55622   2017-01-26 12:00:00\n",
       "55623   2017-01-26 18:00:00\n",
       "55624   2017-01-27 00:00:00\n",
       "55625   2017-01-27 06:00:00\n",
       "55626   2017-01-27 12:00:00\n",
       "55627   2017-01-27 18:00:00\n",
       "55628   2017-01-28 00:00:00\n",
       "55629   2017-01-28 06:00:00\n",
       "55630   2017-01-28 12:00:00\n",
       "55631   2017-01-28 18:00:00\n",
       "55632   2017-01-29 00:00:00\n",
       "55633   2017-01-29 06:00:00\n",
       "55634   2017-01-29 12:00:00\n",
       "55635   2017-01-29 18:00:00\n",
       "55636   2017-01-30 00:00:00\n",
       "55637   2017-01-30 06:00:00\n",
       "55638   2017-01-30 12:00:00\n",
       "55639   2017-01-30 18:00:00\n",
       "55640   2017-01-31 00:00:00\n",
       "55641   2017-01-31 06:00:00\n",
       "55642   2017-01-31 12:00:00\n",
       "55643   2017-01-31 18:00:00\n",
       "Name: time, dtype: datetime64[ns]"
      ]
     },
     "execution_count": 24,
     "metadata": {},
     "output_type": "execute_result"
    }
   ],
   "source": []
  },
  {
   "cell_type": "code",
   "execution_count": 23,
   "metadata": {
    "collapsed": false
   },
   "outputs": [
    {
     "data": {
      "text/plain": [
       "0           0 days 00:00:00\n",
       "1           0 days 06:00:00\n",
       "2           0 days 12:00:00\n",
       "3           0 days 18:00:00\n",
       "4           1 days 00:00:00\n",
       "5           1 days 06:00:00\n",
       "6           1 days 12:00:00\n",
       "7           1 days 18:00:00\n",
       "8           2 days 00:00:00\n",
       "9           2 days 06:00:00\n",
       "10          2 days 12:00:00\n",
       "11          2 days 18:00:00\n",
       "12          3 days 00:00:00\n",
       "13          3 days 06:00:00\n",
       "14          3 days 12:00:00\n",
       "15          3 days 18:00:00\n",
       "16          4 days 00:00:00\n",
       "17          4 days 06:00:00\n",
       "18          4 days 12:00:00\n",
       "19          4 days 18:00:00\n",
       "20          5 days 00:00:00\n",
       "21          5 days 06:00:00\n",
       "22          5 days 12:00:00\n",
       "23          5 days 18:00:00\n",
       "24          6 days 00:00:00\n",
       "25          6 days 06:00:00\n",
       "26          6 days 12:00:00\n",
       "27          6 days 18:00:00\n",
       "28          7 days 00:00:00\n",
       "29          7 days 06:00:00\n",
       "                ...        \n",
       "55614   13903 days 12:00:00\n",
       "55615   13903 days 18:00:00\n",
       "55616   13904 days 00:00:00\n",
       "55617   13904 days 06:00:00\n",
       "55618   13904 days 12:00:00\n",
       "55619   13904 days 18:00:00\n",
       "55620   13905 days 00:00:00\n",
       "55621   13905 days 06:00:00\n",
       "55622   13905 days 12:00:00\n",
       "55623   13905 days 18:00:00\n",
       "55624   13906 days 00:00:00\n",
       "55625   13906 days 06:00:00\n",
       "55626   13906 days 12:00:00\n",
       "55627   13906 days 18:00:00\n",
       "55628   13907 days 00:00:00\n",
       "55629   13907 days 06:00:00\n",
       "55630   13907 days 12:00:00\n",
       "55631   13907 days 18:00:00\n",
       "55632   13908 days 00:00:00\n",
       "55633   13908 days 06:00:00\n",
       "55634   13908 days 12:00:00\n",
       "55635   13908 days 18:00:00\n",
       "55636   13909 days 00:00:00\n",
       "55637   13909 days 06:00:00\n",
       "55638   13909 days 12:00:00\n",
       "55639   13909 days 18:00:00\n",
       "55640   13910 days 00:00:00\n",
       "55641   13910 days 06:00:00\n",
       "55642   13910 days 12:00:00\n",
       "55643   13910 days 18:00:00\n",
       "Name: time, dtype: timedelta64[ns]"
      ]
     },
     "execution_count": 23,
     "metadata": {},
     "output_type": "execute_result"
    }
   ],
   "source": []
  },
  {
   "cell_type": "code",
   "execution_count": null,
   "metadata": {
    "collapsed": true
   },
   "outputs": [],
   "source": [
    "sss"
   ]
  },
  {
   "cell_type": "code",
   "execution_count": 1,
   "metadata": {
    "collapsed": false
   },
   "outputs": [
    {
     "name": "stdout",
     "output_type": "stream",
     "text": [
      "2017-04-28 14:20:44 ECMWF API python library 1.4.2\n",
      "2017-04-28 14:20:44 ECMWF API at https://api.ecmwf.int/v1\n",
      "Error contacting the WebAPI, retrying in 60 seconds ...\n",
      "Error contacting the WebAPI, retrying in 60 seconds ...\n",
      "Error contacting the WebAPI, retrying in 60 seconds ...\n",
      "Error contacting the WebAPI, retrying in 60 seconds ...\n"
     ]
    },
    {
     "ename": "KeyboardInterrupt",
     "evalue": "",
     "output_type": "error",
     "traceback": [
      "\u001b[0;31m---------------------------------------------------------------------------\u001b[0m",
      "\u001b[0;31mKeyboardInterrupt\u001b[0m                         Traceback (most recent call last)",
      "\u001b[0;32m<ipython-input-1-87dd3d075f8c>\u001b[0m in \u001b[0;36m<module>\u001b[0;34m()\u001b[0m\n\u001b[1;32m     15\u001b[0m     \u001b[1;34m'type'\u001b[0m      \u001b[1;33m:\u001b[0m \u001b[1;34m\"an\"\u001b[0m\u001b[1;33m,\u001b[0m\u001b[1;33m\u001b[0m\u001b[0m\n\u001b[1;32m     16\u001b[0m     \u001b[1;34m'class'\u001b[0m     \u001b[1;33m:\u001b[0m \u001b[1;34m\"ei\"\u001b[0m\u001b[1;33m,\u001b[0m\u001b[1;33m\u001b[0m\u001b[0m\n\u001b[0;32m---> 17\u001b[0;31m     \u001b[1;34m'target'\u001b[0m    \u001b[1;33m:\u001b[0m \u001b[1;34m\"interim_2014-07-01to2014-07-31_00061218.grib\"\u001b[0m\u001b[1;33m\u001b[0m\u001b[0m\n\u001b[0m\u001b[1;32m     18\u001b[0m })\n",
      "\u001b[0;32mD:\\ProgramData\\Anaconda3\\lib\\site-packages\\ecmwfapi\\api.py\u001b[0m in \u001b[0;36mretrieve\u001b[0;34m(self, req)\u001b[0m\n\u001b[1;32m    499\u001b[0m         \u001b[0mtarget\u001b[0m \u001b[1;33m=\u001b[0m \u001b[0mreq\u001b[0m\u001b[1;33m.\u001b[0m\u001b[0mget\u001b[0m\u001b[1;33m(\u001b[0m\u001b[1;34m\"target\"\u001b[0m\u001b[1;33m)\u001b[0m\u001b[1;33m\u001b[0m\u001b[0m\n\u001b[1;32m    500\u001b[0m         \u001b[0mdataset\u001b[0m \u001b[1;33m=\u001b[0m \u001b[0mreq\u001b[0m\u001b[1;33m.\u001b[0m\u001b[0mget\u001b[0m\u001b[1;33m(\u001b[0m\u001b[1;34m\"dataset\"\u001b[0m\u001b[1;33m)\u001b[0m\u001b[1;33m\u001b[0m\u001b[0m\n\u001b[0;32m--> 501\u001b[0;31m         \u001b[0mc\u001b[0m \u001b[1;33m=\u001b[0m \u001b[0mAPIRequest\u001b[0m\u001b[1;33m(\u001b[0m\u001b[0mself\u001b[0m\u001b[1;33m.\u001b[0m\u001b[0murl\u001b[0m\u001b[1;33m,\u001b[0m \u001b[1;34m\"datasets/%s\"\u001b[0m \u001b[1;33m%\u001b[0m \u001b[1;33m(\u001b[0m\u001b[0mdataset\u001b[0m\u001b[1;33m,\u001b[0m\u001b[1;33m)\u001b[0m\u001b[1;33m,\u001b[0m \u001b[0mself\u001b[0m\u001b[1;33m.\u001b[0m\u001b[0memail\u001b[0m\u001b[1;33m,\u001b[0m \u001b[0mself\u001b[0m\u001b[1;33m.\u001b[0m\u001b[0mkey\u001b[0m\u001b[1;33m,\u001b[0m \u001b[0mself\u001b[0m\u001b[1;33m.\u001b[0m\u001b[0mtrace\u001b[0m\u001b[1;33m,\u001b[0m \u001b[0mverbose\u001b[0m\u001b[1;33m=\u001b[0m\u001b[0mself\u001b[0m\u001b[1;33m.\u001b[0m\u001b[0mverbose\u001b[0m\u001b[1;33m)\u001b[0m\u001b[1;33m\u001b[0m\u001b[0m\n\u001b[0m\u001b[1;32m    502\u001b[0m         \u001b[0mc\u001b[0m\u001b[1;33m.\u001b[0m\u001b[0mexecute\u001b[0m\u001b[1;33m(\u001b[0m\u001b[0mreq\u001b[0m\u001b[1;33m,\u001b[0m \u001b[0mtarget\u001b[0m\u001b[1;33m)\u001b[0m\u001b[1;33m\u001b[0m\u001b[0m\n\u001b[1;32m    503\u001b[0m \u001b[1;33m\u001b[0m\u001b[0m\n",
      "\u001b[0;32mD:\\ProgramData\\Anaconda3\\lib\\site-packages\\ecmwfapi\\api.py\u001b[0m in \u001b[0;36m__init__\u001b[0;34m(self, url, service, email, key, log, quiet, verbose, news)\u001b[0m\n\u001b[1;32m    379\u001b[0m         \u001b[0mself\u001b[0m\u001b[1;33m.\u001b[0m\u001b[0mlog\u001b[0m\u001b[1;33m(\u001b[0m\u001b[1;34m\"ECMWF API python library %s\"\u001b[0m \u001b[1;33m%\u001b[0m \u001b[1;33m(\u001b[0m\u001b[0mVERSION\u001b[0m\u001b[1;33m,\u001b[0m\u001b[1;33m)\u001b[0m\u001b[1;33m)\u001b[0m\u001b[1;33m\u001b[0m\u001b[0m\n\u001b[1;32m    380\u001b[0m         \u001b[0mself\u001b[0m\u001b[1;33m.\u001b[0m\u001b[0mlog\u001b[0m\u001b[1;33m(\u001b[0m\u001b[1;34m\"ECMWF API at %s\"\u001b[0m \u001b[1;33m%\u001b[0m \u001b[1;33m(\u001b[0m\u001b[0mself\u001b[0m\u001b[1;33m.\u001b[0m\u001b[0murl\u001b[0m\u001b[1;33m,\u001b[0m\u001b[1;33m)\u001b[0m\u001b[1;33m)\u001b[0m\u001b[1;33m\u001b[0m\u001b[0m\n\u001b[0;32m--> 381\u001b[0;31m         \u001b[0muser\u001b[0m \u001b[1;33m=\u001b[0m \u001b[0mself\u001b[0m\u001b[1;33m.\u001b[0m\u001b[0mconnection\u001b[0m\u001b[1;33m.\u001b[0m\u001b[0mcall\u001b[0m\u001b[1;33m(\u001b[0m\u001b[1;34m\"%s/%s\"\u001b[0m \u001b[1;33m%\u001b[0m \u001b[1;33m(\u001b[0m\u001b[0mself\u001b[0m\u001b[1;33m.\u001b[0m\u001b[0murl\u001b[0m\u001b[1;33m,\u001b[0m \u001b[1;34m\"who-am-i\"\u001b[0m\u001b[1;33m)\u001b[0m\u001b[1;33m)\u001b[0m\u001b[1;33m\u001b[0m\u001b[0m\n\u001b[0m\u001b[1;32m    382\u001b[0m         \u001b[0mself\u001b[0m\u001b[1;33m.\u001b[0m\u001b[0mlog\u001b[0m\u001b[1;33m(\u001b[0m\u001b[1;34m\"Welcome %s\"\u001b[0m \u001b[1;33m%\u001b[0m \u001b[1;33m(\u001b[0m\u001b[0muser\u001b[0m\u001b[1;33m[\u001b[0m\u001b[1;34m\"full_name\"\u001b[0m\u001b[1;33m]\u001b[0m \u001b[1;32mor\u001b[0m \u001b[1;34m\"user '%s'\"\u001b[0m \u001b[1;33m%\u001b[0m \u001b[0muser\u001b[0m\u001b[1;33m[\u001b[0m\u001b[1;34m\"uid\"\u001b[0m\u001b[1;33m]\u001b[0m\u001b[1;33m,\u001b[0m\u001b[1;33m)\u001b[0m\u001b[1;33m)\u001b[0m\u001b[1;33m\u001b[0m\u001b[0m\n\u001b[1;32m    383\u001b[0m         \u001b[1;32mif\u001b[0m \u001b[0mnews\u001b[0m\u001b[1;33m:\u001b[0m\u001b[1;33m\u001b[0m\u001b[0m\n",
      "\u001b[0;32mD:\\ProgramData\\Anaconda3\\lib\\site-packages\\ecmwfapi\\api.py\u001b[0m in \u001b[0;36mwrapped\u001b[0;34m(self, *args, **kwargs)\u001b[0m\n\u001b[1;32m    162\u001b[0m                 \u001b[1;32mraise\u001b[0m\u001b[1;33m\u001b[0m\u001b[0m\n\u001b[1;32m    163\u001b[0m             \u001b[0mprint\u001b[0m\u001b[1;33m(\u001b[0m\u001b[1;34m\"Error contacting the WebAPI, retrying in %d seconds ...\"\u001b[0m \u001b[1;33m%\u001b[0m \u001b[0mdelay\u001b[0m\u001b[1;33m)\u001b[0m\u001b[1;33m\u001b[0m\u001b[0m\n\u001b[0;32m--> 164\u001b[0;31m             \u001b[0mtime\u001b[0m\u001b[1;33m.\u001b[0m\u001b[0msleep\u001b[0m\u001b[1;33m(\u001b[0m\u001b[0mdelay\u001b[0m\u001b[1;33m)\u001b[0m\u001b[1;33m\u001b[0m\u001b[0m\n\u001b[0m\u001b[1;32m    165\u001b[0m             \u001b[0mtries\u001b[0m \u001b[1;33m-=\u001b[0m \u001b[1;36m1\u001b[0m\u001b[1;33m\u001b[0m\u001b[0m\n\u001b[1;32m    166\u001b[0m         \u001b[1;31m# if all retries have been exhausted, raise the last exception caught\u001b[0m\u001b[1;33m\u001b[0m\u001b[1;33m\u001b[0m\u001b[0m\n",
      "\u001b[0;31mKeyboardInterrupt\u001b[0m: "
     ]
    }
   ],
   "source": [
    "#!/usr/bin/env python\n",
    "from ecmwfapi import ECMWFDataServer\n",
    "    \n",
    "server = ECMWFDataServer()\n",
    "    \n",
    "server.retrieve({\n",
    "    'stream'    : \"oper\",\n",
    "    'levtype'   : \"sfc\",\n",
    "    'param'     : \"165.128/166.128/167.128\",\n",
    "    'dataset'   : \"interim\",\n",
    "    'step'      : \"0\",\n",
    "    'grid'      : \"0.75/0.75\",\n",
    "    'time'      : \"00/06/12/18\",\n",
    "    'date'      : \"2014-07-01/to/2014-07-31\",\n",
    "    'type'      : \"an\",\n",
    "    'class'     : \"ei\",\n",
    "    'target'    : \"interim_2014-07-01to2014-07-31_00061218.grib\"\n",
    "})"
   ]
  },
  {
   "cell_type": "code",
   "execution_count": null,
   "metadata": {
    "collapsed": true
   },
   "outputs": [],
   "source": [
    "from ecmwfapi import ECMWFDataServer\n",
    "    \n",
    "server = ECMWFDataServer()\n",
    "    \n",
    "server.retrieve({\n",
    "    'stream'    : \"oper\",\n",
    "    'levtype'   : \"sfc\",\n",
    "    'param'     : \"165.128/166.128/167.128\",\n",
    "    'dataset'   : \"interim\",\n",
    "    'step'      : \"0\",\n",
    "    'grid'      : \"0.75/0.75\",\n",
    "    'time'      : \"00/06/12/18\",\n",
    "    'date'      : \"2014-07-05/to/2014-07-31\",\n",
    "    'type'      : \"an\",\n",
    "    'class'     : \"ei\",\n",
    "    'target'    : \"interim_2014-07-05to2014-07-31_00061218.grib\"\n",
    "})"
   ]
  },
  {
   "cell_type": "code",
   "execution_count": 2,
   "metadata": {
    "collapsed": false
   },
   "outputs": [
    {
     "name": "stdout",
     "output_type": "stream",
     "text": [
      "2017-04-28 12:18:43 ECMWF API python library 1.4.2\n",
      "2017-04-28 12:18:43 ECMWF API at https://api.ecmwf.int/v1\n",
      "2017-04-28 12:18:45 Welcome Zhao Zike\n",
      "2017-04-28 12:18:45 In case of problems, please check https://software.ecmwf.int/wiki/display/WEBAPI/Troubleshooting or contact calldesk@ecmwf.int\n",
      "2017-04-28 12:18:45 \n",
      "2017-04-28 12:18:47 Request submitted\n",
      "2017-04-28 12:18:47 Request id: 5902c2d112b43818ff9a91e6\n",
      "2017-04-28 12:18:47 Request is queued\n",
      "Error contacting the WebAPI, retrying in 60 seconds ...\n",
      "Calling '['nice', 'mars', '/tmp/tmp-_marsjIqJSE.req']'\n",
      "mars - WARN -\n",
      "mars - WARN - From 9 February 2016 10AM (UTC) MARS uses versions of\n",
      "mars - WARN - libemos newer than 4.3.0. For more details, see\n",
      "mars - WARN - https://software.ecmwf.int/wiki/display/EMOS/Bug+fix+implemented+in+EMOSLIB+4.3.x\n",
      "mars - WARN -\n",
      "PPDIR is /var/tmp/ppdir/x86_64\n",
      "mars - INFO   - 20170428.041930 - Welcome to MARS with ecCodes and ODB\n",
      "mars - INFO   - 20170428.041930 - MARS Client build stamp: 20170306182930\n",
      "mars - INFO   - 20170428.041930 - MARS Client version: 6.17.0\n",
      "mars - INFO   - 20170428.041930 - EMOSLIB version: 446\n",
      "mars - INFO   - 20170428.041930 - Using ecCodes version 2.1.0\n",
      "mars - INFO   - 20170428.041930 - Using odb_api version: 0.15.4.1 (file format version: 0.5)\n",
      "mars - INFO   - 20170428.041930 - Maximum retrieval size is 20.00 G\n",
      "retrieve,stream=oper,levtype=sfc,param=165.128/166.128/167.128,step=0,grid=0.75/0.75,expver=0001,time=00/06/12/18,date=2014-07-05/to/2014-07-31,type=an,class=ei,padding=0,expect=anymars - WARN   - 20170428.041930 - For full resolution grid, it is recommended to use RESOL=AV to prevent any truncation before transformation\n",
      "mars - INFO   - 20170428.041930 - Automatic split by date is on\n",
      "\n",
      "mars - INFO   - 20170428.041930 - Processing request 1\n",
      "\n",
      "RETRIEVE,\n",
      "    CLASS      = EI,\n",
      "    TYPE       = AN,\n",
      "    STREAM     = OPER,\n",
      "    EXPVER     = 0001,\n",
      "    REPRES     = SH,\n",
      "    LEVTYPE    = SFC,\n",
      "    PARAM      = 165.128/166.128/167.128,\n",
      "    TIME       = 0000/0600/1200/1800,\n",
      "    STEP       = 0,\n",
      "    DOMAIN     = G,\n",
      "    RESOL      = AUTO,\n",
      "    GRID       = 0.75/0.75,\n",
      "    PADDING    = 0,\n",
      "    EXPECT     = ANY,\n",
      "    DATE       = 20140705/20140706/20140707/20140708/20140709/20140710/20140711/20140712/20140713/20140714/20140715/20140716/20140717/20140718/20140719/20140720/20140721/20140722/20140723/20140724/20140725/20140726/20140727/20140728/20140729/20140730/20140731\n",
      "\n",
      "mars - INFO   - 20170428.041930 - Web API request id: 5902c2d112b43818ff9a91e6\n",
      "mars - INFO   - 20170428.041930 - Requesting any number of fields (request describes 324)\n",
      "mars - INFO   - 20170428.041930 - Calling mars on 'marser', callback on 40362\n",
      "mars - INFO   - 20170428.041930 - Server task is 579 [marser]\n",
      "mars - INFO   - 20170428.041930 - Request cost: 324 fields, 55.0918 Mbytes online, nodes: mvr02 [marser]\n",
      "mars - INFO   - 20170428.041930 - Transfering 57767904 bytes\n",
      "mars - INFO   - 20170428.041943 - 324 fields retrieved from 'marser'\n",
      "mars - INFO   - 20170428.041943 - 324 fields have been interpolated\n",
      "mars - INFO   - 20170428.041943 - Request time:  wall: 13 sec  cpu: 9 sec\n",
      "mars - INFO   - 20170428.041943 -   Read from network: 55.09 Mbyte(s) in 3 sec  [18.34 Mbyte/sec]\n",
      "mars - INFO   - 20170428.041943 -   Visiting marser: wall: 13 sec\n",
      "mars - INFO   - 20170428.041943 -   Post-processing: wall: 9 sec cpu: 8 sec\n",
      "mars - INFO   - 20170428.041943 -   Writing to target file: 71.52 Mbyte(s) in < 1 sec [750.01 Mbyte/sec]\n",
      "mars - INFO   - 20170428.041943 - Memory used: 40.12 Mbyte(s)\n",
      "mars - INFO   - 20170428.041943 - No errors reported\n",
      "Process '['nice', 'mars', '/tmp/tmp-_marsjIqJSE.req']' finished\n",
      "2017-04-28 12:20:10 Request is complete\n",
      "2017-04-28 12:20:10 Transfering 71.5214 Mbytes into interim_2014-07-05to2014-07-31_00061218.grib\n",
      "2017-04-28 12:20:10 From http://stream.ecmwf.int/data/atls06/data/data04/scratch/_mars-atls06-a562cefde8a29a7288fa0b8b7f9413f7-QJkJyD.grib\n",
      "2017-04-28 12:24:25 Transfer rate 286.841 Kbytes/s\n"
     ]
    }
   ],
   "source": [
    "from ecmwfapi import ECMWFDataServer\n",
    "    \n",
    "server = ECMWFDataServer()\n",
    "    \n",
    "server.retrieve({\n",
    "    'stream'    : \"oper\",\n",
    "    'levtype'   : \"sfc\",\n",
    "    'param'     : \"165.128/166.128/167.128\",\n",
    "    'dataset'   : \"interim\",\n",
    "    'step'      : \"0\",\n",
    "    'grid'      : \"0.75/0.75\",\n",
    "    'time'      : \"00/06/12/18\",\n",
    "    'date'      : \"2014-07-05/to/2014-07-31\",\n",
    "    'type'      : \"an\",\n",
    "    'class'     : \"ei\",\n",
    "    'target'    : \"interim_2014-07-05to2014-07-31_00061218.grib\"\n",
    "})"
   ]
  },
  {
   "cell_type": "code",
   "execution_count": null,
   "metadata": {
    "collapsed": false
   },
   "outputs": [
    {
     "name": "stdout",
     "output_type": "stream",
     "text": [
      "2017-04-28 09:53:48 ECMWF API python library 1.4.2\n",
      "2017-04-28 09:53:48 ECMWF API at https://api.ecmwf.int/v1\n",
      "Error contacting the WebAPI, retrying in 60 seconds ...\n"
     ]
    }
   ],
   "source": [
    "from ecmwfapi import ECMWFDataServer\n",
    "    \n",
    "server = ECMWFDataServer()\n",
    "    \n",
    "server.retrieve({\n",
    "    'stream'    : \"oper\",\n",
    "    'levtype'   : \"sfc\",\n",
    "    'param'     : \"165.128/166.128\",\n",
    "    'dataset'   : \"interim\",\n",
    "    'step'      : \"0\",\n",
    "    'grid'      : \"1/1\",\n",
    "    'time'      : \"00/06/12/18\",\n",
    "    'date'      : \"2014-07-01/to/2014-07-31\",\n",
    "    'type'      : \"an\",\n",
    "    'class'     : \"ei\",\n",
    "    \"area\"      : \"8/-67/8/\",\n",
    "    'target'    : \"interim_2014-07-01to2014-07-31_00061218.grib\"\n",
    "})"
   ]
  },
  {
   "cell_type": "code",
   "execution_count": 7,
   "metadata": {
    "collapsed": false
   },
   "outputs": [
    {
     "name": "stdout",
     "output_type": "stream",
     "text": [
      "2.15346547\n"
     ]
    }
   ],
   "source": [
    "%precision 3\n",
    "def test():\n",
    "    print(2.15346547)\n",
    "test()"
   ]
  },
  {
   "cell_type": "code",
   "execution_count": 4,
   "metadata": {
    "collapsed": false
   },
   "outputs": [
    {
     "data": {
      "text/plain": [
       "2.153"
      ]
     },
     "execution_count": 4,
     "metadata": {},
     "output_type": "execute_result"
    }
   ],
   "source": [
    "2.15346547"
   ]
  },
  {
   "cell_type": "code",
   "execution_count": 6,
   "metadata": {
    "collapsed": false
   },
   "outputs": [
    {
     "name": "stdout",
     "output_type": "stream",
     "text": [
      "2.15346547\n"
     ]
    }
   ],
   "source": []
  },
  {
   "cell_type": "code",
   "execution_count": null,
   "metadata": {
    "collapsed": true
   },
   "outputs": [],
   "source": [
    "ssss"
   ]
  },
  {
   "cell_type": "code",
   "execution_count": null,
   "metadata": {
    "collapsed": true
   },
   "outputs": [],
   "source": []
  },
  {
   "cell_type": "code",
   "execution_count": null,
   "metadata": {
    "collapsed": false
   },
   "outputs": [
    {
     "data": {
      "application/pdf": "[encoded data removed]",
      "image/png": "[encoded data removed]",
      "text/plain": [
       "<matplotlib.figure.Figure at 0x4dd4748>"
      ]
     },
     "metadata": {},
     "output_type": "display_data"
    },
    {
     "data": {
      "application/pdf": "[encoded data removed]",
      "image/png": "[encoded data removed]",
      "text/plain": [
       "<matplotlib.figure.Figure at 0xc130a20>"
      ]
     },
     "metadata": {},
     "output_type": "display_data"
    },
    {
     "data": {
      "application/pdf": "[encoded data removed]",
      "image/png": "[encoded data removed]",
      "text/plain": [
       "<matplotlib.figure.Figure at 0xc0c4c88>"
      ]
     },
     "metadata": {},
     "output_type": "display_data"
    }
   ],
   "source": [
    "figs = [try_plot(y) for y in arange(3)]"
   ]
  },
  {
   "cell_type": "code",
   "execution_count": null,
   "metadata": {
    "collapsed": false
   },
   "outputs": [
    {
     "name": "stderr",
     "output_type": "stream",
     "text": [
      "Exception in thread Thread-8:\n",
      "Traceback (most recent call last):\n",
      "  File \"D:\\ProgramData\\Anaconda3\\lib\\threading.py\", line 916, in _bootstrap_inner\n",
      "    self.run()\n",
      "  File \"D:\\ProgramData\\Anaconda3\\lib\\threading.py\", line 864, in run\n",
      "    self._target(*self._args, **self._kwargs)\n",
      "  File \"D:\\ProgramData\\Anaconda3\\lib\\multiprocessing\\pool.py\", line 429, in _handle_results\n",
      "    task = get()\n",
      "  File \"D:\\ProgramData\\Anaconda3\\lib\\multiprocessing\\connection.py\", line 251, in recv\n",
      "    return _ForkingPickler.loads(buf.getbuffer())\n",
      "  File \"D:\\ProgramData\\Anaconda3\\lib\\site-packages\\matplotlib\\figure.py\", line 1445, in __setstate__\n",
      "    mgr = plt._backend_mod.new_figure_manager_given_figure(num, self)\n",
      "AttributeError: module 'ipykernel.pylab.backend_inline' has no attribute 'new_figure_manager_given_figure'\n",
      "\n"
     ]
    }
   ],
   "source": [
    "from joblib import Parallel, delayed\n",
    "figs = Parallel(n_jobs=-1)(delayed(try_plot)(y) for y in arange(3))"
   ]
  },
  {
   "cell_type": "code",
   "execution_count": null,
   "metadata": {
    "collapsed": true
   },
   "outputs": [],
   "source": [
    "s"
   ]
  },
  {
   "cell_type": "code",
   "execution_count": null,
   "metadata": {
    "collapsed": false
   },
   "outputs": [],
   "source": [
    "figs = Parallel(n_jobs=2)(delayed(try_plot)(y) for y in arange(4))"
   ]
  },
  {
   "cell_type": "code",
   "execution_count": null,
   "metadata": {
    "collapsed": false
   },
   "outputs": [],
   "source": [
    "sss"
   ]
  },
  {
   "cell_type": "code",
   "execution_count": null,
   "metadata": {
    "collapsed": false
   },
   "outputs": [],
   "source": [
    "import nbformat\n",
    "from nbconvert.preprocessors import ExecutePreprocessor\n",
    "\n",
    "with open('test.ipynb') as f:\n",
    "    nb = nbformat.read(f, as_version=4)\n",
    "    \n",
    "ep = ExecutePreprocessor(timeout=600, kernel_name='python3')\n",
    "\n",
    "ep.preprocess(nb, {'metadata': {'path': './'}})\n",
    "\n",
    "with open('executed_notebook.ipynb', 'wt') as f:\n",
    "    nbformat.write(nb, f)"
   ]
  },
  {
   "cell_type": "code",
   "execution_count": null,
   "metadata": {
    "collapsed": false
   },
   "outputs": [],
   "source": [
    "a, b = np.radians([2, 5])"
   ]
  },
  {
   "cell_type": "code",
   "execution_count": null,
   "metadata": {
    "collapsed": false
   },
   "outputs": [],
   "source": [
    "a"
   ]
  },
  {
   "cell_type": "code",
   "execution_count": null,
   "metadata": {
    "collapsed": true
   },
   "outputs": [],
   "source": [
    "person1 = {'type': 1, 'name': 'Jhon', 'surname': 'Smith', 'phone': '555-1234'}\n",
    "person2 = {'type': 2, 'name': 'Jannette', 'surname': 'Jhonson', 'phone': 1000000.00}"
   ]
  },
  {
   "cell_type": "code",
   "execution_count": null,
   "metadata": {
    "collapsed": false
   },
   "outputs": [],
   "source": [
    "pd.DataFrame([person1, person2])\n"
   ]
  },
  {
   "cell_type": "code",
   "execution_count": null,
   "metadata": {
    "collapsed": true
   },
   "outputs": [],
   "source": [
    "ssss"
   ]
  },
  {
   "cell_type": "code",
   "execution_count": null,
   "metadata": {
    "collapsed": false
   },
   "outputs": [],
   "source": [
    "\n",
    "file_dir = \"./data/NCDC/europe/spain/gran_canaria/\"\n",
    "for file in os.listdir(file_dir):\n",
    "    if file.endswith(\"stn.txt\"):\n",
    "        stn_file_path = file_dir+file\n",
    "        print(file_path)"
   ]
  },
  {
   "cell_type": "code",
   "execution_count": null,
   "metadata": {
    "collapsed": false
   },
   "outputs": [],
   "source": [
    "with open(stn_file_path) as fp:\n",
    "    for i, line in enumerate(fp):\n",
    "        if i == 2:\n",
    "            lat, long= line.split()[-3:-1]\n",
    "            \n",
    "lat, long = float(lat), float(long)\n",
    "print(lat, long)"
   ]
  },
  {
   "cell_type": "code",
   "execution_count": null,
   "metadata": {
    "collapsed": false
   },
   "outputs": [],
   "source": [
    "import folium\n",
    "map_osm = folium.Map(location=[lat, long], zoom_start=4)\n",
    "folium.Marker([lat, long]).add_to(map_osm)\n",
    "map_osm"
   ]
  },
  {
   "cell_type": "code",
   "execution_count": null,
   "metadata": {
    "collapsed": false
   },
   "outputs": [],
   "source": [
    "ssss"
   ]
  },
  {
   "cell_type": "code",
   "execution_count": null,
   "metadata": {
    "collapsed": false,
    "scrolled": true
   },
   "outputs": [],
   "source": [
    "file_path = 'D:/NDAWN/table.csv'\n",
    "df = pd.read_csv(file_path, skipinitialspace=True, dtype={'Year':'object', 'Month':'object', \n",
    "                                                          'Day':'object'})\n",
    "df"
   ]
  },
  {
   "cell_type": "code",
   "execution_count": null,
   "metadata": {
    "collapsed": false
   },
   "outputs": [],
   "source": [
    "## Output format: date, HrMn, dir, speed, speed_max\n",
    "df['HrMn']=df['Hour'].apply(lambda x: \"%04d\"%x ) \n",
    "df['date']=df['Year']+df['Month']+df['Day']\n",
    "df = df[['date','HrMn','Avg Wind Speed', 'Max Wind Speed', 'Avg Wind Dir', 'Avg Wind Dir SD']]\n",
    "df.rename(columns={'Avg Wind Speed': 'speed', 'Max Wind Speed': 'speed_max', \n",
    "                   'Avg Wind Dir': 'dir', 'Avg Wind Dir SD': 'dir_std'}, inplace=True)"
   ]
  },
  {
   "cell_type": "code",
   "execution_count": null,
   "metadata": {
    "collapsed": false
   },
   "outputs": [],
   "source": [
    "df"
   ]
  },
  {
   "cell_type": "code",
   "execution_count": null,
   "metadata": {
    "collapsed": false
   },
   "outputs": [],
   "source": [
    "import datetime as dt\n",
    "\n",
    "def my_to_datetime(date_str):\n",
    "    if date_str[8:10] != '24':\n",
    "        return pd.to_datetime(date_str, format='%Y%m%d%H%M')\n",
    "\n",
    "    date_str = date_str[0:8] + '00' + date_str[10:]\n",
    "    return pd.to_datetime(date_str, format='%Y%m%d%H%M') + \\\n",
    "           dt.timedelta(days=1)\n",
    "   \n",
    "df['time']=df[\"date\"].astype(str).map(str)+df[\"HrMn\"]\n",
    "df['time']=df['time'].apply(my_to_datetime)\n",
    "df['date']=df['time'].apply(lambda x: x.strftime('%Y%m%d'))\n",
    "df['HrMn']=df['time'].apply(lambda x: x.strftime('%H%M'))"
   ]
  },
  {
   "cell_type": "code",
   "execution_count": null,
   "metadata": {
    "collapsed": false
   },
   "outputs": [],
   "source": [
    "bins=arange(0,df['speed'].max())\n",
    "df['speed'].hist(bins=bins, normed=True,alpha=0.5,label='min')\n",
    "plt_configure(legend=True)\n",
    "\n",
    "plt.figure()\n",
    "bins=arange(0,362)\n",
    "df['dir'].hist(bins=bins, normed=True,alpha=0.5,label='min')\n",
    "plt_configure(legend=True, figsize=(20,4))"
   ]
  },
  {
   "cell_type": "code",
   "execution_count": null,
   "metadata": {
    "collapsed": true
   },
   "outputs": [],
   "source": [
    "df.to_csv('D:/NDAWN/baker_hr_avg.csv', index=False, float_format='%.2f')"
   ]
  },
  {
   "cell_type": "code",
   "execution_count": null,
   "metadata": {
    "collapsed": false
   },
   "outputs": [],
   "source": [
    "sss"
   ]
  },
  {
   "cell_type": "code",
   "execution_count": null,
   "metadata": {
    "collapsed": true
   },
   "outputs": [],
   "source": [
    "gmm = [[0.670,-6.409,-4.276,9.773,10.219,-0.200],\n",
    "[0.202,2.084,9.018,6.664,6.802,-0.108],\n",
    "[0.128,9.989,-12.887,7.075,6.579,-0.311],]\n",
    "speed_unit_text = ' (knot)'"
   ]
  },
  {
   "cell_type": "code",
   "execution_count": null,
   "metadata": {
    "collapsed": false
   },
   "outputs": [],
   "source": [
    "fig_gmm, ax = plt.subplots(figsize=(3.5,3.5))\n",
    "plot_gmm_ellipses(gmm, ax=ax, xlabel='x'+speed_unit_text, ylabel='y'+speed_unit_text)"
   ]
  },
  {
   "cell_type": "code",
   "execution_count": null,
   "metadata": {
    "collapsed": false
   },
   "outputs": [],
   "source": [
    "x = [1,2,3,4]\n",
    "y = [2,3,4,5]\n",
    "plot(x, y )\n",
    "plt_configure(xlabel=\"ln($V$)\", ylabel=\"ln $P$\")"
   ]
  },
  {
   "cell_type": "code",
   "execution_count": null,
   "metadata": {
    "collapsed": false
   },
   "outputs": [],
   "source": [
    "df = pd.DataFrame(np.random.rand(50, 4), columns=['a', 'b', 'c', 'd'])\n",
    "\n"
   ]
  },
  {
   "cell_type": "code",
   "execution_count": null,
   "metadata": {
    "collapsed": false
   },
   "outputs": [],
   "source": [
    "mpl.rcParams['patch.force_edgecolor'] = True\n",
    "df.plot.scatter(x='a', y='b')"
   ]
  },
  {
   "cell_type": "code",
   "execution_count": null,
   "metadata": {
    "collapsed": false
   },
   "outputs": [],
   "source": [
    "sss"
   ]
  },
  {
   "cell_type": "code",
   "execution_count": null,
   "metadata": {
    "collapsed": true
   },
   "outputs": [],
   "source": [
    "# mpl.style.use('ggplot')"
   ]
  },
  {
   "cell_type": "code",
   "execution_count": null,
   "metadata": {
    "collapsed": false
   },
   "outputs": [],
   "source": [
    "df2 = pd.DataFrame(np.random.rand(10, 4), columns=['a', 'b', 'c', 'd'])\n",
    "\n",
    "df2.plot.bar()"
   ]
  },
  {
   "cell_type": "code",
   "execution_count": null,
   "metadata": {
    "collapsed": false
   },
   "outputs": [],
   "source": [
    "sss"
   ]
  },
  {
   "cell_type": "code",
   "execution_count": null,
   "metadata": {
    "collapsed": false
   },
   "outputs": [],
   "source": [
    "fig, ax = plt.subplots()\n",
    "x = [1,2,3,4,5]\n",
    "y = [5,2,6,7,2]\n",
    "ax.set(xlabel='X Label', ylabel='Y Label', title='My Title')"
   ]
  },
  {
   "cell_type": "code",
   "execution_count": null,
   "metadata": {
    "collapsed": false
   },
   "outputs": [],
   "source": [
    "x = [1,2,3,4,5]\n",
    "y = [5,2,6,7,2]\n",
    "plot(x, y, '-', label='test')\n",
    "plt_configure(title = 'This is my title', figsize=(4,4), xlabel='X name', ylabel='Y name', legend=True)"
   ]
  },
  {
   "cell_type": "code",
   "execution_count": null,
   "metadata": {
    "collapsed": false
   },
   "outputs": [],
   "source": [
    "# fig, ax = plt.subplots()\n",
    "x = [1,2,3,4,5]\n",
    "y = [5,2,6,7,2]\n",
    "plot(x, y, '-', label='test')\n",
    "ax = plt.gca()\n",
    "ax.set_title('This is my title')\n",
    "ax.set_xlabel('X name')\n",
    "ax.set_ylabel('Y name')\n",
    "ax.legend()\n",
    "plt.gcf().set_size_inches(4,4)"
   ]
  },
  {
   "cell_type": "code",
   "execution_count": null,
   "metadata": {
    "collapsed": false
   },
   "outputs": [],
   "source": [
    "mpl.rcParams['axes.prop_cycle'].by_key()['color']"
   ]
  },
  {
   "cell_type": "code",
   "execution_count": null,
   "metadata": {
    "collapsed": false
   },
   "outputs": [],
   "source": [
    "mpl.rcParams['axes.prop_cycle']"
   ]
  },
  {
   "cell_type": "code",
   "execution_count": null,
   "metadata": {
    "collapsed": false
   },
   "outputs": [],
   "source": [
    "prop_cycle = mpl.rcParams['axes.prop_cycle']\n",
    "# prop_cycle = iter(mpl.rcParams['axes.color_cycle'])\n",
    "x = [1,2,3,4,5]\n",
    "y = [2,5,1,2,1]\n",
    "y_menas = [3,3,3,3,3]\n",
    "plot(x, y, '-', color=next(prop_cycle))\n",
    "plot(x, y_menas, '--', color=next(prop_cycle))"
   ]
  },
  {
   "cell_type": "code",
   "execution_count": null,
   "metadata": {
    "collapsed": false
   },
   "outputs": [],
   "source": [
    "from cycler import cycler\n",
    "import numpy as np\n",
    "import matplotlib.pyplot as plt\n",
    "\n",
    "x = np.linspace(0, 2 * np.pi)\n",
    "offsets = np.linspace(0, 2*np.pi, 4, endpoint=False)\n",
    "# Create array with shifted-sine curve along each column\n",
    "yy = np.transpose([np.sin(x + phi) for phi in offsets])\n",
    "\n",
    "# 1. Setting prop cycle on default rc parameter\n",
    "plt.rc('lines', linewidth=4)\n",
    "plt.rc('axes', prop_cycle=(cycler('color', ['r', 'g', 'b', 'y']) +\n",
    "                           cycler('linestyle', ['-', '--', ':', '-.'])))\n",
    "fig, (ax0, ax1) = plt.subplots(nrows=2)\n",
    "ax0.plot(yy)\n",
    "ax0.set_title('Set default color cycle to rgby')"
   ]
  },
  {
   "cell_type": "code",
   "execution_count": null,
   "metadata": {
    "collapsed": false
   },
   "outputs": [],
   "source": [
    "len(np.linspace(0,30))\n",
    "\n",
    "a, b, c = test = 25, 1,3"
   ]
  },
  {
   "cell_type": "code",
   "execution_count": null,
   "metadata": {
    "collapsed": false
   },
   "outputs": [],
   "source": [
    "test"
   ]
  },
  {
   "cell_type": "code",
   "execution_count": null,
   "metadata": {
    "collapsed": false
   },
   "outputs": [],
   "source": [
    "a"
   ]
  },
  {
   "cell_type": "code",
   "execution_count": null,
   "metadata": {
    "collapsed": false
   },
   "outputs": [],
   "source": [
    "df = pd.read_csv('test.txt', skipinitialspace=True, sep=' ', error_bad_lines=False,\n",
    "                names = ['stationID','time','vis','day_type','dir','speed','dir_max','speed_max','unname','visual_range', 'unknown'])\n",
    "df"
   ]
  },
  {
   "cell_type": "code",
   "execution_count": null,
   "metadata": {
    "collapsed": false
   },
   "outputs": [],
   "source": [
    "df['dir'].apply(lambda x: str(x).isdigit())"
   ]
  },
  {
   "cell_type": "code",
   "execution_count": null,
   "metadata": {
    "collapsed": false
   },
   "outputs": [],
   "source": [
    "import pandas as pd\n",
    "s = pd.Series(['0.55', '2', -3, '1234t1s1'])\n",
    "pd.to_numeric(s, downcast='integer',errors='coerce' )"
   ]
  },
  {
   "cell_type": "code",
   "execution_count": null,
   "metadata": {
    "collapsed": false
   },
   "outputs": [],
   "source": [
    "s"
   ]
  },
  {
   "cell_type": "code",
   "execution_count": null,
   "metadata": {
    "collapsed": false
   },
   "outputs": [],
   "source": [
    "df = pd.read_csv('DSM/minute_avg.csv', header=0, skipinitialspace=True, dtype={'HrMn': object})"
   ]
  },
  {
   "cell_type": "code",
   "execution_count": null,
   "metadata": {
    "collapsed": false
   },
   "outputs": [],
   "source": [
    "df"
   ]
  },
  {
   "cell_type": "code",
   "execution_count": null,
   "metadata": {
    "collapsed": false
   },
   "outputs": [],
   "source": [
    "df['year'] = df['date'].apply(lambda x: str(x)[:6])\n",
    "df['year'].value_counts().sort_index().plot(kind='bar', figsize=(20,4))"
   ]
  },
  {
   "cell_type": "code",
   "execution_count": null,
   "metadata": {
    "collapsed": false
   },
   "outputs": [],
   "source": [
    "display(df[df.duplicated('date')])"
   ]
  },
  {
   "cell_type": "code",
   "execution_count": null,
   "metadata": {
    "collapsed": true
   },
   "outputs": [],
   "source": [
    "gmm_em_result = [[0.670,-6.409,-4.276,9.773,10.219,-0.200],\n",
    "[0.202,2.084,9.018,6.664,6.80,-0.108],\n",
    "[0.128,9.989,-12.887,7.075,6.579,-0.311]]"
   ]
  },
  {
   "cell_type": "code",
   "execution_count": null,
   "metadata": {
    "collapsed": false
   },
   "outputs": [],
   "source": [
    "plot_gmm_ellipses(gmm_em_result)"
   ]
  },
  {
   "cell_type": "code",
   "execution_count": null,
   "metadata": {
    "collapsed": false
   },
   "outputs": [],
   "source": [
    "x=[1,2,3,4,5]\n",
    "y=[4,5,5,2,1]\n",
    "plot(x,y,'-')\n",
    "plt.gca().set_xlim([1, 5])"
   ]
  },
  {
   "cell_type": "code",
   "execution_count": null,
   "metadata": {
    "collapsed": true
   },
   "outputs": [],
   "source": [
    "file_path = './data/NCDC/uk/tiree/dat.txt'\n",
    "df = pd.read_csv(file_path,header=0, skipinitialspace=True)\n",
    "df.rename(columns={'Date':'date','Dir':'dir','Spd':'speed','Type':'type','I.1':'wind_type'}, inplace=True)\n",
    "df = df[['date','HrMn','type','dir','speed','wind_type' ]]"
   ]
  },
  {
   "cell_type": "code",
   "execution_count": null,
   "metadata": {
    "collapsed": true
   },
   "outputs": [],
   "source": [
    "df = df.query(\"(dir <= 999) & (speed < 100) & \\\n",
    "              (date >= 20000000) & (date < 20160000) \")"
   ]
  },
  {
   "cell_type": "code",
   "execution_count": null,
   "metadata": {
    "collapsed": false
   },
   "outputs": [],
   "source": [
    "# df = pd.read_csv('DSM/DSM.csv',header=0, skipinitialspace=True, dtype={'HrMn': object})\n",
    "# df['speed']=pd.to_numeric(df['speed'], downcast='integer', errors='coerce')\n",
    "# df['dir']=pd.to_numeric(df['dir'], downcast='integer', errors='coerce')\n",
    "# df['dir_max']=pd.to_numeric(df['dir_max'], downcast='integer', errors='coerce')\n",
    "# df['speed_max']=pd.to_numeric(df['speed_max'], downcast='integer', errors='coerce')\n",
    "# df = df.dropna()\n",
    "# df=df[['date','HrMn','dir','speed','dir_max','speed_max']]"
   ]
  },
  {
   "cell_type": "code",
   "execution_count": null,
   "metadata": {
    "collapsed": false
   },
   "outputs": [],
   "source": [
    "# df['Hr']=df['HrMn'].apply(lambda x: int(str(x)[:-2]))\n",
    "# df.dir = np.radians(df.dir)\n",
    "# temp_df =df.groupby(['date', 'Hr']).agg({'speed' : np.mean,'dir': sp.stats.circmean,'speed_max': np.max}).reset_index()\n",
    "# df.dir = np.degrees(df.dir)\n",
    "# temp_df.dir = np.degrees(temp_df.dir)\n",
    "# temp_df['HrMn']=temp_df['Hr'].apply(lambda x: \"%02d00\"%x)"
   ]
  },
  {
   "cell_type": "code",
   "execution_count": null,
   "metadata": {
    "collapsed": false
   },
   "outputs": [],
   "source": [
    "df"
   ]
  },
  {
   "cell_type": "code",
   "execution_count": null,
   "metadata": {
    "collapsed": false
   },
   "outputs": [],
   "source": [
    "def fit_weibul(df_speed):\n",
    "    max_speed = df_speed.max()\n",
    "    x = linspace(0, max_speed)\n",
    "    data_size = len(df_speed)\n",
    "    \n",
    "    df_speed.hist(bins=arange(0, max_speed), alpha=0.5, label='Data', normed=True)  \n",
    "\n",
    "    weibull_params = sp.stats.exponweib.fit(df_speed, floc=0, f0=1)\n",
    "    y_weibull = sp.stats.exponweib.pdf(x, *weibull_params)\n",
    "    plot(x, y_weibull, '--', color='black',label='Weibull') "
   ]
  },
  {
   "cell_type": "code",
   "execution_count": null,
   "metadata": {
    "collapsed": true
   },
   "outputs": [],
   "source": [
    "temp_df = df"
   ]
  },
  {
   "cell_type": "code",
   "execution_count": null,
   "metadata": {
    "collapsed": false
   },
   "outputs": [],
   "source": [
    "for time_limit in [0, 20050000, 20100000]:\n",
    "    plt.figure()\n",
    "    df_speed=temp_df.query('date > @time_limit')['speed']\n",
    "    fit_weibul(df_speed)\n",
    "align_figures()"
   ]
  },
  {
   "cell_type": "code",
   "execution_count": null,
   "metadata": {
    "collapsed": false
   },
   "outputs": [],
   "source": [
    "sss"
   ]
  },
  {
   "cell_type": "code",
   "execution_count": null,
   "metadata": {
    "collapsed": false
   },
   "outputs": [],
   "source": [
    "temp_df"
   ]
  },
  {
   "cell_type": "code",
   "execution_count": null,
   "metadata": {
    "collapsed": false
   },
   "outputs": [],
   "source": [
    "temp_df2, speed_redistribution_info = randomize_speed(temp_df, 'up')"
   ]
  },
  {
   "cell_type": "code",
   "execution_count": null,
   "metadata": {
    "collapsed": false
   },
   "outputs": [],
   "source": [
    "fit_weibul(temp_df2)"
   ]
  },
  {
   "cell_type": "code",
   "execution_count": null,
   "metadata": {
    "collapsed": true
   },
   "outputs": [],
   "source": [
    "sss"
   ]
  },
  {
   "cell_type": "code",
   "execution_count": null,
   "metadata": {
    "collapsed": false
   },
   "outputs": [],
   "source": [
    "df_2016 = df.query('date >= 20150000 & date <= 20160000')"
   ]
  },
  {
   "cell_type": "code",
   "execution_count": null,
   "metadata": {
    "collapsed": false
   },
   "outputs": [],
   "source": [
    "# fit_weibul(df_2016)"
   ]
  },
  {
   "cell_type": "code",
   "execution_count": null,
   "metadata": {
    "collapsed": false
   },
   "outputs": [],
   "source": [
    "sss"
   ]
  },
  {
   "cell_type": "code",
   "execution_count": null,
   "metadata": {
    "collapsed": false
   },
   "outputs": [],
   "source": [
    "fig,ax = plt.subplots()\n",
    "\n",
    "ecdf = sm.distributions.ECDF(df.speed)\n",
    "x = linspace(0, df.speed.max())\n",
    "y = ecdf(x)\n",
    "plot(log(x), log(-log(1-y)),'o', label='ECDF')\n",
    "\n",
    "_, k_shape, _, lamb_scale = sp.stats.exponweib.fit(df.speed, floc=0, f0=1)\n",
    "y=1-exp(-(x/lamb_scale)**k_shape) # cdf\n",
    "plot(log(x), log(-log(1-y)),'-', label='Weibull')\n",
    "plt_configure(xlabel=\"ln(V)\", ylabel=\"ln(-ln(1-P)\",legend={'loc':'best'},figsize=(4,3))"
   ]
  },
  {
   "cell_type": "code",
   "execution_count": null,
   "metadata": {
    "collapsed": false
   },
   "outputs": [],
   "source": [
    "ssss"
   ]
  },
  {
   "cell_type": "code",
   "execution_count": null,
   "metadata": {
    "collapsed": true
   },
   "outputs": [],
   "source": [
    "ssss"
   ]
  },
  {
   "cell_type": "code",
   "execution_count": null,
   "metadata": {
    "collapsed": false
   },
   "outputs": [],
   "source": [
    "sns.palplot(sns.color_palette(\"hls\",10 ))"
   ]
  },
  {
   "cell_type": "code",
   "execution_count": null,
   "metadata": {
    "collapsed": false
   },
   "outputs": [],
   "source": [
    "sns.palplot(sns.color_palette(\"hls\",6 ))"
   ]
  },
  {
   "cell_type": "code",
   "execution_count": null,
   "metadata": {
    "collapsed": false
   },
   "outputs": [],
   "source": [
    "sns.palplot(sns.color_palette(\"hls\",4 ))"
   ]
  },
  {
   "cell_type": "code",
   "execution_count": null,
   "metadata": {
    "collapsed": false
   },
   "outputs": [],
   "source": [
    "sns.palplot(sns.color_palette(\"hls\",3 ))"
   ]
  },
  {
   "cell_type": "code",
   "execution_count": null,
   "metadata": {
    "collapsed": false
   },
   "outputs": [],
   "source": [
    "sns.palplot(mpl.rcParams['axes.color_cycle'])"
   ]
  },
  {
   "cell_type": "code",
   "execution_count": null,
   "metadata": {
    "collapsed": false
   },
   "outputs": [],
   "source": [
    "sns.palplot(sns.color_palette(\"Blues_r\"))"
   ]
  },
  {
   "cell_type": "code",
   "execution_count": null,
   "metadata": {
    "collapsed": false
   },
   "outputs": [],
   "source": [
    "sns.palplot(sns.cubehelix_palette(reverse=True))"
   ]
  },
  {
   "cell_type": "code",
   "execution_count": null,
   "metadata": {
    "collapsed": false
   },
   "outputs": [],
   "source": [
    "import matplotlib\n",
    "from numpy.random import randn\n",
    "import matplotlib.pyplot as plt\n",
    "from matplotlib.ticker import FuncFormatter\n",
    "\n",
    "\n",
    "def to_percent(y, position):\n",
    "    # Ignore the passed in position. This has the effect of scaling the default\n",
    "    # tick locations.\n",
    "    s = str(100 * y)\n",
    "\n",
    "    # The percent symbol needs escaping in latex\n",
    "    if matplotlib.rcParams['text.usetex'] is True:\n",
    "        return s + r'$\\%$'\n",
    "    else:\n",
    "        return s + '%'\n",
    "\n",
    "x = randn(5000)\n",
    "\n",
    "# Make a normed histogram. It'll be multiplied by 100 later.\n",
    "plt.hist(x, bins=50, normed=True, edgecolor = \"black\")\n",
    "\n",
    "# Create the formatter using the function to_percent. This multiplies all the\n",
    "# default labels by 100, making them all percentages\n",
    "formatter = FuncFormatter(to_percent)\n",
    "\n",
    "# Set the formatter\n",
    "plt.gca().yaxis.set_major_formatter(formatter)\n",
    "\n",
    "plt.show()"
   ]
  },
  {
   "cell_type": "code",
   "execution_count": null,
   "metadata": {
    "collapsed": false
   },
   "outputs": [],
   "source": [
    "from sklearn import datasets\n",
    "from sklearn.model_selection import train_test_split\n",
    "from sklearn.model_selection import GridSearchCV\n",
    "from sklearn.metrics import classification_report\n",
    "from sklearn.svm import SVC\n",
    "\n",
    "print(__doc__)\n",
    "\n",
    "# Loading the Digits dataset\n",
    "digits = datasets.load_digits()\n",
    "\n",
    "# To apply an classifier on this data, we need to flatten the image, to\n",
    "# turn the data in a (samples, feature) matrix:\n",
    "n_samples = len(digits.images)\n",
    "X = digits.images.reshape((n_samples, -1))\n",
    "y = digits.target\n",
    "\n",
    "# Split the dataset in two equal parts\n",
    "X_train, X_test, y_train, y_test = train_test_split(\n",
    "    X, y, test_size=0.5, random_state=0)\n",
    "\n",
    "# Set the parameters by cross-validation\n",
    "tuned_parameters = [{'kernel': ['rbf'], 'gamma': [1e-3, 1e-4],\n",
    "                     'C': [1, 10, 100, 1000]},\n",
    "                    {'kernel': ['linear'], 'C': [1, 10, 100, 1000]}]\n",
    "\n",
    "scores = ['precision', 'recall']\n",
    "\n",
    "for score in scores:\n",
    "    print(\"# Tuning hyper-parameters for %s\" % score)\n",
    "    print()\n",
    "\n",
    "    clf = GridSearchCV(SVC(C=1), tuned_parameters, cv=5,\n",
    "                       scoring='%s_macro' % score)\n",
    "    clf.fit(X_train, y_train)\n",
    "\n",
    "    print(\"Best parameters set found on development set:\")\n",
    "    print()\n",
    "    print(clf.best_params_)\n",
    "    print()\n",
    "    print(\"Grid scores on development set:\")\n",
    "    print()\n",
    "    means = clf.cv_results_['mean_test_score']\n",
    "    stds = clf.cv_results_['std_test_score']\n",
    "    for mean, std, params in zip(means, stds, clf.cv_results_['params']):\n",
    "        print(\"%0.3f (+/-%0.03f) for %r\"\n",
    "              % (mean, std * 2, params))\n",
    "    print()\n",
    "\n",
    "    print(\"Detailed classification report:\")\n",
    "    print()\n",
    "    print(\"The model is trained on the full development set.\")\n",
    "    print(\"The scores are computed on the full evaluation set.\")\n",
    "    print()\n",
    "    y_true, y_pred = y_test, clf.predict(X_test)\n",
    "    print(classification_report(y_true, y_pred))\n",
    "    print()\n",
    "\n",
    "# Note the problem is too easy: the hyperparameter plateau is too flat and the\n",
    "# output model is the same for precision and recall with ties in quality."
   ]
  },
  {
   "cell_type": "code",
   "execution_count": null,
   "metadata": {
    "collapsed": false
   },
   "outputs": [],
   "source": [
    "%matplotlib inline\n",
    "%load_ext autoreload\n",
    "%autoreload 2\n",
    "\n",
    "# from __future__ import division\n",
    "from import_file import *\n",
    "from helpers.parallel_helper import *\n",
    "load_libs()"
   ]
  },
  {
   "cell_type": "code",
   "execution_count": null,
   "metadata": {
    "collapsed": false
   },
   "outputs": [],
   "source": [
    "prop_cycle = mpl.rcParams['axes.prop_cycle']"
   ]
  },
  {
   "cell_type": "code",
   "execution_count": null,
   "metadata": {
    "collapsed": false
   },
   "outputs": [],
   "source": [
    "prop_cycle"
   ]
  }
 ],
 "metadata": {
  "kernelspec": {
   "display_name": "Python 3",
   "language": "python",
   "name": "python3"
  },
  "language_info": {
   "codemirror_mode": {
    "name": "ipython",
    "version": 3
   },
   "file_extension": ".py",
   "mimetype": "text/x-python",
   "name": "python",
   "nbconvert_exporter": "python",
   "pygments_lexer": "ipython3",
   "version": "3.6.0"
  }
 },
 "nbformat": 4,
 "nbformat_minor": 2
}
