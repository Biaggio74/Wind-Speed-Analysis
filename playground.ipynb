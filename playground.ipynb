{
 "cells": [
  {
   "cell_type": "code",
   "execution_count": 2,
   "metadata": {
    "collapsed": false
   },
   "outputs": [
    {
     "data": {
      "text/html": [
       "<script>\n",
       "    code_show=false;\n",
       "    function code_toggle() {\n",
       "     if (code_show){\n",
       "     $('div.input').hide();\n",
       "     } else {\n",
       "     $('div.input').show();\n",
       "     }\n",
       "     code_show = !code_show\n",
       "    }\n",
       "    $( document ).ready(code_toggle);\n",
       "    </script>\n",
       "    <form action=\"javascript:code_toggle()\"><input type=\"submit\" value=\"Click here to toggle on/off the raw code.\"></form>"
      ],
      "text/plain": [
       "<IPython.core.display.HTML object>"
      ]
     },
     "metadata": {},
     "output_type": "display_data"
    },
    {
     "data": {
      "text/html": [
       "<script type='text/javascript'>function generate_toc_content(){var all_headers=$(\"#notebook\").find(\":header\");var toc=\"\";var level=0;var min_level=3;all_headers.each(function(i,h){var openLevel=parseInt(h.tagName.slice(1),10);if(openLevel>min_level){return;}\n",
       "var titleText=$(h).clone().children().remove().end().text();if(openLevel>level){toc+=(new Array(openLevel-level+1)).join(\"<ol class='toc-item unstyle'>\");}else if(openLevel<level){toc+=(new Array(level-openLevel+1)).join('</li></ol>');}else{toc+=(new Array(level+1)).join('</li>');}\n",
       "level=parseInt(openLevel);var anchor=$(h).attr('id');toc+='<li><a href=\"#'+anchor+'\">'+titleText\n",
       "+'</a>';});if(level){toc+=(new Array(level+1)).join('</ol>');}\n",
       "return toc}\n",
       "function show_list_number(){$(\"#toc ol\").toggleClass('unstyle');$(\"#toc ol\").toggleClass('nested');$(\"#toc li\").toggleClass('nested');};var create_toc_div=function(){var toc_wrapper=$('<div id=\"toc-wrapper\"/>').append($(\"<div/>\",{class:'header',text:'Contents '}).append($(\"<a/>\",{id:'toc-reload-btn',href:'#',title:'Reload ToC',text:\"  \\u21BB\"}).click(function(){create_toc();return false;})).append($(\"<a/>\",{id:'display-heading-number-btn',href:'#',title:'Number text sections',text:'#'}).click(function(){show_list_number();}))).append($(\"<div/>\",{id:\"toc\"}));$('<div/>',{class:'col-md-2',id:'toc-column'}).append(toc_wrapper).insertBefore('#notebook-container');};var toggle_toc=function(){$(\"#toc-column\").toggle({duration:0,complete:function(){$('#notebook-container').toggleClass(\"col-md-9\").toggleClass(\"col-md-10 col-md-offset-1\");}});};var init_toc_container=function(){if($(\"#toc_button\").length===0){if(typeof IPython!=\"undefined\"){IPython.toolbar.add_buttons_group([{'label':'Table of Contents','icon':'fa-list','callback':toggle_toc,'id':'toc_button'}]);}}\n",
       "create_toc_div();$('#notebook').addClass('row');$('#notebook-container').addClass('col-md-9').removeClass('container');};var create_toc=function(){var ToC=generate_toc_content();$(\"#toc\").empty().append(ToC);};$(document).ready(function(){if(!$('#notebook').hasClass('row')){init_toc_container()}\n",
       "if(typeof IPython!=\"undefined\"){$([IPython.events]).on(\"rendered.MarkdownCell\",function(){create_toc();});}\n",
       "create_toc();});</script><style media='screen' type='text/css'>#toc {    height: 100%;}#toc > .toc-item {    padding: 0;    margin:  0;}#toc .toc-item .toc-item{  padding-left: 10px;}.toc-item.unstyle {    list-style-type: none;}ol.nested{    counter-reset: item}li.nested{    display: block}li.nested:before{    content: counters(item, \".\") \". \";    counter-increment: item}#ipython-main-app #toc-wrapper{    height: 85%;}#toc-wrapper {    height: 95%;    padding: 10px;    position: fixed;    max-width: 200px;    background-color: #fff;    opacity: .8;    overflow: scroll;}#toc-wrapper.closed {  min-width: 100px;  width: auto;  height:auto;  /*transition: width;*/}#toc-wrapper:hover{  opacity: 1;}#toc-wrapper .header {  font-size: 18px;  font-weight: bold;}#toc-wrapper .hide-btn {  font-size: 14px;  font-family: monospace;}#toc-reload-btn, #display-heading-number-btn {    font-size: 14px;    font-family: monospace;    margin-right: 10px;}.nav .active a {  color: black; }</style>"
      ],
      "text/plain": [
       "<IPython.core.display.HTML object>"
      ]
     },
     "metadata": {},
     "output_type": "display_data"
    }
   ],
   "source": [
    "%matplotlib inline\n",
    "%load_ext autoreload\n",
    "%autoreload 2\n",
    "\n",
    "# from __future__ import division\n",
    "from import_file import *\n",
    "from helpers.parallel_helper import *\n",
    "load_libs()"
   ]
  },
  {
   "cell_type": "code",
   "execution_count": 17,
   "metadata": {
    "collapsed": false
   },
   "outputs": [
    {
     "name": "stdout",
     "output_type": "stream",
     "text": [
      "2.0.0\n"
     ]
    }
   ],
   "source": [
    "print(mpl.__version__)"
   ]
  },
  {
   "cell_type": "code",
   "execution_count": 19,
   "metadata": {
    "collapsed": false
   },
   "outputs": [
    {
     "data": {
      "text/plain": [
       "'Greys'"
      ]
     },
     "execution_count": 19,
     "metadata": {},
     "output_type": "execute_result"
    }
   ],
   "source": [
    "mpl.rcParams['image.cmap']"
   ]
  },
  {
   "cell_type": "code",
   "execution_count": 21,
   "metadata": {
    "collapsed": false
   },
   "outputs": [
    {
     "data": {
      "application/pdf": "[encoded data removed]",
      "image/png": "[encoded data removed]",
      "text/plain": [
       "<matplotlib.figure.Figure at 0x11dbe8c50>"
      ]
     },
     "metadata": {},
     "output_type": "display_data"
    }
   ],
   "source": [
    "sns.palplot(sns.color_palette(\"hls\"))"
   ]
  },
  {
   "cell_type": "code",
   "execution_count": 3,
   "metadata": {
    "collapsed": false
   },
   "outputs": [
    {
     "name": "stderr",
     "output_type": "stream",
     "text": [
      "/Users/cqcn1991/anaconda/lib/python3.6/site-packages/matplotlib/__init__.py:938: UserWarning: axes.color_cycle is deprecated and replaced with axes.prop_cycle; please use the latter.\n",
      "  warnings.warn(self.msg_depr % (key, alt_key))\n"
     ]
    },
    {
     "data": {
      "application/pdf": "[encoded data removed]",
      "image/png": "[encoded data removed]",
      "text/plain": [
       "<matplotlib.figure.Figure at 0x10f21e198>"
      ]
     },
     "metadata": {},
     "output_type": "display_data"
    }
   ],
   "source": [
    "sns.palplot(mpl.rcParams['axes.color_cycle'])"
   ]
  },
  {
   "cell_type": "code",
   "execution_count": 24,
   "metadata": {
    "collapsed": false
   },
   "outputs": [
    {
     "data": {
      "application/pdf": "[encoded data removed]",
      "image/png": "[encoded data removed]",
      "text/plain": [
       "<matplotlib.figure.Figure at 0x11e7f9320>"
      ]
     },
     "metadata": {},
     "output_type": "display_data"
    }
   ],
   "source": [
    "sns.palplot(sns.color_palette(\"Blues_r\"))"
   ]
  },
  {
   "cell_type": "code",
   "execution_count": 22,
   "metadata": {
    "collapsed": false
   },
   "outputs": [
    {
     "data": {
      "application/pdf": "[encoded data removed]",
      "image/png": "[encoded data removed]",
      "text/plain": [
       "<matplotlib.figure.Figure at 0x11a5ce5c0>"
      ]
     },
     "metadata": {},
     "output_type": "display_data"
    }
   ],
   "source": [
    "sns.palplot(sns.cubehelix_palette(reverse=True))"
   ]
  },
  {
   "cell_type": "code",
   "execution_count": 10,
   "metadata": {
    "collapsed": false
   },
   "outputs": [
    {
     "data": {
      "application/pdf": "[encoded data removed]",
      "image/png": "[encoded data removed]",
      "text/plain": [
       "<matplotlib.figure.Figure at 0x11f64bb70>"
      ]
     },
     "metadata": {},
     "output_type": "display_data"
    }
   ],
   "source": [
    "import matplotlib\n",
    "from numpy.random import randn\n",
    "import matplotlib.pyplot as plt\n",
    "from matplotlib.ticker import FuncFormatter\n",
    "\n",
    "\n",
    "def to_percent(y, position):\n",
    "    # Ignore the passed in position. This has the effect of scaling the default\n",
    "    # tick locations.\n",
    "    s = str(100 * y)\n",
    "\n",
    "    # The percent symbol needs escaping in latex\n",
    "    if matplotlib.rcParams['text.usetex'] is True:\n",
    "        return s + r'$\\%$'\n",
    "    else:\n",
    "        return s + '%'\n",
    "\n",
    "x = randn(5000)\n",
    "\n",
    "# Make a normed histogram. It'll be multiplied by 100 later.\n",
    "plt.hist(x, bins=50, normed=True, edgecolor = \"black\")\n",
    "\n",
    "# Create the formatter using the function to_percent. This multiplies all the\n",
    "# default labels by 100, making them all percentages\n",
    "formatter = FuncFormatter(to_percent)\n",
    "\n",
    "# Set the formatter\n",
    "plt.gca().yaxis.set_major_formatter(formatter)\n",
    "\n",
    "plt.show()"
   ]
  },
  {
   "cell_type": "code",
   "execution_count": 13,
   "metadata": {
    "collapsed": false
   },
   "outputs": [
    {
     "name": "stdout",
     "output_type": "stream",
     "text": [
      "Automatically created module for IPython interactive environment\n",
      "# Tuning hyper-parameters for precision\n",
      "\n",
      "Best parameters set found on development set:\n",
      "\n",
      "{'C': 10, 'gamma': 0.001, 'kernel': 'rbf'}\n",
      "\n",
      "Grid scores on development set:\n",
      "\n",
      "0.986 (+/-0.016) for {'C': 1, 'gamma': 0.001, 'kernel': 'rbf'}\n",
      "0.959 (+/-0.029) for {'C': 1, 'gamma': 0.0001, 'kernel': 'rbf'}\n",
      "0.988 (+/-0.017) for {'C': 10, 'gamma': 0.001, 'kernel': 'rbf'}\n",
      "0.982 (+/-0.026) for {'C': 10, 'gamma': 0.0001, 'kernel': 'rbf'}\n",
      "0.988 (+/-0.017) for {'C': 100, 'gamma': 0.001, 'kernel': 'rbf'}\n",
      "0.982 (+/-0.025) for {'C': 100, 'gamma': 0.0001, 'kernel': 'rbf'}\n",
      "0.988 (+/-0.017) for {'C': 1000, 'gamma': 0.001, 'kernel': 'rbf'}\n",
      "0.982 (+/-0.025) for {'C': 1000, 'gamma': 0.0001, 'kernel': 'rbf'}\n",
      "0.975 (+/-0.014) for {'C': 1, 'kernel': 'linear'}\n",
      "0.975 (+/-0.014) for {'C': 10, 'kernel': 'linear'}\n",
      "0.975 (+/-0.014) for {'C': 100, 'kernel': 'linear'}\n",
      "0.975 (+/-0.014) for {'C': 1000, 'kernel': 'linear'}\n",
      "\n",
      "Detailed classification report:\n",
      "\n",
      "The model is trained on the full development set.\n",
      "The scores are computed on the full evaluation set.\n",
      "\n",
      "             precision    recall  f1-score   support\n",
      "\n",
      "          0       1.00      1.00      1.00        89\n",
      "          1       0.97      1.00      0.98        90\n",
      "          2       0.99      0.98      0.98        92\n",
      "          3       1.00      0.99      0.99        93\n",
      "          4       1.00      1.00      1.00        76\n",
      "          5       0.99      0.98      0.99       108\n",
      "          6       0.99      1.00      0.99        89\n",
      "          7       0.99      1.00      0.99        78\n",
      "          8       1.00      0.98      0.99        92\n",
      "          9       0.99      0.99      0.99        92\n",
      "\n",
      "avg / total       0.99      0.99      0.99       899\n",
      "\n",
      "\n",
      "# Tuning hyper-parameters for recall\n",
      "\n",
      "Best parameters set found on development set:\n",
      "\n",
      "{'C': 10, 'gamma': 0.001, 'kernel': 'rbf'}\n",
      "\n",
      "Grid scores on development set:\n",
      "\n",
      "0.986 (+/-0.019) for {'C': 1, 'gamma': 0.001, 'kernel': 'rbf'}\n",
      "0.957 (+/-0.029) for {'C': 1, 'gamma': 0.0001, 'kernel': 'rbf'}\n",
      "0.987 (+/-0.019) for {'C': 10, 'gamma': 0.001, 'kernel': 'rbf'}\n",
      "0.981 (+/-0.028) for {'C': 10, 'gamma': 0.0001, 'kernel': 'rbf'}\n",
      "0.987 (+/-0.019) for {'C': 100, 'gamma': 0.001, 'kernel': 'rbf'}\n",
      "0.981 (+/-0.026) for {'C': 100, 'gamma': 0.0001, 'kernel': 'rbf'}\n",
      "0.987 (+/-0.019) for {'C': 1000, 'gamma': 0.001, 'kernel': 'rbf'}\n",
      "0.981 (+/-0.026) for {'C': 1000, 'gamma': 0.0001, 'kernel': 'rbf'}\n",
      "0.972 (+/-0.012) for {'C': 1, 'kernel': 'linear'}\n",
      "0.972 (+/-0.012) for {'C': 10, 'kernel': 'linear'}\n",
      "0.972 (+/-0.012) for {'C': 100, 'kernel': 'linear'}\n",
      "0.972 (+/-0.012) for {'C': 1000, 'kernel': 'linear'}\n",
      "\n",
      "Detailed classification report:\n",
      "\n",
      "The model is trained on the full development set.\n",
      "The scores are computed on the full evaluation set.\n",
      "\n",
      "             precision    recall  f1-score   support\n",
      "\n",
      "          0       1.00      1.00      1.00        89\n",
      "          1       0.97      1.00      0.98        90\n",
      "          2       0.99      0.98      0.98        92\n",
      "          3       1.00      0.99      0.99        93\n",
      "          4       1.00      1.00      1.00        76\n",
      "          5       0.99      0.98      0.99       108\n",
      "          6       0.99      1.00      0.99        89\n",
      "          7       0.99      1.00      0.99        78\n",
      "          8       1.00      0.98      0.99        92\n",
      "          9       0.99      0.99      0.99        92\n",
      "\n",
      "avg / total       0.99      0.99      0.99       899\n",
      "\n",
      "\n"
     ]
    }
   ],
   "source": [
    "from sklearn import datasets\n",
    "from sklearn.model_selection import train_test_split\n",
    "from sklearn.model_selection import GridSearchCV\n",
    "from sklearn.metrics import classification_report\n",
    "from sklearn.svm import SVC\n",
    "\n",
    "print(__doc__)\n",
    "\n",
    "# Loading the Digits dataset\n",
    "digits = datasets.load_digits()\n",
    "\n",
    "# To apply an classifier on this data, we need to flatten the image, to\n",
    "# turn the data in a (samples, feature) matrix:\n",
    "n_samples = len(digits.images)\n",
    "X = digits.images.reshape((n_samples, -1))\n",
    "y = digits.target\n",
    "\n",
    "# Split the dataset in two equal parts\n",
    "X_train, X_test, y_train, y_test = train_test_split(\n",
    "    X, y, test_size=0.5, random_state=0)\n",
    "\n",
    "# Set the parameters by cross-validation\n",
    "tuned_parameters = [{'kernel': ['rbf'], 'gamma': [1e-3, 1e-4],\n",
    "                     'C': [1, 10, 100, 1000]},\n",
    "                    {'kernel': ['linear'], 'C': [1, 10, 100, 1000]}]\n",
    "\n",
    "scores = ['precision', 'recall']\n",
    "\n",
    "for score in scores:\n",
    "    print(\"# Tuning hyper-parameters for %s\" % score)\n",
    "    print()\n",
    "\n",
    "    clf = GridSearchCV(SVC(C=1), tuned_parameters, cv=5,\n",
    "                       scoring='%s_macro' % score)\n",
    "    clf.fit(X_train, y_train)\n",
    "\n",
    "    print(\"Best parameters set found on development set:\")\n",
    "    print()\n",
    "    print(clf.best_params_)\n",
    "    print()\n",
    "    print(\"Grid scores on development set:\")\n",
    "    print()\n",
    "    means = clf.cv_results_['mean_test_score']\n",
    "    stds = clf.cv_results_['std_test_score']\n",
    "    for mean, std, params in zip(means, stds, clf.cv_results_['params']):\n",
    "        print(\"%0.3f (+/-%0.03f) for %r\"\n",
    "              % (mean, std * 2, params))\n",
    "    print()\n",
    "\n",
    "    print(\"Detailed classification report:\")\n",
    "    print()\n",
    "    print(\"The model is trained on the full development set.\")\n",
    "    print(\"The scores are computed on the full evaluation set.\")\n",
    "    print()\n",
    "    y_true, y_pred = y_test, clf.predict(X_test)\n",
    "    print(classification_report(y_true, y_pred))\n",
    "    print()\n",
    "\n",
    "# Note the problem is too easy: the hyperparameter plateau is too flat and the\n",
    "# output model is the same for precision and recall with ties in quality."
   ]
  },
  {
   "cell_type": "code",
   "execution_count": 1,
   "metadata": {
    "collapsed": false
   },
   "outputs": [
    {
     "data": {
      "text/html": [
       "<script>\n",
       "    code_show=false;\n",
       "    function code_toggle() {\n",
       "     if (code_show){\n",
       "     $('div.input').hide();\n",
       "     } else {\n",
       "     $('div.input').show();\n",
       "     }\n",
       "     code_show = !code_show\n",
       "    }\n",
       "    $( document ).ready(code_toggle);\n",
       "    </script>\n",
       "    <form action=\"javascript:code_toggle()\"><input type=\"submit\" value=\"Click here to toggle on/off the raw code.\"></form>"
      ],
      "text/plain": [
       "<IPython.core.display.HTML object>"
      ]
     },
     "metadata": {},
     "output_type": "display_data"
    },
    {
     "data": {
      "text/html": [
       "<script type='text/javascript'>function generate_toc_content(){var all_headers=$(\"#notebook\").find(\":header\");var toc=\"\";var level=0;var min_level=3;all_headers.each(function(i,h){var openLevel=parseInt(h.tagName.slice(1),10);if(openLevel>min_level){return;}\n",
       "var titleText=$(h).clone().children().remove().end().text();if(openLevel>level){toc+=(new Array(openLevel-level+1)).join(\"<ol class='toc-item unstyle'>\");}else if(openLevel<level){toc+=(new Array(level-openLevel+1)).join('</li></ol>');}else{toc+=(new Array(level+1)).join('</li>');}\n",
       "level=parseInt(openLevel);var anchor=$(h).attr('id');toc+='<li><a href=\"#'+anchor+'\">'+titleText\n",
       "+'</a>';});if(level){toc+=(new Array(level+1)).join('</ol>');}\n",
       "return toc}\n",
       "function show_list_number(){$(\"#toc ol\").toggleClass('unstyle');$(\"#toc ol\").toggleClass('nested');$(\"#toc li\").toggleClass('nested');};var create_toc_div=function(){var toc_wrapper=$('<div id=\"toc-wrapper\"/>').append($(\"<div/>\",{class:'header',text:'Contents '}).append($(\"<a/>\",{id:'toc-reload-btn',href:'#',title:'Reload ToC',text:\"  \\u21BB\"}).click(function(){create_toc();return false;})).append($(\"<a/>\",{id:'display-heading-number-btn',href:'#',title:'Number text sections',text:'#'}).click(function(){show_list_number();}))).append($(\"<div/>\",{id:\"toc\"}));$('<div/>',{class:'col-md-2',id:'toc-column'}).append(toc_wrapper).insertBefore('#notebook-container');};var toggle_toc=function(){$(\"#toc-column\").toggle({duration:0,complete:function(){$('#notebook-container').toggleClass(\"col-md-9\").toggleClass(\"col-md-10 col-md-offset-1\");}});};var init_toc_container=function(){if($(\"#toc_button\").length===0){if(typeof IPython!=\"undefined\"){IPython.toolbar.add_buttons_group([{'label':'Table of Contents','icon':'fa-list','callback':toggle_toc,'id':'toc_button'}]);}}\n",
       "create_toc_div();$('#notebook').addClass('row');$('#notebook-container').addClass('col-md-9').removeClass('container');};var create_toc=function(){var ToC=generate_toc_content();$(\"#toc\").empty().append(ToC);};$(document).ready(function(){if(!$('#notebook').hasClass('row')){init_toc_container()}\n",
       "if(typeof IPython!=\"undefined\"){$([IPython.events]).on(\"rendered.MarkdownCell\",function(){create_toc();});}\n",
       "create_toc();});</script><style media='screen' type='text/css'>#toc {    height: 100%;}#toc > .toc-item {    padding: 0;    margin:  0;}#toc .toc-item .toc-item{  padding-left: 10px;}.toc-item.unstyle {    list-style-type: none;}ol.nested{    counter-reset: item}li.nested{    display: block}li.nested:before{    content: counters(item, \".\") \". \";    counter-increment: item}#ipython-main-app #toc-wrapper{    height: 85%;}#toc-wrapper {    height: 95%;    padding: 10px;    position: fixed;    max-width: 200px;    background-color: #fff;    opacity: .8;    overflow: scroll;}#toc-wrapper.closed {  min-width: 100px;  width: auto;  height:auto;  /*transition: width;*/}#toc-wrapper:hover{  opacity: 1;}#toc-wrapper .header {  font-size: 18px;  font-weight: bold;}#toc-wrapper .hide-btn {  font-size: 14px;  font-family: monospace;}#toc-reload-btn, #display-heading-number-btn {    font-size: 14px;    font-family: monospace;    margin-right: 10px;}.nav .active a {  color: black; }</style>"
      ],
      "text/plain": [
       "<IPython.core.display.HTML object>"
      ]
     },
     "metadata": {},
     "output_type": "display_data"
    }
   ],
   "source": [
    "%matplotlib inline\n",
    "%load_ext autoreload\n",
    "%autoreload 2\n",
    "\n",
    "# from __future__ import division\n",
    "from import_file import *\n",
    "from helpers.parallel_helper import *\n",
    "load_libs()"
   ]
  },
  {
   "cell_type": "code",
   "execution_count": 5,
   "metadata": {
    "collapsed": false
   },
   "outputs": [],
   "source": [
    "prop_cycle = mpl.rcParams['axes.prop_cycle']"
   ]
  },
  {
   "cell_type": "code",
   "execution_count": 11,
   "metadata": {
    "collapsed": false
   },
   "outputs": [
    {
     "data": {
      "text/html": [
       "<table><th>'color'</th><tr><td>(0.2980392156862745, 0.4470588235294118, 0.6901960784313725)</td></tr><tr><td>(0.3333333333333333, 0.6588235294117647, 0.40784313725490196)</td></tr><tr><td>(0.7686274509803922, 0.3058823529411765, 0.3215686274509804)</td></tr><tr><td>(0.5058823529411764, 0.4470588235294118, 0.6980392156862745)</td></tr><tr><td>(0.8, 0.7254901960784313, 0.4549019607843137)</td></tr><tr><td>(0.39215686274509803, 0.7098039215686275, 0.803921568627451)</td></tr></table>"
      ],
      "text/plain": [
       "cycler('color', [(0.2980392156862745, 0.4470588235294118, 0.6901960784313725), (0.3333333333333333, 0.6588235294117647, 0.40784313725490196), (0.7686274509803922, 0.3058823529411765, 0.3215686274509804), (0.5058823529411764, 0.4470588235294118, 0.6980392156862745), (0.8, 0.7254901960784313, 0.4549019607843137), (0.39215686274509803, 0.7098039215686275, 0.803921568627451)])"
      ]
     },
     "execution_count": 11,
     "metadata": {},
     "output_type": "execute_result"
    }
   ],
   "source": [
    "prop_cycle"
   ]
  }
 ],
 "metadata": {
  "kernelspec": {
   "display_name": "Python 3",
   "language": "python",
   "name": "python3"
  },
  "language_info": {
   "codemirror_mode": {
    "name": "ipython",
    "version": 3
   },
   "file_extension": ".py",
   "mimetype": "text/x-python",
   "name": "python",
   "nbconvert_exporter": "python",
   "pygments_lexer": "ipython3",
   "version": "3.6.0"
  }
 },
 "nbformat": 4,
 "nbformat_minor": 2
}
