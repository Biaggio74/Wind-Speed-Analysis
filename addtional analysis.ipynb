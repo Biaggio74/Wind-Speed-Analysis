{
 "cells": [
  {
   "cell_type": "code",
   "execution_count": null,
   "metadata": {
    "collapsed": true
   },
   "outputs": [],
   "source": [
    "fig = plt.figure(figsize=(4.2,2.4))\n",
    "ax1 = fig.add_subplot(1,2,1) \n",
    "plot_2d_prob_density(X, Y, kde_Z, ax=ax1,\n",
    "                     xlabel='x'+speed_unit_text, ylabel='y'+speed_unit_text, colorbar=False)\n",
    "ax1.grid(False)\n",
    "ax2 = fig.add_subplot(1,2,2) \n",
    "plot_2d_prob_density(X, Y, pdf_Z, ax=ax2,\n",
    "                     xlabel='x'+speed_unit_text, ylabel='y'+speed_unit_text, colorbar=False)\n",
    "ax2.grid(False)\n",
    "ax2.get_yaxis().set_visible(False)"
   ]
  },
  {
   "cell_type": "code",
   "execution_count": null,
   "metadata": {
    "collapsed": true
   },
   "outputs": [],
   "source": [
    "%%time\n",
    "true_R_square_mean_set=[]\n",
    "for year_length in [5,10]:\n",
    "    start_year, end_year = df_all_years.index.year[0], 2015-year_length+1\n",
    "    df_standard = df_all_years[str(2015-year_length+1):str(2015)]\n",
    "    true_R_square_set = []\n",
    "    for sub_start_year in arange(start_year, end_year+1):\n",
    "        sub_end_year = sub_start_year+year_length-1\n",
    "        df_previous =  df_all_years[str(sub_start_year):str(sub_end_year)]\n",
    "        density_collection=Parallel(n_jobs=-1)(delayed(direction_compare)(None, df_standard, angle, incre, True, df_previous) \n",
    "                                            for angle in arange(0, 360, incre))  \n",
    "        true_R_square_set.append(true_R_square(density_collection))\n",
    "    true_R_square_set=pd.DataFrame(true_R_square_set, index=arange(start_year, end_year+1))\n",
    "    year_lim = end_year-year_length-5, end_year-year_length\n",
    "    true_R_square_mean = true_R_square_set.query('index >= @year_lim[0] & index <= @year_lim[1]').mean()\n",
    "    true_R_square_mean['year_lim']=year_lim\n",
    "    true_R_square_mean_set.append(true_R_square_mean)\n",
    "    plot(true_R_square_set, label=year_length)\n",
    "plt_configure(legend=True)\n",
    "display(pd.DataFrame(true_R_square_mean_set).set_index('year_lim'))"
   ]
  }
 ],
 "metadata": {
  "kernelspec": {
   "display_name": "Python 3",
   "language": "python",
   "name": "python3"
  },
  "language_info": {
   "codemirror_mode": {
    "name": "ipython",
    "version": 3
   },
   "file_extension": ".py",
   "mimetype": "text/x-python",
   "name": "python",
   "nbconvert_exporter": "python",
   "pygments_lexer": "ipython3",
   "version": "3.6.0"
  }
 },
 "nbformat": 4,
 "nbformat_minor": 2
}
