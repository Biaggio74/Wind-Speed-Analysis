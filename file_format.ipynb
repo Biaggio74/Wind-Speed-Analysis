{
 "cells": [
  {
   "cell_type": "code",
   "execution_count": 3,
   "metadata": {
    "collapsed": true
   },
   "outputs": [],
   "source": [
    "from nbconvert import HTMLExporter\n",
    "import codecs\n",
    "import nbformat\n",
    "exporter = HTMLExporter()\n",
    "output_notebook = nbformat.read('file_format.ipynb', as_version=4)\n",
    "output, resources = exporter.from_notebook_node(output_notebook)\n",
    "codecs.open('test.html', 'w', encoding='utf-8').write(output)"
   ]
  },
  {
   "cell_type": "markdown",
   "metadata": {
    "collapsed": true
   },
   "source": [
    "# 1. Read from US 1 min"
   ]
  },
  {
   "cell_type": "code",
   "execution_count": null,
   "metadata": {
    "collapsed": true
   },
   "outputs": [],
   "source": [
    "import csv\n",
    "\n",
    "fout=open(\"DSM/out.dat\",\"a\")\n",
    "o=csv.writer(fout)\n",
    "for year in range(2006,2016):\n",
    "    for month in range(1,13):\n",
    "        for line in open(\"DSM/DSM\"+str(year)+\"%02d\"%(month)+\".dat\"):\n",
    "            o.writerow(line.replace(\"[\", \"\").replace(\"]\", \"\").split())\n",
    "fout.close()\n",
    "\n",
    "df = pd.read_csv(\"DSM/out.dat\", skipinitialspace=True, error_bad_lines=False)\n",
    "\n",
    "df['HrMn'] = df['date'].apply(lambda x: x[11:15])\n",
    "df['date'] = df['date'].apply(lambda x: x[3:11])\n",
    "\n",
    "df.to_csv('DSM/DSM.csv', index=False)"
   ]
  },
  {
   "cell_type": "markdown",
   "metadata": {},
   "source": [
    "# 2. US 1 min to Hour avg"
   ]
  },
  {
   "cell_type": "code",
   "execution_count": null,
   "metadata": {
    "collapsed": true
   },
   "outputs": [],
   "source": [
    "df = pd.read_csv('DSM/DSM.csv',header=0, skipinitialspace=True, dtype={'HrMn': object})\n",
    "\n",
    "df['speed']=pd.to_numeric(df['speed'], downcast='integer', errors='coerce')\n",
    "df['dir']=pd.to_numeric(df['dir'], downcast='integer', errors='coerce')\n",
    "df['dir_max']=pd.to_numeric(df['dir_max'], downcast='integer', errors='coerce')\n",
    "df['speed_max']=pd.to_numeric(df['speed_max'], downcast='integer', errors='coerce')\n",
    "df = df.dropna()\n",
    "df=df[['date','HrMn','dir','speed','dir_max','speed_max']]"
   ]
  },
  {
   "cell_type": "code",
   "execution_count": null,
   "metadata": {
    "collapsed": true
   },
   "outputs": [],
   "source": [
    "df['Hr']=df['HrMn'].apply(lambda x: int(str(x)[:-2]))\n",
    "df.dir = np.radians(df.dir)\n",
    "temp_df =df.groupby(['date', 'Hr']).agg({'speed' : np.mean,'dir': sp.stats.circmean,'speed_max': np.max}).reset_index()\n",
    "df.dir = np.degrees(df.dir)\n",
    "temp_df.dir = np.degrees(temp_df.dir)\n",
    "temp_df['HrMn']=temp_df['Hr'].apply(lambda x: \"%02d00\"%x)"
   ]
  },
  {
   "cell_type": "markdown",
   "metadata": {},
   "source": [
    "## Time Comparison"
   ]
  },
  {
   "cell_type": "code",
   "execution_count": null,
   "metadata": {
    "collapsed": true
   },
   "outputs": [],
   "source": [
    "bins=arange(0,40)\n",
    "df['speed'].hist(bins=bins, normed=True,alpha=0.5,label='min')\n",
    "temp_df['speed'].hist(bins=bins, normed=True,alpha=0.5,label='hour')\n",
    "plt_configure(legend=True)"
   ]
  },
  {
   "cell_type": "code",
   "execution_count": null,
   "metadata": {
    "collapsed": true
   },
   "outputs": [],
   "source": [
    "bins=arange(0,361)\n",
    "df['dir'].hist(bins=bins, normed=True,alpha=0.5,label='min')\n",
    "temp_df['dir'].hist(bins=bins, normed=True,alpha=0.5,label='hour')\n",
    "plt_configure(legend=True)"
   ]
  },
  {
   "cell_type": "code",
   "execution_count": null,
   "metadata": {
    "collapsed": true
   },
   "outputs": [],
   "source": [
    "check_time_shift(df)\n",
    "check_time_shift(temp_df)"
   ]
  },
  {
   "cell_type": "code",
   "execution_count": null,
   "metadata": {
    "collapsed": true
   },
   "outputs": [],
   "source": [
    "temp_df.to_csv('DSM/DSM_hr_avg.csv', index=False)"
   ]
  },
  {
   "cell_type": "markdown",
   "metadata": {
    "collapsed": true
   },
   "source": [
    "# 3. Read from Chinese Data sets"
   ]
  },
  {
   "cell_type": "code",
   "execution_count": 1,
   "metadata": {
    "collapsed": true
   },
   "outputs": [],
   "source": [
    "import csv\n",
    "\n",
    "ipath= \"./data/NCDC/cn/上海/上海/dat.txt\"\n",
    "uipath = unicode(ipath , \"utf8\")\n",
    "\n",
    "with open(uipath) as fin, open('./data/NCDC/test.txt', 'w') as fout:\n",
    "    o=csv.writer(fout)\n",
    "    for line in fin:\n",
    "        o.writerow(line.split())"
   ]
  }
 ],
 "metadata": {
  "kernelspec": {
   "display_name": "Python 3",
   "language": "python",
   "name": "python3"
  },
  "language_info": {
   "codemirror_mode": {
    "name": "ipython",
    "version": 3
   },
   "file_extension": ".py",
   "mimetype": "text/x-python",
   "name": "python",
   "nbconvert_exporter": "python",
   "pygments_lexer": "ipython3",
   "version": "3.6.0"
  }
 },
 "nbformat": 4,
 "nbformat_minor": 0
}
