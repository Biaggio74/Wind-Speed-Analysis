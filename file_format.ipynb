{
 "cells": [
  {
   "cell_type": "code",
   "execution_count": 1,
   "metadata": {
    "collapsed": false,
    "scrolled": true
   },
   "outputs": [
    {
     "data": {
      "text/html": [
       "<script>\n",
       "    code_show=false;\n",
       "    function code_toggle() {\n",
       "     if (code_show){\n",
       "     $('div.input').hide();\n",
       "     } else {\n",
       "     $('div.input').show();\n",
       "     }\n",
       "     code_show = !code_show\n",
       "    }\n",
       "    $( document ).ready(code_toggle);\n",
       "    </script>\n",
       "    <form action=\"javascript:code_toggle()\"><input type=\"submit\" value=\"Click here to toggle on/off the raw code.\"></form>"
      ],
      "text/plain": [
       "<IPython.core.display.HTML object>"
      ]
     },
     "metadata": {},
     "output_type": "display_data"
    },
    {
     "data": {
      "text/html": [
       "<script type='text/javascript'>function generate_toc_content(){var all_headers=$(\"#notebook\").find(\":header\");var toc=\"\";var level=0;var min_level=3;all_headers.each(function(i,h){var openLevel=parseInt(h.tagName.slice(1),10);if(openLevel>min_level){return;}\n",
       "var titleText=$(h).clone().children().remove().end().text();if(openLevel>level){toc+=(new Array(openLevel-level+1)).join(\"<ol class='toc-item unstyle'>\");}else if(openLevel<level){toc+=(new Array(level-openLevel+1)).join('</li></ol>');}else{toc+=(new Array(level+1)).join('</li>');}\n",
       "level=parseInt(openLevel);var anchor=$(h).attr('id');toc+='<li><a href=\"#'+anchor+'\">'+titleText\n",
       "+'</a>';});if(level){toc+=(new Array(level+1)).join('</ol>');}\n",
       "return toc}\n",
       "function show_list_number(){$(\"#toc ol\").toggleClass('unstyle');$(\"#toc ol\").toggleClass('nested');$(\"#toc li\").toggleClass('nested');};var create_toc_div=function(){var toc_wrapper=$('<div id=\"toc-wrapper\"/>').append($(\"<div/>\",{class:'header',text:'Contents '}).append($(\"<a/>\",{id:'toc-reload-btn',href:'#',title:'Reload ToC',text:\"  \\u21BB\"}).click(function(){create_toc();return false;})).append($(\"<a/>\",{id:'display-heading-number-btn',href:'#',title:'Number text sections',text:'#'}).click(function(){show_list_number();}))).append($(\"<div/>\",{id:\"toc\"}));$('<div/>',{class:'col-md-2',id:'toc-column'}).append(toc_wrapper).insertBefore('#notebook-container');};var toggle_toc=function(){$(\"#toc-column\").toggle({duration:0,complete:function(){$('#notebook-container').toggleClass(\"col-md-9\").toggleClass(\"col-md-10 col-md-offset-1\");}});};var init_toc_container=function(){if($(\"#toc_button\").length===0){if(typeof IPython!=\"undefined\"){IPython.toolbar.add_buttons_group([{'label':'Table of Contents','icon':'fa-list','callback':toggle_toc,'id':'toc_button'}]);}}\n",
       "create_toc_div();$('#notebook').addClass('row');$('#notebook-container').addClass('col-md-9').removeClass('container');};var create_toc=function(){var ToC=generate_toc_content();$(\"#toc\").empty().append(ToC);};$(document).ready(function(){if(!$('#notebook').hasClass('row')){init_toc_container()}\n",
       "if(typeof IPython!=\"undefined\"){$([IPython.events]).on(\"rendered.MarkdownCell\",function(){create_toc();});}\n",
       "create_toc();});</script><style media='screen' type='text/css'>#toc {    height: 100%;}#toc > .toc-item {    padding: 0;    margin:  0;}#toc .toc-item .toc-item{  padding-left: 10px;}.toc-item.unstyle {    list-style-type: none;}ol.nested{    counter-reset: item}li.nested{    display: block}li.nested:before{    content: counters(item, \".\") \". \";    counter-increment: item}#ipython-main-app #toc-wrapper{    height: 85%;}#toc-wrapper {    height: 95%;    padding: 10px;    position: fixed;    max-width: 200px;    background-color: #fff;    opacity: .8;    overflow: scroll;}#toc-wrapper.closed {  min-width: 100px;  width: auto;  height:auto;  /*transition: width;*/}#toc-wrapper:hover{  opacity: 1;}#toc-wrapper .header {  font-size: 18px;  font-weight: bold;}#toc-wrapper .hide-btn {  font-size: 14px;  font-family: monospace;}#toc-reload-btn, #display-heading-number-btn {    font-size: 14px;    font-family: monospace;    margin-right: 10px;}.nav .active a {  color: black; }</style>"
      ],
      "text/plain": [
       "<IPython.core.display.HTML object>"
      ]
     },
     "metadata": {},
     "output_type": "display_data"
    }
   ],
   "source": [
    "%matplotlib inline\n",
    "%load_ext autoreload\n",
    "%autoreload 2\n",
    "from import_file import *\n",
    "load_libs()"
   ]
  },
  {
   "cell_type": "markdown",
   "metadata": {},
   "source": [
    "# ECMWF Dataset"
   ]
  },
  {
   "cell_type": "code",
   "execution_count": 2,
   "metadata": {
    "collapsed": false
   },
   "outputs": [
    {
     "data": {
      "text/html": [
       "<div>\n",
       "<table border=\"1\" class=\"dataframe\">\n",
       "  <thead>\n",
       "    <tr style=\"text-align: right;\">\n",
       "      <th></th>\n",
       "      <th>lat</th>\n",
       "      <th>lon</th>\n",
       "      <th>x</th>\n",
       "      <th>y</th>\n",
       "      <th>speed</th>\n",
       "      <th>dir</th>\n",
       "      <th>date</th>\n",
       "      <th>HrMn</th>\n",
       "    </tr>\n",
       "    <tr>\n",
       "      <th>time</th>\n",
       "      <th></th>\n",
       "      <th></th>\n",
       "      <th></th>\n",
       "      <th></th>\n",
       "      <th></th>\n",
       "      <th></th>\n",
       "      <th></th>\n",
       "      <th></th>\n",
       "    </tr>\n",
       "  </thead>\n",
       "  <tbody>\n",
       "    <tr>\n",
       "      <th>1979-01-01 00:00:00</th>\n",
       "      <td>-37</td>\n",
       "      <td>142</td>\n",
       "      <td>3.524357</td>\n",
       "      <td>-0.275725</td>\n",
       "      <td>3.535126</td>\n",
       "      <td>94.473380</td>\n",
       "      <td>19790101</td>\n",
       "      <td>0000</td>\n",
       "    </tr>\n",
       "    <tr>\n",
       "      <th>1979-01-01 06:00:00</th>\n",
       "      <td>-37</td>\n",
       "      <td>142</td>\n",
       "      <td>4.983630</td>\n",
       "      <td>4.581916</td>\n",
       "      <td>6.769824</td>\n",
       "      <td>47.404776</td>\n",
       "      <td>19790101</td>\n",
       "      <td>0600</td>\n",
       "    </tr>\n",
       "    <tr>\n",
       "      <th>1979-01-01 12:00:00</th>\n",
       "      <td>-37</td>\n",
       "      <td>142</td>\n",
       "      <td>0.693089</td>\n",
       "      <td>5.005233</td>\n",
       "      <td>5.052992</td>\n",
       "      <td>7.883781</td>\n",
       "      <td>19790101</td>\n",
       "      <td>1200</td>\n",
       "    </tr>\n",
       "    <tr>\n",
       "      <th>1979-01-01 18:00:00</th>\n",
       "      <td>-37</td>\n",
       "      <td>142</td>\n",
       "      <td>-0.798704</td>\n",
       "      <td>4.013421</td>\n",
       "      <td>4.092124</td>\n",
       "      <td>348.744718</td>\n",
       "      <td>19790101</td>\n",
       "      <td>1800</td>\n",
       "    </tr>\n",
       "    <tr>\n",
       "      <th>1979-01-02 00:00:00</th>\n",
       "      <td>-37</td>\n",
       "      <td>142</td>\n",
       "      <td>-1.019900</td>\n",
       "      <td>4.736690</td>\n",
       "      <td>4.845248</td>\n",
       "      <td>347.848639</td>\n",
       "      <td>19790102</td>\n",
       "      <td>0000</td>\n",
       "    </tr>\n",
       "    <tr>\n",
       "      <th>1979-01-02 06:00:00</th>\n",
       "      <td>-37</td>\n",
       "      <td>142</td>\n",
       "      <td>-0.663767</td>\n",
       "      <td>5.113214</td>\n",
       "      <td>5.156117</td>\n",
       "      <td>352.603560</td>\n",
       "      <td>19790102</td>\n",
       "      <td>0600</td>\n",
       "    </tr>\n",
       "    <tr>\n",
       "      <th>1979-01-02 12:00:00</th>\n",
       "      <td>-37</td>\n",
       "      <td>142</td>\n",
       "      <td>-2.962845</td>\n",
       "      <td>3.551534</td>\n",
       "      <td>4.625131</td>\n",
       "      <td>320.163658</td>\n",
       "      <td>19790102</td>\n",
       "      <td>1200</td>\n",
       "    </tr>\n",
       "    <tr>\n",
       "      <th>1979-01-02 18:00:00</th>\n",
       "      <td>-37</td>\n",
       "      <td>142</td>\n",
       "      <td>-2.857269</td>\n",
       "      <td>1.997958</td>\n",
       "      <td>3.486520</td>\n",
       "      <td>304.963340</td>\n",
       "      <td>19790102</td>\n",
       "      <td>1800</td>\n",
       "    </tr>\n",
       "    <tr>\n",
       "      <th>1979-01-03 00:00:00</th>\n",
       "      <td>-37</td>\n",
       "      <td>142</td>\n",
       "      <td>-3.995964</td>\n",
       "      <td>1.489820</td>\n",
       "      <td>4.264656</td>\n",
       "      <td>290.447018</td>\n",
       "      <td>19790103</td>\n",
       "      <td>0000</td>\n",
       "    </tr>\n",
       "    <tr>\n",
       "      <th>1979-01-03 06:00:00</th>\n",
       "      <td>-37</td>\n",
       "      <td>142</td>\n",
       "      <td>-2.800757</td>\n",
       "      <td>0.413133</td>\n",
       "      <td>2.831064</td>\n",
       "      <td>278.391051</td>\n",
       "      <td>19790103</td>\n",
       "      <td>0600</td>\n",
       "    </tr>\n",
       "    <tr>\n",
       "      <th>1979-01-03 12:00:00</th>\n",
       "      <td>-37</td>\n",
       "      <td>142</td>\n",
       "      <td>-3.041248</td>\n",
       "      <td>0.680801</td>\n",
       "      <td>3.116518</td>\n",
       "      <td>282.617972</td>\n",
       "      <td>19790103</td>\n",
       "      <td>1200</td>\n",
       "    </tr>\n",
       "    <tr>\n",
       "      <th>1979-01-03 18:00:00</th>\n",
       "      <td>-37</td>\n",
       "      <td>142</td>\n",
       "      <td>-2.639416</td>\n",
       "      <td>-1.417124</td>\n",
       "      <td>2.995790</td>\n",
       "      <td>241.768286</td>\n",
       "      <td>19790103</td>\n",
       "      <td>1800</td>\n",
       "    </tr>\n",
       "    <tr>\n",
       "      <th>1979-01-04 00:00:00</th>\n",
       "      <td>-37</td>\n",
       "      <td>142</td>\n",
       "      <td>-1.644576</td>\n",
       "      <td>-5.404761</td>\n",
       "      <td>5.649431</td>\n",
       "      <td>196.924105</td>\n",
       "      <td>19790104</td>\n",
       "      <td>0000</td>\n",
       "    </tr>\n",
       "    <tr>\n",
       "      <th>1979-01-04 06:00:00</th>\n",
       "      <td>-37</td>\n",
       "      <td>142</td>\n",
       "      <td>1.317705</td>\n",
       "      <td>-2.524364</td>\n",
       "      <td>2.847589</td>\n",
       "      <td>152.435671</td>\n",
       "      <td>19790104</td>\n",
       "      <td>0600</td>\n",
       "    </tr>\n",
       "    <tr>\n",
       "      <th>1979-01-04 12:00:00</th>\n",
       "      <td>-37</td>\n",
       "      <td>142</td>\n",
       "      <td>0.664429</td>\n",
       "      <td>-1.038415</td>\n",
       "      <td>1.232790</td>\n",
       "      <td>147.386903</td>\n",
       "      <td>19790104</td>\n",
       "      <td>1200</td>\n",
       "    </tr>\n",
       "    <tr>\n",
       "      <th>1979-01-04 18:00:00</th>\n",
       "      <td>-37</td>\n",
       "      <td>142</td>\n",
       "      <td>0.161203</td>\n",
       "      <td>1.844996</td>\n",
       "      <td>1.852025</td>\n",
       "      <td>4.993413</td>\n",
       "      <td>19790104</td>\n",
       "      <td>1800</td>\n",
       "    </tr>\n",
       "    <tr>\n",
       "      <th>1979-01-05 00:00:00</th>\n",
       "      <td>-37</td>\n",
       "      <td>142</td>\n",
       "      <td>0.668968</td>\n",
       "      <td>-2.058272</td>\n",
       "      <td>2.164256</td>\n",
       "      <td>161.995101</td>\n",
       "      <td>19790105</td>\n",
       "      <td>0000</td>\n",
       "    </tr>\n",
       "    <tr>\n",
       "      <th>1979-01-05 06:00:00</th>\n",
       "      <td>-37</td>\n",
       "      <td>142</td>\n",
       "      <td>5.848347</td>\n",
       "      <td>-2.689469</td>\n",
       "      <td>6.437111</td>\n",
       "      <td>114.696202</td>\n",
       "      <td>19790105</td>\n",
       "      <td>0600</td>\n",
       "    </tr>\n",
       "    <tr>\n",
       "      <th>1979-01-05 12:00:00</th>\n",
       "      <td>-37</td>\n",
       "      <td>142</td>\n",
       "      <td>2.007938</td>\n",
       "      <td>4.692427</td>\n",
       "      <td>5.103987</td>\n",
       "      <td>23.166588</td>\n",
       "      <td>19790105</td>\n",
       "      <td>1200</td>\n",
       "    </tr>\n",
       "    <tr>\n",
       "      <th>1979-01-05 18:00:00</th>\n",
       "      <td>-37</td>\n",
       "      <td>142</td>\n",
       "      <td>0.208533</td>\n",
       "      <td>3.732341</td>\n",
       "      <td>3.738162</td>\n",
       "      <td>3.197901</td>\n",
       "      <td>19790105</td>\n",
       "      <td>1800</td>\n",
       "    </tr>\n",
       "    <tr>\n",
       "      <th>1979-01-06 00:00:00</th>\n",
       "      <td>-37</td>\n",
       "      <td>142</td>\n",
       "      <td>0.755174</td>\n",
       "      <td>1.776234</td>\n",
       "      <td>1.930102</td>\n",
       "      <td>23.032996</td>\n",
       "      <td>19790106</td>\n",
       "      <td>0000</td>\n",
       "    </tr>\n",
       "    <tr>\n",
       "      <th>1979-01-06 06:00:00</th>\n",
       "      <td>-37</td>\n",
       "      <td>142</td>\n",
       "      <td>3.419903</td>\n",
       "      <td>2.026876</td>\n",
       "      <td>3.975420</td>\n",
       "      <td>59.346017</td>\n",
       "      <td>19790106</td>\n",
       "      <td>0600</td>\n",
       "    </tr>\n",
       "    <tr>\n",
       "      <th>1979-01-06 12:00:00</th>\n",
       "      <td>-37</td>\n",
       "      <td>142</td>\n",
       "      <td>-1.617897</td>\n",
       "      <td>2.188543</td>\n",
       "      <td>2.721638</td>\n",
       "      <td>323.526059</td>\n",
       "      <td>19790106</td>\n",
       "      <td>1200</td>\n",
       "    </tr>\n",
       "    <tr>\n",
       "      <th>1979-01-06 18:00:00</th>\n",
       "      <td>-37</td>\n",
       "      <td>142</td>\n",
       "      <td>-1.664636</td>\n",
       "      <td>-0.796610</td>\n",
       "      <td>1.845427</td>\n",
       "      <td>244.426597</td>\n",
       "      <td>19790106</td>\n",
       "      <td>1800</td>\n",
       "    </tr>\n",
       "    <tr>\n",
       "      <th>1979-01-07 00:00:00</th>\n",
       "      <td>-37</td>\n",
       "      <td>142</td>\n",
       "      <td>5.305941</td>\n",
       "      <td>-0.446401</td>\n",
       "      <td>5.324686</td>\n",
       "      <td>94.809097</td>\n",
       "      <td>19790107</td>\n",
       "      <td>0000</td>\n",
       "    </tr>\n",
       "    <tr>\n",
       "      <th>1979-01-07 06:00:00</th>\n",
       "      <td>-37</td>\n",
       "      <td>142</td>\n",
       "      <td>4.864005</td>\n",
       "      <td>3.872219</td>\n",
       "      <td>6.217124</td>\n",
       "      <td>51.476814</td>\n",
       "      <td>19790107</td>\n",
       "      <td>0600</td>\n",
       "    </tr>\n",
       "    <tr>\n",
       "      <th>1979-01-07 12:00:00</th>\n",
       "      <td>-37</td>\n",
       "      <td>142</td>\n",
       "      <td>0.185721</td>\n",
       "      <td>2.629028</td>\n",
       "      <td>2.635580</td>\n",
       "      <td>4.040802</td>\n",
       "      <td>19790107</td>\n",
       "      <td>1200</td>\n",
       "    </tr>\n",
       "    <tr>\n",
       "      <th>1979-01-07 18:00:00</th>\n",
       "      <td>-37</td>\n",
       "      <td>142</td>\n",
       "      <td>-1.109085</td>\n",
       "      <td>1.209737</td>\n",
       "      <td>1.641199</td>\n",
       "      <td>317.485443</td>\n",
       "      <td>19790107</td>\n",
       "      <td>1800</td>\n",
       "    </tr>\n",
       "    <tr>\n",
       "      <th>1979-01-08 00:00:00</th>\n",
       "      <td>-37</td>\n",
       "      <td>142</td>\n",
       "      <td>1.081951</td>\n",
       "      <td>-1.677796</td>\n",
       "      <td>1.996401</td>\n",
       "      <td>147.183473</td>\n",
       "      <td>19790108</td>\n",
       "      <td>0000</td>\n",
       "    </tr>\n",
       "    <tr>\n",
       "      <th>1979-01-08 06:00:00</th>\n",
       "      <td>-37</td>\n",
       "      <td>142</td>\n",
       "      <td>3.494763</td>\n",
       "      <td>-1.251404</td>\n",
       "      <td>3.712059</td>\n",
       "      <td>109.701415</td>\n",
       "      <td>19790108</td>\n",
       "      <td>0600</td>\n",
       "    </tr>\n",
       "    <tr>\n",
       "      <th>...</th>\n",
       "      <td>...</td>\n",
       "      <td>...</td>\n",
       "      <td>...</td>\n",
       "      <td>...</td>\n",
       "      <td>...</td>\n",
       "      <td>...</td>\n",
       "      <td>...</td>\n",
       "      <td>...</td>\n",
       "    </tr>\n",
       "    <tr>\n",
       "      <th>2017-01-24 12:00:00</th>\n",
       "      <td>-37</td>\n",
       "      <td>142</td>\n",
       "      <td>0.158407</td>\n",
       "      <td>4.166090</td>\n",
       "      <td>4.169100</td>\n",
       "      <td>2.177509</td>\n",
       "      <td>20170124</td>\n",
       "      <td>1200</td>\n",
       "    </tr>\n",
       "    <tr>\n",
       "      <th>2017-01-24 18:00:00</th>\n",
       "      <td>-37</td>\n",
       "      <td>142</td>\n",
       "      <td>-2.957260</td>\n",
       "      <td>3.251891</td>\n",
       "      <td>4.395473</td>\n",
       "      <td>317.716709</td>\n",
       "      <td>20170124</td>\n",
       "      <td>1800</td>\n",
       "    </tr>\n",
       "    <tr>\n",
       "      <th>2017-01-25 00:00:00</th>\n",
       "      <td>-37</td>\n",
       "      <td>142</td>\n",
       "      <td>-0.350530</td>\n",
       "      <td>1.626390</td>\n",
       "      <td>1.663735</td>\n",
       "      <td>347.837306</td>\n",
       "      <td>20170125</td>\n",
       "      <td>0000</td>\n",
       "    </tr>\n",
       "    <tr>\n",
       "      <th>2017-01-25 06:00:00</th>\n",
       "      <td>-37</td>\n",
       "      <td>142</td>\n",
       "      <td>1.234795</td>\n",
       "      <td>3.913999</td>\n",
       "      <td>4.104157</td>\n",
       "      <td>17.509527</td>\n",
       "      <td>20170125</td>\n",
       "      <td>0600</td>\n",
       "    </tr>\n",
       "    <tr>\n",
       "      <th>2017-01-25 12:00:00</th>\n",
       "      <td>-37</td>\n",
       "      <td>142</td>\n",
       "      <td>0.445650</td>\n",
       "      <td>3.932140</td>\n",
       "      <td>3.957314</td>\n",
       "      <td>6.466045</td>\n",
       "      <td>20170125</td>\n",
       "      <td>1200</td>\n",
       "    </tr>\n",
       "    <tr>\n",
       "      <th>2017-01-25 18:00:00</th>\n",
       "      <td>-37</td>\n",
       "      <td>142</td>\n",
       "      <td>0.355497</td>\n",
       "      <td>3.221511</td>\n",
       "      <td>3.241066</td>\n",
       "      <td>6.297171</td>\n",
       "      <td>20170125</td>\n",
       "      <td>1800</td>\n",
       "    </tr>\n",
       "    <tr>\n",
       "      <th>2017-01-26 00:00:00</th>\n",
       "      <td>-37</td>\n",
       "      <td>142</td>\n",
       "      <td>0.168940</td>\n",
       "      <td>3.696512</td>\n",
       "      <td>3.700371</td>\n",
       "      <td>2.616741</td>\n",
       "      <td>20170126</td>\n",
       "      <td>0000</td>\n",
       "    </tr>\n",
       "    <tr>\n",
       "      <th>2017-01-26 06:00:00</th>\n",
       "      <td>-37</td>\n",
       "      <td>142</td>\n",
       "      <td>0.878166</td>\n",
       "      <td>4.509708</td>\n",
       "      <td>4.594415</td>\n",
       "      <td>11.019190</td>\n",
       "      <td>20170126</td>\n",
       "      <td>0600</td>\n",
       "    </tr>\n",
       "    <tr>\n",
       "      <th>2017-01-26 12:00:00</th>\n",
       "      <td>-37</td>\n",
       "      <td>142</td>\n",
       "      <td>-0.163301</td>\n",
       "      <td>3.509521</td>\n",
       "      <td>3.513318</td>\n",
       "      <td>357.335896</td>\n",
       "      <td>20170126</td>\n",
       "      <td>1200</td>\n",
       "    </tr>\n",
       "    <tr>\n",
       "      <th>2017-01-26 18:00:00</th>\n",
       "      <td>-37</td>\n",
       "      <td>142</td>\n",
       "      <td>-1.489826</td>\n",
       "      <td>1.698988</td>\n",
       "      <td>2.259678</td>\n",
       "      <td>318.752795</td>\n",
       "      <td>20170126</td>\n",
       "      <td>1800</td>\n",
       "    </tr>\n",
       "    <tr>\n",
       "      <th>2017-01-27 00:00:00</th>\n",
       "      <td>-37</td>\n",
       "      <td>142</td>\n",
       "      <td>-0.403659</td>\n",
       "      <td>0.702776</td>\n",
       "      <td>0.810453</td>\n",
       "      <td>330.127905</td>\n",
       "      <td>20170127</td>\n",
       "      <td>0000</td>\n",
       "    </tr>\n",
       "    <tr>\n",
       "      <th>2017-01-27 06:00:00</th>\n",
       "      <td>-37</td>\n",
       "      <td>142</td>\n",
       "      <td>1.056683</td>\n",
       "      <td>1.896080</td>\n",
       "      <td>2.170645</td>\n",
       "      <td>29.130864</td>\n",
       "      <td>20170127</td>\n",
       "      <td>0600</td>\n",
       "    </tr>\n",
       "    <tr>\n",
       "      <th>2017-01-27 12:00:00</th>\n",
       "      <td>-37</td>\n",
       "      <td>142</td>\n",
       "      <td>0.419535</td>\n",
       "      <td>2.297181</td>\n",
       "      <td>2.335177</td>\n",
       "      <td>10.349877</td>\n",
       "      <td>20170127</td>\n",
       "      <td>1200</td>\n",
       "    </tr>\n",
       "    <tr>\n",
       "      <th>2017-01-27 18:00:00</th>\n",
       "      <td>-37</td>\n",
       "      <td>142</td>\n",
       "      <td>-0.478612</td>\n",
       "      <td>0.828990</td>\n",
       "      <td>0.957232</td>\n",
       "      <td>330.000269</td>\n",
       "      <td>20170127</td>\n",
       "      <td>1800</td>\n",
       "    </tr>\n",
       "    <tr>\n",
       "      <th>2017-01-28 00:00:00</th>\n",
       "      <td>-37</td>\n",
       "      <td>142</td>\n",
       "      <td>2.773838</td>\n",
       "      <td>1.703583</td>\n",
       "      <td>3.255207</td>\n",
       "      <td>58.443371</td>\n",
       "      <td>20170128</td>\n",
       "      <td>0000</td>\n",
       "    </tr>\n",
       "    <tr>\n",
       "      <th>2017-01-28 06:00:00</th>\n",
       "      <td>-37</td>\n",
       "      <td>142</td>\n",
       "      <td>2.460422</td>\n",
       "      <td>3.344078</td>\n",
       "      <td>4.151691</td>\n",
       "      <td>36.343966</td>\n",
       "      <td>20170128</td>\n",
       "      <td>0600</td>\n",
       "    </tr>\n",
       "    <tr>\n",
       "      <th>2017-01-28 12:00:00</th>\n",
       "      <td>-37</td>\n",
       "      <td>142</td>\n",
       "      <td>0.002239</td>\n",
       "      <td>3.024347</td>\n",
       "      <td>3.024348</td>\n",
       "      <td>0.042411</td>\n",
       "      <td>20170128</td>\n",
       "      <td>1200</td>\n",
       "    </tr>\n",
       "    <tr>\n",
       "      <th>2017-01-28 18:00:00</th>\n",
       "      <td>-37</td>\n",
       "      <td>142</td>\n",
       "      <td>-1.268870</td>\n",
       "      <td>1.701746</td>\n",
       "      <td>2.122727</td>\n",
       "      <td>323.290739</td>\n",
       "      <td>20170128</td>\n",
       "      <td>1800</td>\n",
       "    </tr>\n",
       "    <tr>\n",
       "      <th>2017-01-29 00:00:00</th>\n",
       "      <td>-37</td>\n",
       "      <td>142</td>\n",
       "      <td>0.648402</td>\n",
       "      <td>0.470279</td>\n",
       "      <td>0.800992</td>\n",
       "      <td>54.047073</td>\n",
       "      <td>20170129</td>\n",
       "      <td>0000</td>\n",
       "    </tr>\n",
       "    <tr>\n",
       "      <th>2017-01-29 06:00:00</th>\n",
       "      <td>-37</td>\n",
       "      <td>142</td>\n",
       "      <td>1.893609</td>\n",
       "      <td>1.053169</td>\n",
       "      <td>2.166777</td>\n",
       "      <td>60.918501</td>\n",
       "      <td>20170129</td>\n",
       "      <td>0600</td>\n",
       "    </tr>\n",
       "    <tr>\n",
       "      <th>2017-01-29 12:00:00</th>\n",
       "      <td>-37</td>\n",
       "      <td>142</td>\n",
       "      <td>-0.278813</td>\n",
       "      <td>1.303914</td>\n",
       "      <td>1.333390</td>\n",
       "      <td>347.930320</td>\n",
       "      <td>20170129</td>\n",
       "      <td>1200</td>\n",
       "    </tr>\n",
       "    <tr>\n",
       "      <th>2017-01-29 18:00:00</th>\n",
       "      <td>-37</td>\n",
       "      <td>142</td>\n",
       "      <td>0.294985</td>\n",
       "      <td>-3.680931</td>\n",
       "      <td>3.692732</td>\n",
       "      <td>175.418177</td>\n",
       "      <td>20170129</td>\n",
       "      <td>1800</td>\n",
       "    </tr>\n",
       "    <tr>\n",
       "      <th>2017-01-30 00:00:00</th>\n",
       "      <td>-37</td>\n",
       "      <td>142</td>\n",
       "      <td>4.768332</td>\n",
       "      <td>-0.961404</td>\n",
       "      <td>4.864287</td>\n",
       "      <td>101.399300</td>\n",
       "      <td>20170130</td>\n",
       "      <td>0000</td>\n",
       "    </tr>\n",
       "    <tr>\n",
       "      <th>2017-01-30 06:00:00</th>\n",
       "      <td>-37</td>\n",
       "      <td>142</td>\n",
       "      <td>4.578432</td>\n",
       "      <td>1.651864</td>\n",
       "      <td>4.867309</td>\n",
       "      <td>70.160933</td>\n",
       "      <td>20170130</td>\n",
       "      <td>0600</td>\n",
       "    </tr>\n",
       "    <tr>\n",
       "      <th>2017-01-30 12:00:00</th>\n",
       "      <td>-37</td>\n",
       "      <td>142</td>\n",
       "      <td>2.770044</td>\n",
       "      <td>3.889739</td>\n",
       "      <td>4.775271</td>\n",
       "      <td>35.456243</td>\n",
       "      <td>20170130</td>\n",
       "      <td>1200</td>\n",
       "    </tr>\n",
       "    <tr>\n",
       "      <th>2017-01-30 18:00:00</th>\n",
       "      <td>-37</td>\n",
       "      <td>142</td>\n",
       "      <td>2.898276</td>\n",
       "      <td>3.718174</td>\n",
       "      <td>4.714321</td>\n",
       "      <td>37.936029</td>\n",
       "      <td>20170130</td>\n",
       "      <td>1800</td>\n",
       "    </tr>\n",
       "    <tr>\n",
       "      <th>2017-01-31 00:00:00</th>\n",
       "      <td>-37</td>\n",
       "      <td>142</td>\n",
       "      <td>1.792833</td>\n",
       "      <td>3.724797</td>\n",
       "      <td>4.133808</td>\n",
       "      <td>25.702616</td>\n",
       "      <td>20170131</td>\n",
       "      <td>0000</td>\n",
       "    </tr>\n",
       "    <tr>\n",
       "      <th>2017-01-31 06:00:00</th>\n",
       "      <td>-37</td>\n",
       "      <td>142</td>\n",
       "      <td>3.042021</td>\n",
       "      <td>4.574470</td>\n",
       "      <td>5.493602</td>\n",
       "      <td>33.623893</td>\n",
       "      <td>20170131</td>\n",
       "      <td>0600</td>\n",
       "    </tr>\n",
       "    <tr>\n",
       "      <th>2017-01-31 12:00:00</th>\n",
       "      <td>-37</td>\n",
       "      <td>142</td>\n",
       "      <td>0.268320</td>\n",
       "      <td>3.251488</td>\n",
       "      <td>3.262540</td>\n",
       "      <td>4.717485</td>\n",
       "      <td>20170131</td>\n",
       "      <td>1200</td>\n",
       "    </tr>\n",
       "    <tr>\n",
       "      <th>2017-01-31 18:00:00</th>\n",
       "      <td>-37</td>\n",
       "      <td>142</td>\n",
       "      <td>-2.229434</td>\n",
       "      <td>1.591269</td>\n",
       "      <td>2.739072</td>\n",
       "      <td>305.517535</td>\n",
       "      <td>20170131</td>\n",
       "      <td>1800</td>\n",
       "    </tr>\n",
       "  </tbody>\n",
       "</table>\n",
       "<p>55644 rows × 8 columns</p>\n",
       "</div>"
      ],
      "text/plain": [
       "                     lat  lon         x         y     speed         dir  \\\n",
       "time                                                                      \n",
       "1979-01-01 00:00:00  -37  142  3.524357 -0.275725  3.535126   94.473380   \n",
       "1979-01-01 06:00:00  -37  142  4.983630  4.581916  6.769824   47.404776   \n",
       "1979-01-01 12:00:00  -37  142  0.693089  5.005233  5.052992    7.883781   \n",
       "1979-01-01 18:00:00  -37  142 -0.798704  4.013421  4.092124  348.744718   \n",
       "1979-01-02 00:00:00  -37  142 -1.019900  4.736690  4.845248  347.848639   \n",
       "1979-01-02 06:00:00  -37  142 -0.663767  5.113214  5.156117  352.603560   \n",
       "1979-01-02 12:00:00  -37  142 -2.962845  3.551534  4.625131  320.163658   \n",
       "1979-01-02 18:00:00  -37  142 -2.857269  1.997958  3.486520  304.963340   \n",
       "1979-01-03 00:00:00  -37  142 -3.995964  1.489820  4.264656  290.447018   \n",
       "1979-01-03 06:00:00  -37  142 -2.800757  0.413133  2.831064  278.391051   \n",
       "1979-01-03 12:00:00  -37  142 -3.041248  0.680801  3.116518  282.617972   \n",
       "1979-01-03 18:00:00  -37  142 -2.639416 -1.417124  2.995790  241.768286   \n",
       "1979-01-04 00:00:00  -37  142 -1.644576 -5.404761  5.649431  196.924105   \n",
       "1979-01-04 06:00:00  -37  142  1.317705 -2.524364  2.847589  152.435671   \n",
       "1979-01-04 12:00:00  -37  142  0.664429 -1.038415  1.232790  147.386903   \n",
       "1979-01-04 18:00:00  -37  142  0.161203  1.844996  1.852025    4.993413   \n",
       "1979-01-05 00:00:00  -37  142  0.668968 -2.058272  2.164256  161.995101   \n",
       "1979-01-05 06:00:00  -37  142  5.848347 -2.689469  6.437111  114.696202   \n",
       "1979-01-05 12:00:00  -37  142  2.007938  4.692427  5.103987   23.166588   \n",
       "1979-01-05 18:00:00  -37  142  0.208533  3.732341  3.738162    3.197901   \n",
       "1979-01-06 00:00:00  -37  142  0.755174  1.776234  1.930102   23.032996   \n",
       "1979-01-06 06:00:00  -37  142  3.419903  2.026876  3.975420   59.346017   \n",
       "1979-01-06 12:00:00  -37  142 -1.617897  2.188543  2.721638  323.526059   \n",
       "1979-01-06 18:00:00  -37  142 -1.664636 -0.796610  1.845427  244.426597   \n",
       "1979-01-07 00:00:00  -37  142  5.305941 -0.446401  5.324686   94.809097   \n",
       "1979-01-07 06:00:00  -37  142  4.864005  3.872219  6.217124   51.476814   \n",
       "1979-01-07 12:00:00  -37  142  0.185721  2.629028  2.635580    4.040802   \n",
       "1979-01-07 18:00:00  -37  142 -1.109085  1.209737  1.641199  317.485443   \n",
       "1979-01-08 00:00:00  -37  142  1.081951 -1.677796  1.996401  147.183473   \n",
       "1979-01-08 06:00:00  -37  142  3.494763 -1.251404  3.712059  109.701415   \n",
       "...                  ...  ...       ...       ...       ...         ...   \n",
       "2017-01-24 12:00:00  -37  142  0.158407  4.166090  4.169100    2.177509   \n",
       "2017-01-24 18:00:00  -37  142 -2.957260  3.251891  4.395473  317.716709   \n",
       "2017-01-25 00:00:00  -37  142 -0.350530  1.626390  1.663735  347.837306   \n",
       "2017-01-25 06:00:00  -37  142  1.234795  3.913999  4.104157   17.509527   \n",
       "2017-01-25 12:00:00  -37  142  0.445650  3.932140  3.957314    6.466045   \n",
       "2017-01-25 18:00:00  -37  142  0.355497  3.221511  3.241066    6.297171   \n",
       "2017-01-26 00:00:00  -37  142  0.168940  3.696512  3.700371    2.616741   \n",
       "2017-01-26 06:00:00  -37  142  0.878166  4.509708  4.594415   11.019190   \n",
       "2017-01-26 12:00:00  -37  142 -0.163301  3.509521  3.513318  357.335896   \n",
       "2017-01-26 18:00:00  -37  142 -1.489826  1.698988  2.259678  318.752795   \n",
       "2017-01-27 00:00:00  -37  142 -0.403659  0.702776  0.810453  330.127905   \n",
       "2017-01-27 06:00:00  -37  142  1.056683  1.896080  2.170645   29.130864   \n",
       "2017-01-27 12:00:00  -37  142  0.419535  2.297181  2.335177   10.349877   \n",
       "2017-01-27 18:00:00  -37  142 -0.478612  0.828990  0.957232  330.000269   \n",
       "2017-01-28 00:00:00  -37  142  2.773838  1.703583  3.255207   58.443371   \n",
       "2017-01-28 06:00:00  -37  142  2.460422  3.344078  4.151691   36.343966   \n",
       "2017-01-28 12:00:00  -37  142  0.002239  3.024347  3.024348    0.042411   \n",
       "2017-01-28 18:00:00  -37  142 -1.268870  1.701746  2.122727  323.290739   \n",
       "2017-01-29 00:00:00  -37  142  0.648402  0.470279  0.800992   54.047073   \n",
       "2017-01-29 06:00:00  -37  142  1.893609  1.053169  2.166777   60.918501   \n",
       "2017-01-29 12:00:00  -37  142 -0.278813  1.303914  1.333390  347.930320   \n",
       "2017-01-29 18:00:00  -37  142  0.294985 -3.680931  3.692732  175.418177   \n",
       "2017-01-30 00:00:00  -37  142  4.768332 -0.961404  4.864287  101.399300   \n",
       "2017-01-30 06:00:00  -37  142  4.578432  1.651864  4.867309   70.160933   \n",
       "2017-01-30 12:00:00  -37  142  2.770044  3.889739  4.775271   35.456243   \n",
       "2017-01-30 18:00:00  -37  142  2.898276  3.718174  4.714321   37.936029   \n",
       "2017-01-31 00:00:00  -37  142  1.792833  3.724797  4.133808   25.702616   \n",
       "2017-01-31 06:00:00  -37  142  3.042021  4.574470  5.493602   33.623893   \n",
       "2017-01-31 12:00:00  -37  142  0.268320  3.251488  3.262540    4.717485   \n",
       "2017-01-31 18:00:00  -37  142 -2.229434  1.591269  2.739072  305.517535   \n",
       "\n",
       "                         date  HrMn  \n",
       "time                                 \n",
       "1979-01-01 00:00:00  19790101  0000  \n",
       "1979-01-01 06:00:00  19790101  0600  \n",
       "1979-01-01 12:00:00  19790101  1200  \n",
       "1979-01-01 18:00:00  19790101  1800  \n",
       "1979-01-02 00:00:00  19790102  0000  \n",
       "1979-01-02 06:00:00  19790102  0600  \n",
       "1979-01-02 12:00:00  19790102  1200  \n",
       "1979-01-02 18:00:00  19790102  1800  \n",
       "1979-01-03 00:00:00  19790103  0000  \n",
       "1979-01-03 06:00:00  19790103  0600  \n",
       "1979-01-03 12:00:00  19790103  1200  \n",
       "1979-01-03 18:00:00  19790103  1800  \n",
       "1979-01-04 00:00:00  19790104  0000  \n",
       "1979-01-04 06:00:00  19790104  0600  \n",
       "1979-01-04 12:00:00  19790104  1200  \n",
       "1979-01-04 18:00:00  19790104  1800  \n",
       "1979-01-05 00:00:00  19790105  0000  \n",
       "1979-01-05 06:00:00  19790105  0600  \n",
       "1979-01-05 12:00:00  19790105  1200  \n",
       "1979-01-05 18:00:00  19790105  1800  \n",
       "1979-01-06 00:00:00  19790106  0000  \n",
       "1979-01-06 06:00:00  19790106  0600  \n",
       "1979-01-06 12:00:00  19790106  1200  \n",
       "1979-01-06 18:00:00  19790106  1800  \n",
       "1979-01-07 00:00:00  19790107  0000  \n",
       "1979-01-07 06:00:00  19790107  0600  \n",
       "1979-01-07 12:00:00  19790107  1200  \n",
       "1979-01-07 18:00:00  19790107  1800  \n",
       "1979-01-08 00:00:00  19790108  0000  \n",
       "1979-01-08 06:00:00  19790108  0600  \n",
       "...                       ...   ...  \n",
       "2017-01-24 12:00:00  20170124  1200  \n",
       "2017-01-24 18:00:00  20170124  1800  \n",
       "2017-01-25 00:00:00  20170125  0000  \n",
       "2017-01-25 06:00:00  20170125  0600  \n",
       "2017-01-25 12:00:00  20170125  1200  \n",
       "2017-01-25 18:00:00  20170125  1800  \n",
       "2017-01-26 00:00:00  20170126  0000  \n",
       "2017-01-26 06:00:00  20170126  0600  \n",
       "2017-01-26 12:00:00  20170126  1200  \n",
       "2017-01-26 18:00:00  20170126  1800  \n",
       "2017-01-27 00:00:00  20170127  0000  \n",
       "2017-01-27 06:00:00  20170127  0600  \n",
       "2017-01-27 12:00:00  20170127  1200  \n",
       "2017-01-27 18:00:00  20170127  1800  \n",
       "2017-01-28 00:00:00  20170128  0000  \n",
       "2017-01-28 06:00:00  20170128  0600  \n",
       "2017-01-28 12:00:00  20170128  1200  \n",
       "2017-01-28 18:00:00  20170128  1800  \n",
       "2017-01-29 00:00:00  20170129  0000  \n",
       "2017-01-29 06:00:00  20170129  0600  \n",
       "2017-01-29 12:00:00  20170129  1200  \n",
       "2017-01-29 18:00:00  20170129  1800  \n",
       "2017-01-30 00:00:00  20170130  0000  \n",
       "2017-01-30 06:00:00  20170130  0600  \n",
       "2017-01-30 12:00:00  20170130  1200  \n",
       "2017-01-30 18:00:00  20170130  1800  \n",
       "2017-01-31 00:00:00  20170131  0000  \n",
       "2017-01-31 06:00:00  20170131  0600  \n",
       "2017-01-31 12:00:00  20170131  1200  \n",
       "2017-01-31 18:00:00  20170131  1800  \n",
       "\n",
       "[55644 rows x 8 columns]"
      ]
     },
     "execution_count": 2,
     "metadata": {},
     "output_type": "execute_result"
    }
   ],
   "source": [
    "# file_path='47N123W.csv'\n",
    "# file_path='8N293E.csv'\n",
    "# file_path='52S75W.csv'\n",
    "# file_path='52S75W.csv'\n",
    "# file_path='65N17W.csv'\n",
    "# file_path='18N32E.csv'\n",
    "# file_path='24N121E.csv'\n",
    "file_path='37S142E.csv'\n",
    "\n",
    "df = pd.read_csv(file_path, header=0, skipinitialspace=True)\n",
    "df.rename(columns={'U':'x','V':'y'}, inplace=True)\n",
    "df['speed']=np.sqrt(df.x**2+df.y**2)\n",
    "df['dir']=np.degrees(np.arctan2(df.x, df.y))%360\n",
    "df['time']=pd.to_datetime('1979-01-01T00:00:00Z')+pd.to_timedelta(df['time'], unit='h')\n",
    "df['date']=df['time'].dt.strftime('%Y%m%d')\n",
    "df['HrMn']=df['time'].dt.strftime('%H00')\n",
    "df.set_index(['time'], inplace=True)\n",
    "\n",
    "df"
   ]
  },
  {
   "cell_type": "code",
   "execution_count": 3,
   "metadata": {
    "collapsed": false
   },
   "outputs": [
    {
     "data": {
      "text/plain": [
       "<matplotlib.axes._subplots.AxesSubplot at 0xcc0b3c8>"
      ]
     },
     "execution_count": 3,
     "metadata": {},
     "output_type": "execute_result"
    },
    {
     "data": {
      "application/pdf": "[encoded data removed]",
      "image/png": "[encoded data removed]",
      "text/plain": [
       "<matplotlib.figure.Figure at 0xc99fe10>"
      ]
     },
     "metadata": {},
     "output_type": "display_data"
    },
    {
     "data": {
      "application/pdf": "[encoded data removed]",
      "image/png": "[encoded data removed]",
      "text/plain": [
       "<matplotlib.figure.Figure at 0xc9bada0>"
      ]
     },
     "metadata": {},
     "output_type": "display_data"
    }
   ],
   "source": [
    "bins=arange(0,df.speed.max(),0.5)\n",
    "df['speed'].hist(bins=bins)\n",
    "\n",
    "plt.figure()\n",
    "bins=arange(0,361)\n",
    "df['dir'].hist(bins=bins)"
   ]
  },
  {
   "cell_type": "code",
   "execution_count": 4,
   "metadata": {
    "collapsed": false
   },
   "outputs": [
    {
     "data": {
      "text/plain": [
       "<matplotlib.axes._subplots.AxesSubplot at 0xc3b0cf8>"
      ]
     },
     "execution_count": 4,
     "metadata": {},
     "output_type": "execute_result"
    },
    {
     "data": {
      "application/pdf": "[encoded data removed]",
      "image/png": "[encoded data removed]",
      "text/plain": [
       "<matplotlib.figure.Figure at 0xbd64f28>"
      ]
     },
     "metadata": {},
     "output_type": "display_data"
    }
   ],
   "source": [
    "df['2011':'2015']['speed'].hist(bins=arange(0,df.speed.max(),0.5))"
   ]
  },
  {
   "cell_type": "code",
   "execution_count": 5,
   "metadata": {
    "collapsed": false
   },
   "outputs": [
    {
     "data": {
      "text/plain": [
       "<matplotlib.axes._subplots.AxesSubplot at 0xd285710>"
      ]
     },
     "execution_count": 5,
     "metadata": {},
     "output_type": "execute_result"
    },
    {
     "data": {
      "application/pdf": "[encoded data removed]",
      "image/png": "[encoded data removed]",
      "text/plain": [
       "<matplotlib.figure.Figure at 0xd1ed630>"
      ]
     },
     "metadata": {},
     "output_type": "display_data"
    }
   ],
   "source": [
    "df['2011':'2015']['dir'].hist()"
   ]
  },
  {
   "cell_type": "code",
   "execution_count": 6,
   "metadata": {
    "collapsed": false
   },
   "outputs": [
    {
     "ename": "NameError",
     "evalue": "name 'sss' is not defined",
     "output_type": "error",
     "traceback": [
      "\u001b[0;31m---------------------------------------------------------------------------\u001b[0m",
      "\u001b[0;31mNameError\u001b[0m                                 Traceback (most recent call last)",
      "\u001b[0;32m<ipython-input-6-fe4c174cecf0>\u001b[0m in \u001b[0;36m<module>\u001b[0;34m()\u001b[0m\n\u001b[0;32m----> 1\u001b[0;31m \u001b[0msss\u001b[0m\u001b[1;33m\u001b[0m\u001b[0m\n\u001b[0m",
      "\u001b[0;31mNameError\u001b[0m: name 'sss' is not defined"
     ]
    }
   ],
   "source": [
    "sss"
   ]
  },
  {
   "cell_type": "markdown",
   "metadata": {},
   "source": [
    "# 2. NDAWN Dataset"
   ]
  },
  {
   "cell_type": "code",
   "execution_count": null,
   "metadata": {
    "collapsed": false
   },
   "outputs": [],
   "source": [
    "# file_dir = 'D:/NDAWN/fargo/'\n",
    "# file_dir = 'D:/NDAWN/grand_forks/'\n",
    "# file_dir = 'D:/NDAWN/williston/'\n",
    "# file_dir = 'D:/NDAWN/jamestown/'\n",
    "# file_dir = 'D:/NDAWN/minot/'\n",
    "file_dir = './data/NDAWN/dickinson/'\n",
    "\n",
    "file_path = file_dir+'table.csv'\n",
    "save_file_path  = file_dir+'hr_avg.csv'\n",
    "df = pd.read_csv(file_path, skipinitialspace=True, dtype={'Year':'object', 'Month':'object', \n",
    "                                                          'Day':'object'})\n",
    "df"
   ]
  },
  {
   "cell_type": "code",
   "execution_count": null,
   "metadata": {
    "collapsed": false
   },
   "outputs": [],
   "source": [
    "df.describe()"
   ]
  },
  {
   "cell_type": "code",
   "execution_count": null,
   "metadata": {
    "collapsed": false
   },
   "outputs": [],
   "source": [
    "## Output format: date, HrMn, dir, speed, speed_max\n",
    "df['HrMn']=df['Hour'].apply(lambda x: \"%04d\"%x ) \n",
    "df['date']=df['Year']+df['Month']+df['Day']\n",
    "df = df[['date','HrMn','Avg Wind Speed', 'Max Wind Speed', 'Avg Wind Dir', 'Avg Wind Dir SD']]\n",
    "df.rename(columns={'Avg Wind Speed': 'speed', 'Max Wind Speed': 'speed_max', \n",
    "                   'Avg Wind Dir': 'dir', 'Avg Wind Dir SD': 'dir_std'}, inplace=True)"
   ]
  },
  {
   "cell_type": "code",
   "execution_count": null,
   "metadata": {
    "collapsed": false
   },
   "outputs": [],
   "source": [
    "df"
   ]
  },
  {
   "cell_type": "code",
   "execution_count": null,
   "metadata": {
    "collapsed": false
   },
   "outputs": [],
   "source": [
    "## too slow, need optimization\n",
    "import datetime as dt\n",
    "\n",
    "def my_to_datetime(date_str):\n",
    "    if date_str[8:10] != '24':\n",
    "        return pd.to_datetime(date_str, format='%Y%m%d%H%M')\n",
    "\n",
    "    date_str = date_str[0:8] + '00' + date_str[10:]\n",
    "    return pd.to_datetime(date_str, format='%Y%m%d%H%M') + \\\n",
    "           dt.timedelta(days=1)\n",
    "   \n",
    "df['time']=df[\"date\"].astype(str).map(str)+df[\"HrMn\"]\n",
    "df['time']=df['time'].apply(my_to_datetime)\n",
    "df['date']=df['time'].apply(lambda x: x.strftime('%Y%m%d'))\n",
    "df['HrMn']=df['time'].apply(lambda x: x.strftime('%H%M'))"
   ]
  },
  {
   "cell_type": "code",
   "execution_count": null,
   "metadata": {
    "collapsed": false
   },
   "outputs": [],
   "source": [
    "df.speed.value_counts().sort_index()"
   ]
  },
  {
   "cell_type": "code",
   "execution_count": null,
   "metadata": {
    "collapsed": false
   },
   "outputs": [],
   "source": [
    "bins=arange(0,df['speed'].max())\n",
    "df['speed'].hist(bins=bins, normed=True,alpha=0.5,label='min')\n",
    "plt_configure(legend=True)\n",
    "\n",
    "plt.figure()\n",
    "bins=arange(0,362)\n",
    "df['dir'].hist(bins=bins, normed=True,alpha=0.5,label='min')\n",
    "plt_configure(legend=True, figsize=(20,4))"
   ]
  },
  {
   "cell_type": "code",
   "execution_count": null,
   "metadata": {
    "collapsed": true
   },
   "outputs": [],
   "source": [
    "df.to_csv(save_file_path, index=False, float_format='%.2f')"
   ]
  },
  {
   "cell_type": "code",
   "execution_count": null,
   "metadata": {
    "collapsed": false
   },
   "outputs": [],
   "source": [
    "sss"
   ]
  },
  {
   "cell_type": "markdown",
   "metadata": {},
   "source": [
    "# 1. US ASOS Dataset"
   ]
  },
  {
   "cell_type": "markdown",
   "metadata": {},
   "source": [
    "## 1.1 Combining Files"
   ]
  },
  {
   "cell_type": "code",
   "execution_count": null,
   "metadata": {
    "collapsed": true
   },
   "outputs": [],
   "source": [
    "# file_dir, save_file_dir  = 'TOP' , 'TOP' # high 0\n",
    "# file_dir, save_file_dir = 'DEN', './data/asos/denver'\n",
    "\n",
    "# file_dir, save_file_dir = 'BIS', './data/asos/bismarck_ND'\n",
    "# file_dir, save_file_dir = 'ABR', './data/asos/aberdeen_SD' # only to 2012\n",
    "# file_dir, save_file_dir = 'MSP', './data/asos/minneapolis'\n",
    "\n",
    "# file_dir, save_file_dir = 'LNK', './data/asos/lincoln_NE'\n",
    "# file_dir, save_file_dir = 'DSM', './data/asos/des_moines_IA'\n",
    "# file_dir, save_file_dir = 'SPI', './data/asos/springfield_IL'"
   ]
  },
  {
   "cell_type": "code",
   "execution_count": null,
   "metadata": {
    "collapsed": false
   },
   "outputs": [],
   "source": [
    "from io import StringIO\n",
    "\n",
    "fout = StringIO()\n",
    "for year in range(2000,2017):\n",
    "    for month in range(1,13):\n",
    "        try: \n",
    "            for line in open('D:/1min采样间隔的数据/'+ str(year) + '/'+ file_dir +str(year)+\"%02d\"%(month)+\".dat\"):\n",
    "                fout.write(line.replace(\"[\", \" \").replace(\"]\", \" \").replace('\"', \" \").replace('`', \" \"))\n",
    "        except: \n",
    "            pass\n",
    "all_data_file = fout.getvalue()\n",
    "fout.close()"
   ]
  },
  {
   "cell_type": "markdown",
   "metadata": {
    "collapsed": true
   },
   "source": [
    "## 1.2 Read from US 1 min"
   ]
  },
  {
   "cell_type": "code",
   "execution_count": null,
   "metadata": {
    "collapsed": false
   },
   "outputs": [],
   "source": [
    "if file_dir in [\"MSP\", 'DEN']: \n",
    "    df = pd.read_csv(StringIO(all_data_file), skipinitialspace=True, error_bad_lines=False, sep=' ',\n",
    "                    names = ['stationID','time','vis','day_type','vis2','day_type2','dir','speed','dir_max','speed_max','visual_range', 'unknown'])\n",
    "else:\n",
    "    df = pd.read_csv(StringIO(all_data_file), skipinitialspace=True, sep=' ', error_bad_lines=False,\n",
    "                    names = ['stationID','time','vis','day_type','dir','speed','dir_max','speed_max','unname','visual_range', 'unknown'])\n",
    "\n",
    "df"
   ]
  },
  {
   "cell_type": "code",
   "execution_count": null,
   "metadata": {
    "collapsed": false
   },
   "outputs": [],
   "source": [
    "# Drop duplicate\n",
    "df.drop_duplicates(subset='time', inplace=True)\n",
    "\n",
    "# Drop too many field\n",
    "df = df[df['unknown'].isnull()].copy()\n",
    "df.drop('unknown', axis=1, inplace=True)\n",
    "\n",
    "# Drop missing field\n",
    "# Cannot use visual range, since some previous data lack of\n",
    "df.dropna(subset=['vis', 'dir','speed','dir_max','speed_max'], inplace=True)\n",
    "\n",
    "df"
   ]
  },
  {
   "cell_type": "code",
   "execution_count": null,
   "metadata": {
    "collapsed": false
   },
   "outputs": [],
   "source": [
    "df['year_month'] = df['time'].apply(lambda x: x[3:9])\n",
    "df['year_month'].value_counts().sort_index().plot(kind='bar', figsize=(20,4))"
   ]
  },
  {
   "cell_type": "code",
   "execution_count": null,
   "metadata": {
    "collapsed": false
   },
   "outputs": [],
   "source": [
    "# Drop non-integer data for direction\n",
    "df.dir = pd.to_numeric(df.dir, errors='coerce')  # Drop not a number\n",
    "df = df[df.dir == df.dir // 1] # Drop not an integer\n",
    "df = df[df['dir'].isin(arange(0,361))] # Drop not in range\n",
    "df['dir'] = df['dir'].apply(lambda x: int(x)) # Convert back to integer\n",
    "# Need to consider 0\n",
    "\n",
    "display(df.dir.value_counts().sort_index())\n",
    "df.dir.value_counts().sort_index().plot(kind='bar', figsize=(20,4))"
   ]
  },
  {
   "cell_type": "code",
   "execution_count": null,
   "metadata": {
    "collapsed": false
   },
   "outputs": [],
   "source": [
    "# Drop non-integer data for speed\n",
    "df.speed = pd.to_numeric(df.speed, errors='coerce')\n",
    "df = df[df.speed == df.speed // 1]\n",
    "df['speed'] = df['speed'].apply(lambda x: int(x))\n",
    "\n",
    "display(df.speed.value_counts().sort_index())\n",
    "df.speed.value_counts().sort_index().plot(kind='bar', figsize=(20,4))"
   ]
  },
  {
   "cell_type": "code",
   "execution_count": null,
   "metadata": {
    "collapsed": false
   },
   "outputs": [],
   "source": [
    "df.query('(speed > 100) | (speed <0 )')"
   ]
  },
  {
   "cell_type": "code",
   "execution_count": null,
   "metadata": {
    "collapsed": false
   },
   "outputs": [],
   "source": [
    "df = df.query('(speed <= 100)  & (speed >= 0)')\n",
    "df = df[df['day_type'].str.contains(\"D|N\") == True]\n",
    "df['vis']=pd.to_numeric(df['vis'], errors='coerce')\n",
    "df = df.dropna(subset=['vis'])\n",
    "\n",
    "df['year_month'].value_counts().sort_index().plot(kind='bar', figsize=(20,4))"
   ]
  },
  {
   "cell_type": "code",
   "execution_count": null,
   "metadata": {
    "collapsed": false
   },
   "outputs": [],
   "source": [
    "incre = 10\n",
    "max_speed = 40\n",
    "max_count = max_count_for_angles(df, 0, 360, incre)\n",
    "plot_range = [0, max_speed, 0, max_count*1.05]\n",
    "\n",
    "for angle in arange(0, 360, incre):\n",
    "    start_angle, end_angle = angle-incre/2, angle+incre/2\n",
    "    sub_df, sub_max_speed = select_df_by_angle(df, start_angle, end_angle)   \n",
    "    \n",
    "    fig = plt.figure()\n",
    "    sub_df['speed'].hist(bins=arange(0, max_speed), alpha=0.5, label='Data')\n",
    "    plt.axis(plot_range)\n",
    "    plt_configure(figsize=(3,1.5), title='%s (%s - %s), %s' %(angle, start_angle, end_angle, len(sub_df)) )\n",
    "align_figures()"
   ]
  },
  {
   "cell_type": "code",
   "execution_count": null,
   "metadata": {
    "collapsed": true
   },
   "outputs": [],
   "source": [
    "# Create Output csv\n",
    "\n",
    "df['HrMn'] = df['time'].apply(lambda x: x[11:15])\n",
    "df['date'] = df['time'].apply(lambda x: x[3:11])\n",
    "df['time'] = df['date'].apply(lambda x: x[3:])\n",
    "\n",
    "df=df[['stationID','date','HrMn', 'vis','day_type','dir','speed','dir_max','speed_max']]\n",
    "df.to_csv(save_file_dir + '/minute_avg.csv', index=False)"
   ]
  },
  {
   "cell_type": "markdown",
   "metadata": {},
   "source": [
    "## 1.3 US 1 min to Hour avg"
   ]
  },
  {
   "cell_type": "code",
   "execution_count": null,
   "metadata": {
    "collapsed": false
   },
   "outputs": [],
   "source": [
    "print(file_dir)"
   ]
  },
  {
   "cell_type": "code",
   "execution_count": null,
   "metadata": {
    "collapsed": false
   },
   "outputs": [],
   "source": [
    "## Output format: date, HrMn, dir, speed, speed_max\n",
    "\n",
    "if 'df' not in globals():\n",
    "    df = pd.read_csv(save_file_dir + '/minute_avg.csv', header=0, skipinitialspace=True, dtype={'HrMn': object})\n",
    "\n",
    "df['date']=pd.to_numeric(df['date'], errors='coerce')\n",
    "df['speed']=pd.to_numeric(df['speed'], errors='coerce')\n",
    "df['dir']=pd.to_numeric(df['dir'], errors='coerce')\n",
    "df['speed_max']=pd.to_numeric(df['speed_max'], downcast='integer', errors='coerce')\n",
    "df = df.dropna()\n",
    "df=df[['date','HrMn','dir','speed','speed_max']]\n",
    "df"
   ]
  },
  {
   "cell_type": "code",
   "execution_count": null,
   "metadata": {
    "collapsed": false
   },
   "outputs": [],
   "source": [
    "df['Hr']=df['HrMn'].apply(lambda x: int(str(x)[:-2]))\n",
    "df['x'] = df['speed'] * cos(df['dir'] * pi / 180.0)\n",
    "df['y'] = df['speed'] * sin(df['dir'] * pi / 180.0)\n",
    "temp_df = df.groupby(['date', 'Hr']).agg({'x' : np.mean,'y': np.mean,'speed_max': np.max}).reset_index()\n",
    "temp_df['speed']=np.sqrt(temp_df.x**2 + temp_df.y**2)\n",
    "temp_df['dir']=np.degrees(np.arctan2(temp_df.y, temp_df.x))%360\n",
    "temp_df['HrMn']=temp_df['Hr'].apply(lambda x: \"%02d00\"%x)\n",
    "temp_df.drop(['Hr', 'x','y'], 1, inplace=True)"
   ]
  },
  {
   "cell_type": "markdown",
   "metadata": {},
   "source": [
    "### Time Comparison"
   ]
  },
  {
   "cell_type": "code",
   "execution_count": null,
   "metadata": {
    "collapsed": false
   },
   "outputs": [],
   "source": [
    "bins=arange(0,40)\n",
    "df['speed'].hist(bins=bins, normed=True,alpha=0.5,label='min')\n",
    "temp_df['speed'].hist(bins=bins, normed=True,alpha=0.5,label='hour')\n",
    "plt_configure(legend=True)"
   ]
  },
  {
   "cell_type": "code",
   "execution_count": null,
   "metadata": {
    "collapsed": false
   },
   "outputs": [],
   "source": [
    "bins=arange(0,362)\n",
    "df['dir'].hist(bins=bins, normed=True,alpha=0.5,label='min')\n",
    "temp_df['dir'].hist(bins=bins, normed=True,alpha=0.5,label='hour')\n",
    "plt_configure(legend=True, figsize=(20,4))"
   ]
  },
  {
   "cell_type": "code",
   "execution_count": null,
   "metadata": {
    "collapsed": false
   },
   "outputs": [],
   "source": [
    "bins=arange(0,370,5)\n",
    "df['dir'].hist(bins=bins, normed=True,alpha=0.5,label='min')\n",
    "temp_df['dir'].hist(bins=bins, normed=True,alpha=0.5,label='hour')\n",
    "plt_configure(legend=True, figsize=(20,4))"
   ]
  },
  {
   "cell_type": "markdown",
   "metadata": {},
   "source": [
    "### Resample Comparison"
   ]
  },
  {
   "cell_type": "code",
   "execution_count": null,
   "metadata": {
    "collapsed": false
   },
   "outputs": [],
   "source": [
    "bins=arange(0,362)\n",
    "for sample_size in [50000, 300000]:\n",
    "    plt.figure()\n",
    "    df['dir'].hist(bins=bins, normed=True,alpha=0.5,label='min')\n",
    "    df.sample(n=sample_size, replace=True)['dir'].hist(bins=bins, normed=True,alpha=0.5,label='min_resampled')\n",
    "    plt_configure(legend=True, figsize=(20,4))"
   ]
  },
  {
   "cell_type": "markdown",
   "metadata": {},
   "source": [
    "### Direction Comparison"
   ]
  },
  {
   "cell_type": "code",
   "execution_count": null,
   "metadata": {
    "collapsed": false
   },
   "outputs": [],
   "source": [
    "incre = 10\n",
    "max_speed = temp_df.speed.max()\n",
    "\n",
    "for angle in arange(0, 360, incre):\n",
    "    start_angle, end_angle = angle-incre/2, angle+incre/2\n",
    "    sub_df, _ = select_df_by_angle(df, start_angle, end_angle)\n",
    "    sub_df_hourly, _ = select_df_by_angle(temp_df, start_angle, end_angle)   \n",
    "\n",
    "    fig = plt.figure()\n",
    "    bins = arange(0, max_speed)\n",
    "    sub_df['speed'].hist(bins=bins, alpha=0.5, label='min', normed=True)\n",
    "    sub_df_hourly['speed'].hist(bins=bins, alpha=0.5, label='hour', normed=True)\n",
    "    plt.gca().set_xlim([0, max_speed])\n",
    "    plt_configure(figsize=(3,1.5), legend=True, title='%s (%s - %s), %s/%s' %(angle, start_angle, end_angle, len(sub_df),len(sub_df_hourly)))\n",
    "align_figures()"
   ]
  },
  {
   "cell_type": "code",
   "execution_count": null,
   "metadata": {
    "collapsed": false
   },
   "outputs": [],
   "source": [
    "check_time_shift(df)\n",
    "check_time_shift(temp_df)"
   ]
  },
  {
   "cell_type": "code",
   "execution_count": null,
   "metadata": {
    "collapsed": true
   },
   "outputs": [],
   "source": [
    "temp_df.to_csv(save_file_dir + '/hr_avg.csv', index=False, float_format='%.2f')"
   ]
  },
  {
   "cell_type": "code",
   "execution_count": null,
   "metadata": {
    "collapsed": false
   },
   "outputs": [],
   "source": [
    "sss"
   ]
  },
  {
   "cell_type": "markdown",
   "metadata": {
    "collapsed": true
   },
   "source": [
    "# 3. Read from Chinese Data sets"
   ]
  },
  {
   "cell_type": "code",
   "execution_count": null,
   "metadata": {
    "collapsed": true
   },
   "outputs": [],
   "source": []
  },
  {
   "cell_type": "code",
   "execution_count": null,
   "metadata": {
    "collapsed": true
   },
   "outputs": [],
   "source": [
    "import csv\n",
    "\n",
    "ipath= \"./data/NCDC/cn/上海/上海/dat.txt\"\n",
    "uipath = unicode(ipath , \"utf8\")\n",
    "\n",
    "with open(uipath) as fin, open('./data/NCDC/test.txt', 'w') as fout:\n",
    "    o=csv.writer(fout)\n",
    "    for line in fin:\n",
    "        o.writerow(line.split())"
   ]
  }
 ],
 "metadata": {
  "kernelspec": {
   "display_name": "Python 3",
   "language": "python",
   "name": "python3"
  },
  "language_info": {
   "codemirror_mode": {
    "name": "ipython",
    "version": 3
   },
   "file_extension": ".py",
   "mimetype": "text/x-python",
   "name": "python",
   "nbconvert_exporter": "python",
   "pygments_lexer": "ipython3",
   "version": "3.6.0"
  }
 },
 "nbformat": 4,
 "nbformat_minor": 0
}
