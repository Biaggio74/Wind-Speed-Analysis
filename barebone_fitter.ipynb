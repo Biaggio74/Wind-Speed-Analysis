{
 "cells": [
  {
   "cell_type": "code",
   "execution_count": 1,
   "metadata": {},
   "outputs": [],
   "source": [
    "%matplotlib inline\n",
    "%load_ext autoreload\n",
    "%autoreload 2\n",
    "from import_file import *\n",
    "# load_libs()"
   ]
  },
  {
   "cell_type": "markdown",
   "metadata": {},
   "source": [
    "# 1. Initial Input"
   ]
  },
  {
   "cell_type": "code",
   "execution_count": 2,
   "metadata": {},
   "outputs": [],
   "source": [
    "NUMBER_OF_GAUSSIAN = 3\n",
    "KNOT_UNIT, BIN_WIDTH = False, 0.5 "
   ]
  },
  {
   "cell_type": "code",
   "execution_count": 3,
   "metadata": {},
   "outputs": [],
   "source": [
    "input_file='./data/barebone_dat.csv'\n",
    "df = pd.read_csv(input_file, header=0)"
   ]
  },
  {
   "cell_type": "markdown",
   "metadata": {},
   "source": [
    "# 2. Fit Config Generation"
   ]
  },
  {
   "cell_type": "code",
   "execution_count": 4,
   "metadata": {},
   "outputs": [],
   "source": [
    "# Grid Generation\n",
    "df['speed']=np.sqrt(df.x**2+df.y**2)\n",
    "FIT_LIMIT = ceil(df['speed'].quantile(.95))\n",
    "\n",
    "fitting_axis_range = arange(-FIT_LIMIT, FIT_LIMIT+BIN_WIDTH, BIN_WIDTH)\n",
    "FITTING_RANGE = [[i,j] for i in fitting_axis_range \n",
    "                 for j in fitting_axis_range]"
   ]
  },
  {
   "cell_type": "code",
   "execution_count": 5,
   "metadata": {},
   "outputs": [],
   "source": [
    "bandwidth, fig = bandwidth_selection(df, KNOT_UNIT)"
   ]
  },
  {
   "cell_type": "code",
   "execution_count": 6,
   "metadata": {},
   "outputs": [],
   "source": [
    "config = create_gmm_config(bandwidth, FITTING_RANGE, FIT_LIMIT, BIN_WIDTH)"
   ]
  },
  {
   "cell_type": "markdown",
   "metadata": {},
   "source": [
    "# 3. Fit Gmm"
   ]
  },
  {
   "cell_type": "code",
   "execution_count": 7,
   "metadata": {},
   "outputs": [],
   "source": [
    "result = fit_gmm(df, config=config, number_of_gaussian=NUMBER_OF_GAUSSIAN)"
   ]
  },
  {
   "cell_type": "code",
   "execution_count": 8,
   "metadata": {},
   "outputs": [
    {
     "data": {
      "text/html": [
       "<div>\n",
       "<style>\n",
       "    .dataframe thead tr:only-child th {\n",
       "        text-align: right;\n",
       "    }\n",
       "\n",
       "    .dataframe thead th {\n",
       "        text-align: left;\n",
       "    }\n",
       "\n",
       "    .dataframe tbody tr th {\n",
       "        vertical-align: top;\n",
       "    }\n",
       "</style>\n",
       "<table border=\"1\" class=\"dataframe\">\n",
       "  <thead>\n",
       "    <tr style=\"text-align: right;\">\n",
       "      <th></th>\n",
       "      <th>weight</th>\n",
       "      <th>mean_x</th>\n",
       "      <th>mean_y</th>\n",
       "      <th>sig_x</th>\n",
       "      <th>sig_y</th>\n",
       "      <th>corr</th>\n",
       "    </tr>\n",
       "  </thead>\n",
       "  <tbody>\n",
       "    <tr>\n",
       "      <th>1</th>\n",
       "      <td>0.698</td>\n",
       "      <td>-1.817</td>\n",
       "      <td>2.049</td>\n",
       "      <td>3.258</td>\n",
       "      <td>3.386</td>\n",
       "      <td>-0.023</td>\n",
       "    </tr>\n",
       "    <tr>\n",
       "      <th>2</th>\n",
       "      <td>0.254</td>\n",
       "      <td>1.022</td>\n",
       "      <td>-3.891</td>\n",
       "      <td>2.450</td>\n",
       "      <td>2.739</td>\n",
       "      <td>0.299</td>\n",
       "    </tr>\n",
       "    <tr>\n",
       "      <th>3</th>\n",
       "      <td>0.048</td>\n",
       "      <td>-1.885</td>\n",
       "      <td>-1.201</td>\n",
       "      <td>1.069</td>\n",
       "      <td>1.773</td>\n",
       "      <td>-0.498</td>\n",
       "    </tr>\n",
       "  </tbody>\n",
       "</table>\n",
       "</div>"
      ],
      "text/plain": [
       "  weight  mean_x  mean_y  sig_x  sig_y    corr\n",
       "1  0.698  -1.817   2.049  3.258  3.386  -0.023\n",
       "2  0.254   1.022  -3.891  2.450  2.739   0.299\n",
       "3  0.048  -1.885  -1.201  1.069  1.773  -0.498"
      ]
     },
     "execution_count": 8,
     "metadata": {},
     "output_type": "execute_result"
    }
   ],
   "source": [
    "pretty_print_gmm(result['gmm'])"
   ]
  }
 ],
 "metadata": {
  "kernelspec": {
   "display_name": "Python 3",
   "language": "python",
   "name": "python3"
  },
  "language_info": {
   "codemirror_mode": {
    "name": "ipython",
    "version": 3
   },
   "file_extension": ".py",
   "mimetype": "text/x-python",
   "name": "python",
   "nbconvert_exporter": "python",
   "pygments_lexer": "ipython3",
   "version": "3.6.1"
  }
 },
 "nbformat": 4,
 "nbformat_minor": 2
}
